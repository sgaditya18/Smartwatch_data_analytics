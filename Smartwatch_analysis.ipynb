{
 "cells": [
  {
   "cell_type": "code",
   "execution_count": 69,
   "id": "7004b5e5",
   "metadata": {},
   "outputs": [],
   "source": [
    "import numpy as np \n",
    "import pandas as pd\n",
    "import plotly.express as px \n",
    "import plotly.graph_objects as go \n",
    "import datetime\n",
    "import matplotlib.pyplot as plt"
   ]
  },
  {
   "cell_type": "code",
   "execution_count": 16,
   "id": "6e766a68",
   "metadata": {},
   "outputs": [
    {
     "data": {
      "text/html": [
       "<div>\n",
       "<style scoped>\n",
       "    .dataframe tbody tr th:only-of-type {\n",
       "        vertical-align: middle;\n",
       "    }\n",
       "\n",
       "    .dataframe tbody tr th {\n",
       "        vertical-align: top;\n",
       "    }\n",
       "\n",
       "    .dataframe thead th {\n",
       "        text-align: right;\n",
       "    }\n",
       "</style>\n",
       "<table border=\"1\" class=\"dataframe\">\n",
       "  <thead>\n",
       "    <tr style=\"text-align: right;\">\n",
       "      <th></th>\n",
       "      <th>date</th>\n",
       "      <th>steps</th>\n",
       "      <th>distance</th>\n",
       "      <th>runDistance</th>\n",
       "      <th>calories</th>\n",
       "    </tr>\n",
       "  </thead>\n",
       "  <tbody>\n",
       "    <tr>\n",
       "      <th>0</th>\n",
       "      <td>2022-10-20</td>\n",
       "      <td>6664</td>\n",
       "      <td>5002</td>\n",
       "      <td>187</td>\n",
       "      <td>176</td>\n",
       "    </tr>\n",
       "    <tr>\n",
       "      <th>1</th>\n",
       "      <td>2022-10-21</td>\n",
       "      <td>6927</td>\n",
       "      <td>5136</td>\n",
       "      <td>309</td>\n",
       "      <td>182</td>\n",
       "    </tr>\n",
       "    <tr>\n",
       "      <th>2</th>\n",
       "      <td>2022-10-22</td>\n",
       "      <td>9035</td>\n",
       "      <td>6847</td>\n",
       "      <td>238</td>\n",
       "      <td>240</td>\n",
       "    </tr>\n",
       "    <tr>\n",
       "      <th>3</th>\n",
       "      <td>2022-10-23</td>\n",
       "      <td>1840</td>\n",
       "      <td>1265</td>\n",
       "      <td>219</td>\n",
       "      <td>51</td>\n",
       "    </tr>\n",
       "    <tr>\n",
       "      <th>4</th>\n",
       "      <td>2022-10-24</td>\n",
       "      <td>8066</td>\n",
       "      <td>5994</td>\n",
       "      <td>225</td>\n",
       "      <td>209</td>\n",
       "    </tr>\n",
       "    <tr>\n",
       "      <th>...</th>\n",
       "      <td>...</td>\n",
       "      <td>...</td>\n",
       "      <td>...</td>\n",
       "      <td>...</td>\n",
       "      <td>...</td>\n",
       "    </tr>\n",
       "    <tr>\n",
       "      <th>87</th>\n",
       "      <td>2023-01-15</td>\n",
       "      <td>6270</td>\n",
       "      <td>4931</td>\n",
       "      <td>184</td>\n",
       "      <td>182</td>\n",
       "    </tr>\n",
       "    <tr>\n",
       "      <th>88</th>\n",
       "      <td>2023-01-16</td>\n",
       "      <td>1919</td>\n",
       "      <td>1321</td>\n",
       "      <td>133</td>\n",
       "      <td>52</td>\n",
       "    </tr>\n",
       "    <tr>\n",
       "      <th>89</th>\n",
       "      <td>2023-01-17</td>\n",
       "      <td>11460</td>\n",
       "      <td>8681</td>\n",
       "      <td>145</td>\n",
       "      <td>298</td>\n",
       "    </tr>\n",
       "    <tr>\n",
       "      <th>90</th>\n",
       "      <td>2023-01-18</td>\n",
       "      <td>7813</td>\n",
       "      <td>5979</td>\n",
       "      <td>625</td>\n",
       "      <td>213</td>\n",
       "    </tr>\n",
       "    <tr>\n",
       "      <th>91</th>\n",
       "      <td>2023-01-19</td>\n",
       "      <td>5167</td>\n",
       "      <td>3950</td>\n",
       "      <td>185</td>\n",
       "      <td>140</td>\n",
       "    </tr>\n",
       "  </tbody>\n",
       "</table>\n",
       "<p>92 rows × 5 columns</p>\n",
       "</div>"
      ],
      "text/plain": [
       "          date  steps  distance  runDistance  calories\n",
       "0   2022-10-20   6664      5002          187       176\n",
       "1   2022-10-21   6927      5136          309       182\n",
       "2   2022-10-22   9035      6847          238       240\n",
       "3   2022-10-23   1840      1265          219        51\n",
       "4   2022-10-24   8066      5994          225       209\n",
       "..         ...    ...       ...          ...       ...\n",
       "87  2023-01-15   6270      4931          184       182\n",
       "88  2023-01-16   1919      1321          133        52\n",
       "89  2023-01-17  11460      8681          145       298\n",
       "90  2023-01-18   7813      5979          625       213\n",
       "91  2023-01-19   5167      3950          185       140\n",
       "\n",
       "[92 rows x 5 columns]"
      ]
     },
     "execution_count": 16,
     "metadata": {},
     "output_type": "execute_result"
    }
   ],
   "source": [
    "##Loading Activity data\n",
    "activity= pd.read_csv(\"Activity/Activity.csv\")\n",
    "activity"
   ]
  },
  {
   "cell_type": "code",
   "execution_count": 8,
   "id": "87d6a9aa",
   "metadata": {},
   "outputs": [
    {
     "data": {
      "text/plain": [
       "steps          0\n",
       "distance       0\n",
       "runDistance    0\n",
       "calories       0\n",
       "dtype: int64"
      ]
     },
     "execution_count": 8,
     "metadata": {},
     "output_type": "execute_result"
    }
   ],
   "source": [
    "##checking if the data has null values \n",
    "activity.isnull().sum()"
   ]
  },
  {
   "cell_type": "code",
   "execution_count": 9,
   "id": "0b36e11f",
   "metadata": {},
   "outputs": [
    {
     "data": {
      "text/html": [
       "<div>\n",
       "<style scoped>\n",
       "    .dataframe tbody tr th:only-of-type {\n",
       "        vertical-align: middle;\n",
       "    }\n",
       "\n",
       "    .dataframe tbody tr th {\n",
       "        vertical-align: top;\n",
       "    }\n",
       "\n",
       "    .dataframe thead th {\n",
       "        text-align: right;\n",
       "    }\n",
       "</style>\n",
       "<table border=\"1\" class=\"dataframe\">\n",
       "  <thead>\n",
       "    <tr style=\"text-align: right;\">\n",
       "      <th></th>\n",
       "      <th>steps</th>\n",
       "      <th>distance</th>\n",
       "      <th>runDistance</th>\n",
       "      <th>calories</th>\n",
       "    </tr>\n",
       "  </thead>\n",
       "  <tbody>\n",
       "    <tr>\n",
       "      <th>count</th>\n",
       "      <td>92.000000</td>\n",
       "      <td>92.000000</td>\n",
       "      <td>92.000000</td>\n",
       "      <td>92.000000</td>\n",
       "    </tr>\n",
       "    <tr>\n",
       "      <th>mean</th>\n",
       "      <td>8103.880435</td>\n",
       "      <td>6093.717391</td>\n",
       "      <td>392.586957</td>\n",
       "      <td>217.826087</td>\n",
       "    </tr>\n",
       "    <tr>\n",
       "      <th>std</th>\n",
       "      <td>4019.138188</td>\n",
       "      <td>2992.723638</td>\n",
       "      <td>289.045080</td>\n",
       "      <td>102.698172</td>\n",
       "    </tr>\n",
       "    <tr>\n",
       "      <th>min</th>\n",
       "      <td>833.000000</td>\n",
       "      <td>572.000000</td>\n",
       "      <td>96.000000</td>\n",
       "      <td>25.000000</td>\n",
       "    </tr>\n",
       "    <tr>\n",
       "      <th>25%</th>\n",
       "      <td>6247.500000</td>\n",
       "      <td>4836.500000</td>\n",
       "      <td>187.750000</td>\n",
       "      <td>175.250000</td>\n",
       "    </tr>\n",
       "    <tr>\n",
       "      <th>50%</th>\n",
       "      <td>7786.000000</td>\n",
       "      <td>5984.000000</td>\n",
       "      <td>245.000000</td>\n",
       "      <td>216.500000</td>\n",
       "    </tr>\n",
       "    <tr>\n",
       "      <th>75%</th>\n",
       "      <td>10257.250000</td>\n",
       "      <td>7887.750000</td>\n",
       "      <td>574.750000</td>\n",
       "      <td>282.250000</td>\n",
       "    </tr>\n",
       "    <tr>\n",
       "      <th>max</th>\n",
       "      <td>24843.000000</td>\n",
       "      <td>18285.000000</td>\n",
       "      <td>1436.000000</td>\n",
       "      <td>636.000000</td>\n",
       "    </tr>\n",
       "  </tbody>\n",
       "</table>\n",
       "</div>"
      ],
      "text/plain": [
       "              steps      distance  runDistance    calories\n",
       "count     92.000000     92.000000    92.000000   92.000000\n",
       "mean    8103.880435   6093.717391   392.586957  217.826087\n",
       "std     4019.138188   2992.723638   289.045080  102.698172\n",
       "min      833.000000    572.000000    96.000000   25.000000\n",
       "25%     6247.500000   4836.500000   187.750000  175.250000\n",
       "50%     7786.000000   5984.000000   245.000000  216.500000\n",
       "75%    10257.250000   7887.750000   574.750000  282.250000\n",
       "max    24843.000000  18285.000000  1436.000000  636.000000"
      ]
     },
     "execution_count": 9,
     "metadata": {},
     "output_type": "execute_result"
    }
   ],
   "source": [
    "##describing the statistics of the data \n",
    "activity.describe()"
   ]
  },
  {
   "cell_type": "code",
   "execution_count": 18,
   "id": "c3974bcf",
   "metadata": {},
   "outputs": [
    {
     "data": {
      "application/vnd.plotly.v1+json": {
       "config": {
        "plotlyServerURL": "https://plot.ly"
       },
       "data": [
        {
         "alignmentgroup": "True",
         "hovertemplate": "date=%{x}<br>steps=%{y}<extra></extra>",
         "legendgroup": "",
         "marker": {
          "color": "#636efa",
          "pattern": {
           "shape": ""
          }
         },
         "name": "",
         "offsetgroup": "",
         "orientation": "v",
         "showlegend": false,
         "textposition": "auto",
         "type": "bar",
         "x": [
          "2022-10-20",
          "2022-10-21",
          "2022-10-22",
          "2022-10-23",
          "2022-10-24",
          "2022-10-25",
          "2022-10-26",
          "2022-10-27",
          "2022-10-28",
          "2022-10-29",
          "2022-10-30",
          "2022-10-31",
          "2022-11-01",
          "2022-11-02",
          "2022-11-03",
          "2022-11-04",
          "2022-11-05",
          "2022-11-06",
          "2022-11-07",
          "2022-11-08",
          "2022-11-09",
          "2022-11-10",
          "2022-11-11",
          "2022-11-12",
          "2022-11-13",
          "2022-11-14",
          "2022-11-15",
          "2022-11-16",
          "2022-11-17",
          "2022-11-18",
          "2022-11-19",
          "2022-11-20",
          "2022-11-21",
          "2022-11-22",
          "2022-11-23",
          "2022-11-24",
          "2022-11-25",
          "2022-11-26",
          "2022-11-27",
          "2022-11-28",
          "2022-11-29",
          "2022-11-30",
          "2022-12-01",
          "2022-12-02",
          "2022-12-03",
          "2022-12-04",
          "2022-12-05",
          "2022-12-06",
          "2022-12-07",
          "2022-12-08",
          "2022-12-09",
          "2022-12-10",
          "2022-12-11",
          "2022-12-12",
          "2022-12-13",
          "2022-12-14",
          "2022-12-15",
          "2022-12-16",
          "2022-12-17",
          "2022-12-18",
          "2022-12-19",
          "2022-12-20",
          "2022-12-21",
          "2022-12-22",
          "2022-12-23",
          "2022-12-24",
          "2022-12-25",
          "2022-12-26",
          "2022-12-27",
          "2022-12-28",
          "2022-12-29",
          "2022-12-30",
          "2022-12-31",
          "2023-01-01",
          "2023-01-02",
          "2023-01-03",
          "2023-01-04",
          "2023-01-05",
          "2023-01-06",
          "2023-01-07",
          "2023-01-08",
          "2023-01-09",
          "2023-01-10",
          "2023-01-11",
          "2023-01-12",
          "2023-01-13",
          "2023-01-14",
          "2023-01-15",
          "2023-01-16",
          "2023-01-17",
          "2023-01-18",
          "2023-01-19"
         ],
         "xaxis": "x",
         "y": [
          6664,
          6927,
          9035,
          1840,
          8066,
          4875,
          4960,
          7672,
          6576,
          12868,
          7312,
          8322,
          8348,
          6907,
          6180,
          13733,
          1795,
          13206,
          13434,
          9437,
          6078,
          4362,
          4817,
          11416,
          6657,
          7602,
          9059,
          9272,
          7327,
          7889,
          9347,
          4510,
          6588,
          10948,
          7759,
          4050,
          8233,
          13577,
          9641,
          11844,
          11509,
          11221,
          9559,
          8633,
          6839,
          2494,
          12119,
          7952,
          7556,
          7440,
          11823,
          2565,
          2159,
          1512,
          10282,
          6425,
          6383,
          833,
          15903,
          9154,
          7159,
          8361,
          10981,
          4347,
          891,
          7241,
          1257,
          1555,
          5859,
          2223,
          7060,
          14743,
          11518,
          8509,
          7263,
          11068,
          10249,
          24843,
          10161,
          17923,
          15748,
          9403,
          9302,
          7467,
          7046,
          7989,
          11268,
          6270,
          1919,
          11460,
          7813,
          5167
         ],
         "yaxis": "y"
        }
       ],
       "layout": {
        "barmode": "relative",
        "legend": {
         "tracegroupgap": 0
        },
        "template": {
         "data": {
          "bar": [
           {
            "error_x": {
             "color": "#2a3f5f"
            },
            "error_y": {
             "color": "#2a3f5f"
            },
            "marker": {
             "line": {
              "color": "#E5ECF6",
              "width": 0.5
             },
             "pattern": {
              "fillmode": "overlay",
              "size": 10,
              "solidity": 0.2
             }
            },
            "type": "bar"
           }
          ],
          "barpolar": [
           {
            "marker": {
             "line": {
              "color": "#E5ECF6",
              "width": 0.5
             },
             "pattern": {
              "fillmode": "overlay",
              "size": 10,
              "solidity": 0.2
             }
            },
            "type": "barpolar"
           }
          ],
          "carpet": [
           {
            "aaxis": {
             "endlinecolor": "#2a3f5f",
             "gridcolor": "white",
             "linecolor": "white",
             "minorgridcolor": "white",
             "startlinecolor": "#2a3f5f"
            },
            "baxis": {
             "endlinecolor": "#2a3f5f",
             "gridcolor": "white",
             "linecolor": "white",
             "minorgridcolor": "white",
             "startlinecolor": "#2a3f5f"
            },
            "type": "carpet"
           }
          ],
          "choropleth": [
           {
            "colorbar": {
             "outlinewidth": 0,
             "ticks": ""
            },
            "type": "choropleth"
           }
          ],
          "contour": [
           {
            "colorbar": {
             "outlinewidth": 0,
             "ticks": ""
            },
            "colorscale": [
             [
              0,
              "#0d0887"
             ],
             [
              0.1111111111111111,
              "#46039f"
             ],
             [
              0.2222222222222222,
              "#7201a8"
             ],
             [
              0.3333333333333333,
              "#9c179e"
             ],
             [
              0.4444444444444444,
              "#bd3786"
             ],
             [
              0.5555555555555556,
              "#d8576b"
             ],
             [
              0.6666666666666666,
              "#ed7953"
             ],
             [
              0.7777777777777778,
              "#fb9f3a"
             ],
             [
              0.8888888888888888,
              "#fdca26"
             ],
             [
              1,
              "#f0f921"
             ]
            ],
            "type": "contour"
           }
          ],
          "contourcarpet": [
           {
            "colorbar": {
             "outlinewidth": 0,
             "ticks": ""
            },
            "type": "contourcarpet"
           }
          ],
          "heatmap": [
           {
            "colorbar": {
             "outlinewidth": 0,
             "ticks": ""
            },
            "colorscale": [
             [
              0,
              "#0d0887"
             ],
             [
              0.1111111111111111,
              "#46039f"
             ],
             [
              0.2222222222222222,
              "#7201a8"
             ],
             [
              0.3333333333333333,
              "#9c179e"
             ],
             [
              0.4444444444444444,
              "#bd3786"
             ],
             [
              0.5555555555555556,
              "#d8576b"
             ],
             [
              0.6666666666666666,
              "#ed7953"
             ],
             [
              0.7777777777777778,
              "#fb9f3a"
             ],
             [
              0.8888888888888888,
              "#fdca26"
             ],
             [
              1,
              "#f0f921"
             ]
            ],
            "type": "heatmap"
           }
          ],
          "heatmapgl": [
           {
            "colorbar": {
             "outlinewidth": 0,
             "ticks": ""
            },
            "colorscale": [
             [
              0,
              "#0d0887"
             ],
             [
              0.1111111111111111,
              "#46039f"
             ],
             [
              0.2222222222222222,
              "#7201a8"
             ],
             [
              0.3333333333333333,
              "#9c179e"
             ],
             [
              0.4444444444444444,
              "#bd3786"
             ],
             [
              0.5555555555555556,
              "#d8576b"
             ],
             [
              0.6666666666666666,
              "#ed7953"
             ],
             [
              0.7777777777777778,
              "#fb9f3a"
             ],
             [
              0.8888888888888888,
              "#fdca26"
             ],
             [
              1,
              "#f0f921"
             ]
            ],
            "type": "heatmapgl"
           }
          ],
          "histogram": [
           {
            "marker": {
             "pattern": {
              "fillmode": "overlay",
              "size": 10,
              "solidity": 0.2
             }
            },
            "type": "histogram"
           }
          ],
          "histogram2d": [
           {
            "colorbar": {
             "outlinewidth": 0,
             "ticks": ""
            },
            "colorscale": [
             [
              0,
              "#0d0887"
             ],
             [
              0.1111111111111111,
              "#46039f"
             ],
             [
              0.2222222222222222,
              "#7201a8"
             ],
             [
              0.3333333333333333,
              "#9c179e"
             ],
             [
              0.4444444444444444,
              "#bd3786"
             ],
             [
              0.5555555555555556,
              "#d8576b"
             ],
             [
              0.6666666666666666,
              "#ed7953"
             ],
             [
              0.7777777777777778,
              "#fb9f3a"
             ],
             [
              0.8888888888888888,
              "#fdca26"
             ],
             [
              1,
              "#f0f921"
             ]
            ],
            "type": "histogram2d"
           }
          ],
          "histogram2dcontour": [
           {
            "colorbar": {
             "outlinewidth": 0,
             "ticks": ""
            },
            "colorscale": [
             [
              0,
              "#0d0887"
             ],
             [
              0.1111111111111111,
              "#46039f"
             ],
             [
              0.2222222222222222,
              "#7201a8"
             ],
             [
              0.3333333333333333,
              "#9c179e"
             ],
             [
              0.4444444444444444,
              "#bd3786"
             ],
             [
              0.5555555555555556,
              "#d8576b"
             ],
             [
              0.6666666666666666,
              "#ed7953"
             ],
             [
              0.7777777777777778,
              "#fb9f3a"
             ],
             [
              0.8888888888888888,
              "#fdca26"
             ],
             [
              1,
              "#f0f921"
             ]
            ],
            "type": "histogram2dcontour"
           }
          ],
          "mesh3d": [
           {
            "colorbar": {
             "outlinewidth": 0,
             "ticks": ""
            },
            "type": "mesh3d"
           }
          ],
          "parcoords": [
           {
            "line": {
             "colorbar": {
              "outlinewidth": 0,
              "ticks": ""
             }
            },
            "type": "parcoords"
           }
          ],
          "pie": [
           {
            "automargin": true,
            "type": "pie"
           }
          ],
          "scatter": [
           {
            "fillpattern": {
             "fillmode": "overlay",
             "size": 10,
             "solidity": 0.2
            },
            "type": "scatter"
           }
          ],
          "scatter3d": [
           {
            "line": {
             "colorbar": {
              "outlinewidth": 0,
              "ticks": ""
             }
            },
            "marker": {
             "colorbar": {
              "outlinewidth": 0,
              "ticks": ""
             }
            },
            "type": "scatter3d"
           }
          ],
          "scattercarpet": [
           {
            "marker": {
             "colorbar": {
              "outlinewidth": 0,
              "ticks": ""
             }
            },
            "type": "scattercarpet"
           }
          ],
          "scattergeo": [
           {
            "marker": {
             "colorbar": {
              "outlinewidth": 0,
              "ticks": ""
             }
            },
            "type": "scattergeo"
           }
          ],
          "scattergl": [
           {
            "marker": {
             "colorbar": {
              "outlinewidth": 0,
              "ticks": ""
             }
            },
            "type": "scattergl"
           }
          ],
          "scattermapbox": [
           {
            "marker": {
             "colorbar": {
              "outlinewidth": 0,
              "ticks": ""
             }
            },
            "type": "scattermapbox"
           }
          ],
          "scatterpolar": [
           {
            "marker": {
             "colorbar": {
              "outlinewidth": 0,
              "ticks": ""
             }
            },
            "type": "scatterpolar"
           }
          ],
          "scatterpolargl": [
           {
            "marker": {
             "colorbar": {
              "outlinewidth": 0,
              "ticks": ""
             }
            },
            "type": "scatterpolargl"
           }
          ],
          "scatterternary": [
           {
            "marker": {
             "colorbar": {
              "outlinewidth": 0,
              "ticks": ""
             }
            },
            "type": "scatterternary"
           }
          ],
          "surface": [
           {
            "colorbar": {
             "outlinewidth": 0,
             "ticks": ""
            },
            "colorscale": [
             [
              0,
              "#0d0887"
             ],
             [
              0.1111111111111111,
              "#46039f"
             ],
             [
              0.2222222222222222,
              "#7201a8"
             ],
             [
              0.3333333333333333,
              "#9c179e"
             ],
             [
              0.4444444444444444,
              "#bd3786"
             ],
             [
              0.5555555555555556,
              "#d8576b"
             ],
             [
              0.6666666666666666,
              "#ed7953"
             ],
             [
              0.7777777777777778,
              "#fb9f3a"
             ],
             [
              0.8888888888888888,
              "#fdca26"
             ],
             [
              1,
              "#f0f921"
             ]
            ],
            "type": "surface"
           }
          ],
          "table": [
           {
            "cells": {
             "fill": {
              "color": "#EBF0F8"
             },
             "line": {
              "color": "white"
             }
            },
            "header": {
             "fill": {
              "color": "#C8D4E3"
             },
             "line": {
              "color": "white"
             }
            },
            "type": "table"
           }
          ]
         },
         "layout": {
          "annotationdefaults": {
           "arrowcolor": "#2a3f5f",
           "arrowhead": 0,
           "arrowwidth": 1
          },
          "autotypenumbers": "strict",
          "coloraxis": {
           "colorbar": {
            "outlinewidth": 0,
            "ticks": ""
           }
          },
          "colorscale": {
           "diverging": [
            [
             0,
             "#8e0152"
            ],
            [
             0.1,
             "#c51b7d"
            ],
            [
             0.2,
             "#de77ae"
            ],
            [
             0.3,
             "#f1b6da"
            ],
            [
             0.4,
             "#fde0ef"
            ],
            [
             0.5,
             "#f7f7f7"
            ],
            [
             0.6,
             "#e6f5d0"
            ],
            [
             0.7,
             "#b8e186"
            ],
            [
             0.8,
             "#7fbc41"
            ],
            [
             0.9,
             "#4d9221"
            ],
            [
             1,
             "#276419"
            ]
           ],
           "sequential": [
            [
             0,
             "#0d0887"
            ],
            [
             0.1111111111111111,
             "#46039f"
            ],
            [
             0.2222222222222222,
             "#7201a8"
            ],
            [
             0.3333333333333333,
             "#9c179e"
            ],
            [
             0.4444444444444444,
             "#bd3786"
            ],
            [
             0.5555555555555556,
             "#d8576b"
            ],
            [
             0.6666666666666666,
             "#ed7953"
            ],
            [
             0.7777777777777778,
             "#fb9f3a"
            ],
            [
             0.8888888888888888,
             "#fdca26"
            ],
            [
             1,
             "#f0f921"
            ]
           ],
           "sequentialminus": [
            [
             0,
             "#0d0887"
            ],
            [
             0.1111111111111111,
             "#46039f"
            ],
            [
             0.2222222222222222,
             "#7201a8"
            ],
            [
             0.3333333333333333,
             "#9c179e"
            ],
            [
             0.4444444444444444,
             "#bd3786"
            ],
            [
             0.5555555555555556,
             "#d8576b"
            ],
            [
             0.6666666666666666,
             "#ed7953"
            ],
            [
             0.7777777777777778,
             "#fb9f3a"
            ],
            [
             0.8888888888888888,
             "#fdca26"
            ],
            [
             1,
             "#f0f921"
            ]
           ]
          },
          "colorway": [
           "#636efa",
           "#EF553B",
           "#00cc96",
           "#ab63fa",
           "#FFA15A",
           "#19d3f3",
           "#FF6692",
           "#B6E880",
           "#FF97FF",
           "#FECB52"
          ],
          "font": {
           "color": "#2a3f5f"
          },
          "geo": {
           "bgcolor": "white",
           "lakecolor": "white",
           "landcolor": "#E5ECF6",
           "showlakes": true,
           "showland": true,
           "subunitcolor": "white"
          },
          "hoverlabel": {
           "align": "left"
          },
          "hovermode": "closest",
          "mapbox": {
           "style": "light"
          },
          "paper_bgcolor": "white",
          "plot_bgcolor": "#E5ECF6",
          "polar": {
           "angularaxis": {
            "gridcolor": "white",
            "linecolor": "white",
            "ticks": ""
           },
           "bgcolor": "#E5ECF6",
           "radialaxis": {
            "gridcolor": "white",
            "linecolor": "white",
            "ticks": ""
           }
          },
          "scene": {
           "xaxis": {
            "backgroundcolor": "#E5ECF6",
            "gridcolor": "white",
            "gridwidth": 2,
            "linecolor": "white",
            "showbackground": true,
            "ticks": "",
            "zerolinecolor": "white"
           },
           "yaxis": {
            "backgroundcolor": "#E5ECF6",
            "gridcolor": "white",
            "gridwidth": 2,
            "linecolor": "white",
            "showbackground": true,
            "ticks": "",
            "zerolinecolor": "white"
           },
           "zaxis": {
            "backgroundcolor": "#E5ECF6",
            "gridcolor": "white",
            "gridwidth": 2,
            "linecolor": "white",
            "showbackground": true,
            "ticks": "",
            "zerolinecolor": "white"
           }
          },
          "shapedefaults": {
           "line": {
            "color": "#2a3f5f"
           }
          },
          "ternary": {
           "aaxis": {
            "gridcolor": "white",
            "linecolor": "white",
            "ticks": ""
           },
           "baxis": {
            "gridcolor": "white",
            "linecolor": "white",
            "ticks": ""
           },
           "bgcolor": "#E5ECF6",
           "caxis": {
            "gridcolor": "white",
            "linecolor": "white",
            "ticks": ""
           }
          },
          "title": {
           "x": 0.05
          },
          "xaxis": {
           "automargin": true,
           "gridcolor": "white",
           "linecolor": "white",
           "ticks": "",
           "title": {
            "standoff": 15
           },
           "zerolinecolor": "white",
           "zerolinewidth": 2
          },
          "yaxis": {
           "automargin": true,
           "gridcolor": "white",
           "linecolor": "white",
           "ticks": "",
           "title": {
            "standoff": 15
           },
           "zerolinecolor": "white",
           "zerolinewidth": 2
          }
         }
        },
        "title": {
         "text": "Stepcount"
        },
        "xaxis": {
         "anchor": "y",
         "domain": [
          0,
          1
         ],
         "title": {
          "text": "date"
         }
        },
        "yaxis": {
         "anchor": "x",
         "domain": [
          0,
          1
         ],
         "title": {
          "text": "steps"
         }
        }
       }
      },
      "text/html": [
       "<div>                            <div id=\"e7b3f248-f715-437a-a175-2eeae22ad897\" class=\"plotly-graph-div\" style=\"height:525px; width:100%;\"></div>            <script type=\"text/javascript\">                require([\"plotly\"], function(Plotly) {                    window.PLOTLYENV=window.PLOTLYENV || {};                                    if (document.getElementById(\"e7b3f248-f715-437a-a175-2eeae22ad897\")) {                    Plotly.newPlot(                        \"e7b3f248-f715-437a-a175-2eeae22ad897\",                        [{\"alignmentgroup\":\"True\",\"hovertemplate\":\"date=%{x}<br>steps=%{y}<extra></extra>\",\"legendgroup\":\"\",\"marker\":{\"color\":\"#636efa\",\"pattern\":{\"shape\":\"\"}},\"name\":\"\",\"offsetgroup\":\"\",\"orientation\":\"v\",\"showlegend\":false,\"textposition\":\"auto\",\"x\":[\"2022-10-20\",\"2022-10-21\",\"2022-10-22\",\"2022-10-23\",\"2022-10-24\",\"2022-10-25\",\"2022-10-26\",\"2022-10-27\",\"2022-10-28\",\"2022-10-29\",\"2022-10-30\",\"2022-10-31\",\"2022-11-01\",\"2022-11-02\",\"2022-11-03\",\"2022-11-04\",\"2022-11-05\",\"2022-11-06\",\"2022-11-07\",\"2022-11-08\",\"2022-11-09\",\"2022-11-10\",\"2022-11-11\",\"2022-11-12\",\"2022-11-13\",\"2022-11-14\",\"2022-11-15\",\"2022-11-16\",\"2022-11-17\",\"2022-11-18\",\"2022-11-19\",\"2022-11-20\",\"2022-11-21\",\"2022-11-22\",\"2022-11-23\",\"2022-11-24\",\"2022-11-25\",\"2022-11-26\",\"2022-11-27\",\"2022-11-28\",\"2022-11-29\",\"2022-11-30\",\"2022-12-01\",\"2022-12-02\",\"2022-12-03\",\"2022-12-04\",\"2022-12-05\",\"2022-12-06\",\"2022-12-07\",\"2022-12-08\",\"2022-12-09\",\"2022-12-10\",\"2022-12-11\",\"2022-12-12\",\"2022-12-13\",\"2022-12-14\",\"2022-12-15\",\"2022-12-16\",\"2022-12-17\",\"2022-12-18\",\"2022-12-19\",\"2022-12-20\",\"2022-12-21\",\"2022-12-22\",\"2022-12-23\",\"2022-12-24\",\"2022-12-25\",\"2022-12-26\",\"2022-12-27\",\"2022-12-28\",\"2022-12-29\",\"2022-12-30\",\"2022-12-31\",\"2023-01-01\",\"2023-01-02\",\"2023-01-03\",\"2023-01-04\",\"2023-01-05\",\"2023-01-06\",\"2023-01-07\",\"2023-01-08\",\"2023-01-09\",\"2023-01-10\",\"2023-01-11\",\"2023-01-12\",\"2023-01-13\",\"2023-01-14\",\"2023-01-15\",\"2023-01-16\",\"2023-01-17\",\"2023-01-18\",\"2023-01-19\"],\"xaxis\":\"x\",\"y\":[6664,6927,9035,1840,8066,4875,4960,7672,6576,12868,7312,8322,8348,6907,6180,13733,1795,13206,13434,9437,6078,4362,4817,11416,6657,7602,9059,9272,7327,7889,9347,4510,6588,10948,7759,4050,8233,13577,9641,11844,11509,11221,9559,8633,6839,2494,12119,7952,7556,7440,11823,2565,2159,1512,10282,6425,6383,833,15903,9154,7159,8361,10981,4347,891,7241,1257,1555,5859,2223,7060,14743,11518,8509,7263,11068,10249,24843,10161,17923,15748,9403,9302,7467,7046,7989,11268,6270,1919,11460,7813,5167],\"yaxis\":\"y\",\"type\":\"bar\"}],                        {\"template\":{\"data\":{\"histogram2dcontour\":[{\"type\":\"histogram2dcontour\",\"colorbar\":{\"outlinewidth\":0,\"ticks\":\"\"},\"colorscale\":[[0.0,\"#0d0887\"],[0.1111111111111111,\"#46039f\"],[0.2222222222222222,\"#7201a8\"],[0.3333333333333333,\"#9c179e\"],[0.4444444444444444,\"#bd3786\"],[0.5555555555555556,\"#d8576b\"],[0.6666666666666666,\"#ed7953\"],[0.7777777777777778,\"#fb9f3a\"],[0.8888888888888888,\"#fdca26\"],[1.0,\"#f0f921\"]]}],\"choropleth\":[{\"type\":\"choropleth\",\"colorbar\":{\"outlinewidth\":0,\"ticks\":\"\"}}],\"histogram2d\":[{\"type\":\"histogram2d\",\"colorbar\":{\"outlinewidth\":0,\"ticks\":\"\"},\"colorscale\":[[0.0,\"#0d0887\"],[0.1111111111111111,\"#46039f\"],[0.2222222222222222,\"#7201a8\"],[0.3333333333333333,\"#9c179e\"],[0.4444444444444444,\"#bd3786\"],[0.5555555555555556,\"#d8576b\"],[0.6666666666666666,\"#ed7953\"],[0.7777777777777778,\"#fb9f3a\"],[0.8888888888888888,\"#fdca26\"],[1.0,\"#f0f921\"]]}],\"heatmap\":[{\"type\":\"heatmap\",\"colorbar\":{\"outlinewidth\":0,\"ticks\":\"\"},\"colorscale\":[[0.0,\"#0d0887\"],[0.1111111111111111,\"#46039f\"],[0.2222222222222222,\"#7201a8\"],[0.3333333333333333,\"#9c179e\"],[0.4444444444444444,\"#bd3786\"],[0.5555555555555556,\"#d8576b\"],[0.6666666666666666,\"#ed7953\"],[0.7777777777777778,\"#fb9f3a\"],[0.8888888888888888,\"#fdca26\"],[1.0,\"#f0f921\"]]}],\"heatmapgl\":[{\"type\":\"heatmapgl\",\"colorbar\":{\"outlinewidth\":0,\"ticks\":\"\"},\"colorscale\":[[0.0,\"#0d0887\"],[0.1111111111111111,\"#46039f\"],[0.2222222222222222,\"#7201a8\"],[0.3333333333333333,\"#9c179e\"],[0.4444444444444444,\"#bd3786\"],[0.5555555555555556,\"#d8576b\"],[0.6666666666666666,\"#ed7953\"],[0.7777777777777778,\"#fb9f3a\"],[0.8888888888888888,\"#fdca26\"],[1.0,\"#f0f921\"]]}],\"contourcarpet\":[{\"type\":\"contourcarpet\",\"colorbar\":{\"outlinewidth\":0,\"ticks\":\"\"}}],\"contour\":[{\"type\":\"contour\",\"colorbar\":{\"outlinewidth\":0,\"ticks\":\"\"},\"colorscale\":[[0.0,\"#0d0887\"],[0.1111111111111111,\"#46039f\"],[0.2222222222222222,\"#7201a8\"],[0.3333333333333333,\"#9c179e\"],[0.4444444444444444,\"#bd3786\"],[0.5555555555555556,\"#d8576b\"],[0.6666666666666666,\"#ed7953\"],[0.7777777777777778,\"#fb9f3a\"],[0.8888888888888888,\"#fdca26\"],[1.0,\"#f0f921\"]]}],\"surface\":[{\"type\":\"surface\",\"colorbar\":{\"outlinewidth\":0,\"ticks\":\"\"},\"colorscale\":[[0.0,\"#0d0887\"],[0.1111111111111111,\"#46039f\"],[0.2222222222222222,\"#7201a8\"],[0.3333333333333333,\"#9c179e\"],[0.4444444444444444,\"#bd3786\"],[0.5555555555555556,\"#d8576b\"],[0.6666666666666666,\"#ed7953\"],[0.7777777777777778,\"#fb9f3a\"],[0.8888888888888888,\"#fdca26\"],[1.0,\"#f0f921\"]]}],\"mesh3d\":[{\"type\":\"mesh3d\",\"colorbar\":{\"outlinewidth\":0,\"ticks\":\"\"}}],\"scatter\":[{\"fillpattern\":{\"fillmode\":\"overlay\",\"size\":10,\"solidity\":0.2},\"type\":\"scatter\"}],\"parcoords\":[{\"type\":\"parcoords\",\"line\":{\"colorbar\":{\"outlinewidth\":0,\"ticks\":\"\"}}}],\"scatterpolargl\":[{\"type\":\"scatterpolargl\",\"marker\":{\"colorbar\":{\"outlinewidth\":0,\"ticks\":\"\"}}}],\"bar\":[{\"error_x\":{\"color\":\"#2a3f5f\"},\"error_y\":{\"color\":\"#2a3f5f\"},\"marker\":{\"line\":{\"color\":\"#E5ECF6\",\"width\":0.5},\"pattern\":{\"fillmode\":\"overlay\",\"size\":10,\"solidity\":0.2}},\"type\":\"bar\"}],\"scattergeo\":[{\"type\":\"scattergeo\",\"marker\":{\"colorbar\":{\"outlinewidth\":0,\"ticks\":\"\"}}}],\"scatterpolar\":[{\"type\":\"scatterpolar\",\"marker\":{\"colorbar\":{\"outlinewidth\":0,\"ticks\":\"\"}}}],\"histogram\":[{\"marker\":{\"pattern\":{\"fillmode\":\"overlay\",\"size\":10,\"solidity\":0.2}},\"type\":\"histogram\"}],\"scattergl\":[{\"type\":\"scattergl\",\"marker\":{\"colorbar\":{\"outlinewidth\":0,\"ticks\":\"\"}}}],\"scatter3d\":[{\"type\":\"scatter3d\",\"line\":{\"colorbar\":{\"outlinewidth\":0,\"ticks\":\"\"}},\"marker\":{\"colorbar\":{\"outlinewidth\":0,\"ticks\":\"\"}}}],\"scattermapbox\":[{\"type\":\"scattermapbox\",\"marker\":{\"colorbar\":{\"outlinewidth\":0,\"ticks\":\"\"}}}],\"scatterternary\":[{\"type\":\"scatterternary\",\"marker\":{\"colorbar\":{\"outlinewidth\":0,\"ticks\":\"\"}}}],\"scattercarpet\":[{\"type\":\"scattercarpet\",\"marker\":{\"colorbar\":{\"outlinewidth\":0,\"ticks\":\"\"}}}],\"carpet\":[{\"aaxis\":{\"endlinecolor\":\"#2a3f5f\",\"gridcolor\":\"white\",\"linecolor\":\"white\",\"minorgridcolor\":\"white\",\"startlinecolor\":\"#2a3f5f\"},\"baxis\":{\"endlinecolor\":\"#2a3f5f\",\"gridcolor\":\"white\",\"linecolor\":\"white\",\"minorgridcolor\":\"white\",\"startlinecolor\":\"#2a3f5f\"},\"type\":\"carpet\"}],\"table\":[{\"cells\":{\"fill\":{\"color\":\"#EBF0F8\"},\"line\":{\"color\":\"white\"}},\"header\":{\"fill\":{\"color\":\"#C8D4E3\"},\"line\":{\"color\":\"white\"}},\"type\":\"table\"}],\"barpolar\":[{\"marker\":{\"line\":{\"color\":\"#E5ECF6\",\"width\":0.5},\"pattern\":{\"fillmode\":\"overlay\",\"size\":10,\"solidity\":0.2}},\"type\":\"barpolar\"}],\"pie\":[{\"automargin\":true,\"type\":\"pie\"}]},\"layout\":{\"autotypenumbers\":\"strict\",\"colorway\":[\"#636efa\",\"#EF553B\",\"#00cc96\",\"#ab63fa\",\"#FFA15A\",\"#19d3f3\",\"#FF6692\",\"#B6E880\",\"#FF97FF\",\"#FECB52\"],\"font\":{\"color\":\"#2a3f5f\"},\"hovermode\":\"closest\",\"hoverlabel\":{\"align\":\"left\"},\"paper_bgcolor\":\"white\",\"plot_bgcolor\":\"#E5ECF6\",\"polar\":{\"bgcolor\":\"#E5ECF6\",\"angularaxis\":{\"gridcolor\":\"white\",\"linecolor\":\"white\",\"ticks\":\"\"},\"radialaxis\":{\"gridcolor\":\"white\",\"linecolor\":\"white\",\"ticks\":\"\"}},\"ternary\":{\"bgcolor\":\"#E5ECF6\",\"aaxis\":{\"gridcolor\":\"white\",\"linecolor\":\"white\",\"ticks\":\"\"},\"baxis\":{\"gridcolor\":\"white\",\"linecolor\":\"white\",\"ticks\":\"\"},\"caxis\":{\"gridcolor\":\"white\",\"linecolor\":\"white\",\"ticks\":\"\"}},\"coloraxis\":{\"colorbar\":{\"outlinewidth\":0,\"ticks\":\"\"}},\"colorscale\":{\"sequential\":[[0.0,\"#0d0887\"],[0.1111111111111111,\"#46039f\"],[0.2222222222222222,\"#7201a8\"],[0.3333333333333333,\"#9c179e\"],[0.4444444444444444,\"#bd3786\"],[0.5555555555555556,\"#d8576b\"],[0.6666666666666666,\"#ed7953\"],[0.7777777777777778,\"#fb9f3a\"],[0.8888888888888888,\"#fdca26\"],[1.0,\"#f0f921\"]],\"sequentialminus\":[[0.0,\"#0d0887\"],[0.1111111111111111,\"#46039f\"],[0.2222222222222222,\"#7201a8\"],[0.3333333333333333,\"#9c179e\"],[0.4444444444444444,\"#bd3786\"],[0.5555555555555556,\"#d8576b\"],[0.6666666666666666,\"#ed7953\"],[0.7777777777777778,\"#fb9f3a\"],[0.8888888888888888,\"#fdca26\"],[1.0,\"#f0f921\"]],\"diverging\":[[0,\"#8e0152\"],[0.1,\"#c51b7d\"],[0.2,\"#de77ae\"],[0.3,\"#f1b6da\"],[0.4,\"#fde0ef\"],[0.5,\"#f7f7f7\"],[0.6,\"#e6f5d0\"],[0.7,\"#b8e186\"],[0.8,\"#7fbc41\"],[0.9,\"#4d9221\"],[1,\"#276419\"]]},\"xaxis\":{\"gridcolor\":\"white\",\"linecolor\":\"white\",\"ticks\":\"\",\"title\":{\"standoff\":15},\"zerolinecolor\":\"white\",\"automargin\":true,\"zerolinewidth\":2},\"yaxis\":{\"gridcolor\":\"white\",\"linecolor\":\"white\",\"ticks\":\"\",\"title\":{\"standoff\":15},\"zerolinecolor\":\"white\",\"automargin\":true,\"zerolinewidth\":2},\"scene\":{\"xaxis\":{\"backgroundcolor\":\"#E5ECF6\",\"gridcolor\":\"white\",\"linecolor\":\"white\",\"showbackground\":true,\"ticks\":\"\",\"zerolinecolor\":\"white\",\"gridwidth\":2},\"yaxis\":{\"backgroundcolor\":\"#E5ECF6\",\"gridcolor\":\"white\",\"linecolor\":\"white\",\"showbackground\":true,\"ticks\":\"\",\"zerolinecolor\":\"white\",\"gridwidth\":2},\"zaxis\":{\"backgroundcolor\":\"#E5ECF6\",\"gridcolor\":\"white\",\"linecolor\":\"white\",\"showbackground\":true,\"ticks\":\"\",\"zerolinecolor\":\"white\",\"gridwidth\":2}},\"shapedefaults\":{\"line\":{\"color\":\"#2a3f5f\"}},\"annotationdefaults\":{\"arrowcolor\":\"#2a3f5f\",\"arrowhead\":0,\"arrowwidth\":1},\"geo\":{\"bgcolor\":\"white\",\"landcolor\":\"#E5ECF6\",\"subunitcolor\":\"white\",\"showland\":true,\"showlakes\":true,\"lakecolor\":\"white\"},\"title\":{\"x\":0.05},\"mapbox\":{\"style\":\"light\"}}},\"xaxis\":{\"anchor\":\"y\",\"domain\":[0.0,1.0],\"title\":{\"text\":\"date\"}},\"yaxis\":{\"anchor\":\"x\",\"domain\":[0.0,1.0],\"title\":{\"text\":\"steps\"}},\"legend\":{\"tracegroupgap\":0},\"title\":{\"text\":\"Stepcount\"},\"barmode\":\"relative\"},                        {\"responsive\": true}                    ).then(function(){\n",
       "                            \n",
       "var gd = document.getElementById('e7b3f248-f715-437a-a175-2eeae22ad897');\n",
       "var x = new MutationObserver(function (mutations, observer) {{\n",
       "        var display = window.getComputedStyle(gd).display;\n",
       "        if (!display || display === 'none') {{\n",
       "            console.log([gd, 'removed!']);\n",
       "            Plotly.purge(gd);\n",
       "            observer.disconnect();\n",
       "        }}\n",
       "}});\n",
       "\n",
       "// Listen for the removal of the full notebook cells\n",
       "var notebookContainer = gd.closest('#notebook-container');\n",
       "if (notebookContainer) {{\n",
       "    x.observe(notebookContainer, {childList: true});\n",
       "}}\n",
       "\n",
       "// Listen for the clearing of the current output cell\n",
       "var outputEl = gd.closest('.output');\n",
       "if (outputEl) {{\n",
       "    x.observe(outputEl, {childList: true});\n",
       "}}\n",
       "\n",
       "                        })                };                });            </script>        </div>"
      ]
     },
     "metadata": {},
     "output_type": "display_data"
    }
   ],
   "source": [
    "fig= px.bar(data_frame=activity, x=\"date\", y=\"steps\", title=\"Stepcount\")\n",
    "\n",
    "fig.show()"
   ]
  },
  {
   "cell_type": "code",
   "execution_count": 20,
   "id": "30a46cf4",
   "metadata": {},
   "outputs": [
    {
     "data": {
      "application/vnd.plotly.v1+json": {
       "config": {
        "plotlyServerURL": "https://plot.ly"
       },
       "data": [
        {
         "hovertemplate": "date=%{x}<br>distance=%{y}<extra></extra>",
         "legendgroup": "",
         "line": {
          "color": "#636efa",
          "dash": "solid"
         },
         "marker": {
          "symbol": "circle"
         },
         "mode": "lines",
         "name": "",
         "orientation": "v",
         "showlegend": false,
         "type": "scatter",
         "x": [
          "2022-10-20",
          "2022-10-21",
          "2022-10-22",
          "2022-10-23",
          "2022-10-24",
          "2022-10-25",
          "2022-10-26",
          "2022-10-27",
          "2022-10-28",
          "2022-10-29",
          "2022-10-30",
          "2022-10-31",
          "2022-11-01",
          "2022-11-02",
          "2022-11-03",
          "2022-11-04",
          "2022-11-05",
          "2022-11-06",
          "2022-11-07",
          "2022-11-08",
          "2022-11-09",
          "2022-11-10",
          "2022-11-11",
          "2022-11-12",
          "2022-11-13",
          "2022-11-14",
          "2022-11-15",
          "2022-11-16",
          "2022-11-17",
          "2022-11-18",
          "2022-11-19",
          "2022-11-20",
          "2022-11-21",
          "2022-11-22",
          "2022-11-23",
          "2022-11-24",
          "2022-11-25",
          "2022-11-26",
          "2022-11-27",
          "2022-11-28",
          "2022-11-29",
          "2022-11-30",
          "2022-12-01",
          "2022-12-02",
          "2022-12-03",
          "2022-12-04",
          "2022-12-05",
          "2022-12-06",
          "2022-12-07",
          "2022-12-08",
          "2022-12-09",
          "2022-12-10",
          "2022-12-11",
          "2022-12-12",
          "2022-12-13",
          "2022-12-14",
          "2022-12-15",
          "2022-12-16",
          "2022-12-17",
          "2022-12-18",
          "2022-12-19",
          "2022-12-20",
          "2022-12-21",
          "2022-12-22",
          "2022-12-23",
          "2022-12-24",
          "2022-12-25",
          "2022-12-26",
          "2022-12-27",
          "2022-12-28",
          "2022-12-29",
          "2022-12-30",
          "2022-12-31",
          "2023-01-01",
          "2023-01-02",
          "2023-01-03",
          "2023-01-04",
          "2023-01-05",
          "2023-01-06",
          "2023-01-07",
          "2023-01-08",
          "2023-01-09",
          "2023-01-10",
          "2023-01-11",
          "2023-01-12",
          "2023-01-13",
          "2023-01-14",
          "2023-01-15",
          "2023-01-16",
          "2023-01-17",
          "2023-01-18",
          "2023-01-19"
         ],
         "xaxis": "x",
         "y": [
          5002,
          5136,
          6847,
          1265,
          5994,
          3586,
          3669,
          5740,
          5142,
          9501,
          5513,
          6153,
          6344,
          5266,
          4837,
          10272,
          1254,
          9297,
          10087,
          7044,
          4532,
          3342,
          3569,
          8399,
          4835,
          5700,
          6815,
          6930,
          5461,
          6038,
          6575,
          3526,
          5160,
          8231,
          6126,
          3126,
          5989,
          10134,
          7396,
          9118,
          8534,
          8378,
          7479,
          6391,
          5164,
          1756,
          9169,
          6083,
          5638,
          5719,
          9020,
          1757,
          1509,
          1034,
          7871,
          5050,
          4971,
          572,
          11853,
          6832,
          5589,
          6241,
          8438,
          3542,
          610,
          5566,
          860,
          1064,
          4640,
          1574,
          5518,
          10745,
          8244,
          6400,
          5639,
          8575,
          7938,
          18285,
          7643,
          13253,
          11988,
          7108,
          6778,
          5738,
          5526,
          6162,
          8365,
          4931,
          1321,
          8681,
          5979,
          3950
         ],
         "yaxis": "y"
        }
       ],
       "layout": {
        "legend": {
         "tracegroupgap": 0
        },
        "template": {
         "data": {
          "bar": [
           {
            "error_x": {
             "color": "#2a3f5f"
            },
            "error_y": {
             "color": "#2a3f5f"
            },
            "marker": {
             "line": {
              "color": "#E5ECF6",
              "width": 0.5
             },
             "pattern": {
              "fillmode": "overlay",
              "size": 10,
              "solidity": 0.2
             }
            },
            "type": "bar"
           }
          ],
          "barpolar": [
           {
            "marker": {
             "line": {
              "color": "#E5ECF6",
              "width": 0.5
             },
             "pattern": {
              "fillmode": "overlay",
              "size": 10,
              "solidity": 0.2
             }
            },
            "type": "barpolar"
           }
          ],
          "carpet": [
           {
            "aaxis": {
             "endlinecolor": "#2a3f5f",
             "gridcolor": "white",
             "linecolor": "white",
             "minorgridcolor": "white",
             "startlinecolor": "#2a3f5f"
            },
            "baxis": {
             "endlinecolor": "#2a3f5f",
             "gridcolor": "white",
             "linecolor": "white",
             "minorgridcolor": "white",
             "startlinecolor": "#2a3f5f"
            },
            "type": "carpet"
           }
          ],
          "choropleth": [
           {
            "colorbar": {
             "outlinewidth": 0,
             "ticks": ""
            },
            "type": "choropleth"
           }
          ],
          "contour": [
           {
            "colorbar": {
             "outlinewidth": 0,
             "ticks": ""
            },
            "colorscale": [
             [
              0,
              "#0d0887"
             ],
             [
              0.1111111111111111,
              "#46039f"
             ],
             [
              0.2222222222222222,
              "#7201a8"
             ],
             [
              0.3333333333333333,
              "#9c179e"
             ],
             [
              0.4444444444444444,
              "#bd3786"
             ],
             [
              0.5555555555555556,
              "#d8576b"
             ],
             [
              0.6666666666666666,
              "#ed7953"
             ],
             [
              0.7777777777777778,
              "#fb9f3a"
             ],
             [
              0.8888888888888888,
              "#fdca26"
             ],
             [
              1,
              "#f0f921"
             ]
            ],
            "type": "contour"
           }
          ],
          "contourcarpet": [
           {
            "colorbar": {
             "outlinewidth": 0,
             "ticks": ""
            },
            "type": "contourcarpet"
           }
          ],
          "heatmap": [
           {
            "colorbar": {
             "outlinewidth": 0,
             "ticks": ""
            },
            "colorscale": [
             [
              0,
              "#0d0887"
             ],
             [
              0.1111111111111111,
              "#46039f"
             ],
             [
              0.2222222222222222,
              "#7201a8"
             ],
             [
              0.3333333333333333,
              "#9c179e"
             ],
             [
              0.4444444444444444,
              "#bd3786"
             ],
             [
              0.5555555555555556,
              "#d8576b"
             ],
             [
              0.6666666666666666,
              "#ed7953"
             ],
             [
              0.7777777777777778,
              "#fb9f3a"
             ],
             [
              0.8888888888888888,
              "#fdca26"
             ],
             [
              1,
              "#f0f921"
             ]
            ],
            "type": "heatmap"
           }
          ],
          "heatmapgl": [
           {
            "colorbar": {
             "outlinewidth": 0,
             "ticks": ""
            },
            "colorscale": [
             [
              0,
              "#0d0887"
             ],
             [
              0.1111111111111111,
              "#46039f"
             ],
             [
              0.2222222222222222,
              "#7201a8"
             ],
             [
              0.3333333333333333,
              "#9c179e"
             ],
             [
              0.4444444444444444,
              "#bd3786"
             ],
             [
              0.5555555555555556,
              "#d8576b"
             ],
             [
              0.6666666666666666,
              "#ed7953"
             ],
             [
              0.7777777777777778,
              "#fb9f3a"
             ],
             [
              0.8888888888888888,
              "#fdca26"
             ],
             [
              1,
              "#f0f921"
             ]
            ],
            "type": "heatmapgl"
           }
          ],
          "histogram": [
           {
            "marker": {
             "pattern": {
              "fillmode": "overlay",
              "size": 10,
              "solidity": 0.2
             }
            },
            "type": "histogram"
           }
          ],
          "histogram2d": [
           {
            "colorbar": {
             "outlinewidth": 0,
             "ticks": ""
            },
            "colorscale": [
             [
              0,
              "#0d0887"
             ],
             [
              0.1111111111111111,
              "#46039f"
             ],
             [
              0.2222222222222222,
              "#7201a8"
             ],
             [
              0.3333333333333333,
              "#9c179e"
             ],
             [
              0.4444444444444444,
              "#bd3786"
             ],
             [
              0.5555555555555556,
              "#d8576b"
             ],
             [
              0.6666666666666666,
              "#ed7953"
             ],
             [
              0.7777777777777778,
              "#fb9f3a"
             ],
             [
              0.8888888888888888,
              "#fdca26"
             ],
             [
              1,
              "#f0f921"
             ]
            ],
            "type": "histogram2d"
           }
          ],
          "histogram2dcontour": [
           {
            "colorbar": {
             "outlinewidth": 0,
             "ticks": ""
            },
            "colorscale": [
             [
              0,
              "#0d0887"
             ],
             [
              0.1111111111111111,
              "#46039f"
             ],
             [
              0.2222222222222222,
              "#7201a8"
             ],
             [
              0.3333333333333333,
              "#9c179e"
             ],
             [
              0.4444444444444444,
              "#bd3786"
             ],
             [
              0.5555555555555556,
              "#d8576b"
             ],
             [
              0.6666666666666666,
              "#ed7953"
             ],
             [
              0.7777777777777778,
              "#fb9f3a"
             ],
             [
              0.8888888888888888,
              "#fdca26"
             ],
             [
              1,
              "#f0f921"
             ]
            ],
            "type": "histogram2dcontour"
           }
          ],
          "mesh3d": [
           {
            "colorbar": {
             "outlinewidth": 0,
             "ticks": ""
            },
            "type": "mesh3d"
           }
          ],
          "parcoords": [
           {
            "line": {
             "colorbar": {
              "outlinewidth": 0,
              "ticks": ""
             }
            },
            "type": "parcoords"
           }
          ],
          "pie": [
           {
            "automargin": true,
            "type": "pie"
           }
          ],
          "scatter": [
           {
            "fillpattern": {
             "fillmode": "overlay",
             "size": 10,
             "solidity": 0.2
            },
            "type": "scatter"
           }
          ],
          "scatter3d": [
           {
            "line": {
             "colorbar": {
              "outlinewidth": 0,
              "ticks": ""
             }
            },
            "marker": {
             "colorbar": {
              "outlinewidth": 0,
              "ticks": ""
             }
            },
            "type": "scatter3d"
           }
          ],
          "scattercarpet": [
           {
            "marker": {
             "colorbar": {
              "outlinewidth": 0,
              "ticks": ""
             }
            },
            "type": "scattercarpet"
           }
          ],
          "scattergeo": [
           {
            "marker": {
             "colorbar": {
              "outlinewidth": 0,
              "ticks": ""
             }
            },
            "type": "scattergeo"
           }
          ],
          "scattergl": [
           {
            "marker": {
             "colorbar": {
              "outlinewidth": 0,
              "ticks": ""
             }
            },
            "type": "scattergl"
           }
          ],
          "scattermapbox": [
           {
            "marker": {
             "colorbar": {
              "outlinewidth": 0,
              "ticks": ""
             }
            },
            "type": "scattermapbox"
           }
          ],
          "scatterpolar": [
           {
            "marker": {
             "colorbar": {
              "outlinewidth": 0,
              "ticks": ""
             }
            },
            "type": "scatterpolar"
           }
          ],
          "scatterpolargl": [
           {
            "marker": {
             "colorbar": {
              "outlinewidth": 0,
              "ticks": ""
             }
            },
            "type": "scatterpolargl"
           }
          ],
          "scatterternary": [
           {
            "marker": {
             "colorbar": {
              "outlinewidth": 0,
              "ticks": ""
             }
            },
            "type": "scatterternary"
           }
          ],
          "surface": [
           {
            "colorbar": {
             "outlinewidth": 0,
             "ticks": ""
            },
            "colorscale": [
             [
              0,
              "#0d0887"
             ],
             [
              0.1111111111111111,
              "#46039f"
             ],
             [
              0.2222222222222222,
              "#7201a8"
             ],
             [
              0.3333333333333333,
              "#9c179e"
             ],
             [
              0.4444444444444444,
              "#bd3786"
             ],
             [
              0.5555555555555556,
              "#d8576b"
             ],
             [
              0.6666666666666666,
              "#ed7953"
             ],
             [
              0.7777777777777778,
              "#fb9f3a"
             ],
             [
              0.8888888888888888,
              "#fdca26"
             ],
             [
              1,
              "#f0f921"
             ]
            ],
            "type": "surface"
           }
          ],
          "table": [
           {
            "cells": {
             "fill": {
              "color": "#EBF0F8"
             },
             "line": {
              "color": "white"
             }
            },
            "header": {
             "fill": {
              "color": "#C8D4E3"
             },
             "line": {
              "color": "white"
             }
            },
            "type": "table"
           }
          ]
         },
         "layout": {
          "annotationdefaults": {
           "arrowcolor": "#2a3f5f",
           "arrowhead": 0,
           "arrowwidth": 1
          },
          "autotypenumbers": "strict",
          "coloraxis": {
           "colorbar": {
            "outlinewidth": 0,
            "ticks": ""
           }
          },
          "colorscale": {
           "diverging": [
            [
             0,
             "#8e0152"
            ],
            [
             0.1,
             "#c51b7d"
            ],
            [
             0.2,
             "#de77ae"
            ],
            [
             0.3,
             "#f1b6da"
            ],
            [
             0.4,
             "#fde0ef"
            ],
            [
             0.5,
             "#f7f7f7"
            ],
            [
             0.6,
             "#e6f5d0"
            ],
            [
             0.7,
             "#b8e186"
            ],
            [
             0.8,
             "#7fbc41"
            ],
            [
             0.9,
             "#4d9221"
            ],
            [
             1,
             "#276419"
            ]
           ],
           "sequential": [
            [
             0,
             "#0d0887"
            ],
            [
             0.1111111111111111,
             "#46039f"
            ],
            [
             0.2222222222222222,
             "#7201a8"
            ],
            [
             0.3333333333333333,
             "#9c179e"
            ],
            [
             0.4444444444444444,
             "#bd3786"
            ],
            [
             0.5555555555555556,
             "#d8576b"
            ],
            [
             0.6666666666666666,
             "#ed7953"
            ],
            [
             0.7777777777777778,
             "#fb9f3a"
            ],
            [
             0.8888888888888888,
             "#fdca26"
            ],
            [
             1,
             "#f0f921"
            ]
           ],
           "sequentialminus": [
            [
             0,
             "#0d0887"
            ],
            [
             0.1111111111111111,
             "#46039f"
            ],
            [
             0.2222222222222222,
             "#7201a8"
            ],
            [
             0.3333333333333333,
             "#9c179e"
            ],
            [
             0.4444444444444444,
             "#bd3786"
            ],
            [
             0.5555555555555556,
             "#d8576b"
            ],
            [
             0.6666666666666666,
             "#ed7953"
            ],
            [
             0.7777777777777778,
             "#fb9f3a"
            ],
            [
             0.8888888888888888,
             "#fdca26"
            ],
            [
             1,
             "#f0f921"
            ]
           ]
          },
          "colorway": [
           "#636efa",
           "#EF553B",
           "#00cc96",
           "#ab63fa",
           "#FFA15A",
           "#19d3f3",
           "#FF6692",
           "#B6E880",
           "#FF97FF",
           "#FECB52"
          ],
          "font": {
           "color": "#2a3f5f"
          },
          "geo": {
           "bgcolor": "white",
           "lakecolor": "white",
           "landcolor": "#E5ECF6",
           "showlakes": true,
           "showland": true,
           "subunitcolor": "white"
          },
          "hoverlabel": {
           "align": "left"
          },
          "hovermode": "closest",
          "mapbox": {
           "style": "light"
          },
          "paper_bgcolor": "white",
          "plot_bgcolor": "#E5ECF6",
          "polar": {
           "angularaxis": {
            "gridcolor": "white",
            "linecolor": "white",
            "ticks": ""
           },
           "bgcolor": "#E5ECF6",
           "radialaxis": {
            "gridcolor": "white",
            "linecolor": "white",
            "ticks": ""
           }
          },
          "scene": {
           "xaxis": {
            "backgroundcolor": "#E5ECF6",
            "gridcolor": "white",
            "gridwidth": 2,
            "linecolor": "white",
            "showbackground": true,
            "ticks": "",
            "zerolinecolor": "white"
           },
           "yaxis": {
            "backgroundcolor": "#E5ECF6",
            "gridcolor": "white",
            "gridwidth": 2,
            "linecolor": "white",
            "showbackground": true,
            "ticks": "",
            "zerolinecolor": "white"
           },
           "zaxis": {
            "backgroundcolor": "#E5ECF6",
            "gridcolor": "white",
            "gridwidth": 2,
            "linecolor": "white",
            "showbackground": true,
            "ticks": "",
            "zerolinecolor": "white"
           }
          },
          "shapedefaults": {
           "line": {
            "color": "#2a3f5f"
           }
          },
          "ternary": {
           "aaxis": {
            "gridcolor": "white",
            "linecolor": "white",
            "ticks": ""
           },
           "baxis": {
            "gridcolor": "white",
            "linecolor": "white",
            "ticks": ""
           },
           "bgcolor": "#E5ECF6",
           "caxis": {
            "gridcolor": "white",
            "linecolor": "white",
            "ticks": ""
           }
          },
          "title": {
           "x": 0.05
          },
          "xaxis": {
           "automargin": true,
           "gridcolor": "white",
           "linecolor": "white",
           "ticks": "",
           "title": {
            "standoff": 15
           },
           "zerolinecolor": "white",
           "zerolinewidth": 2
          },
          "yaxis": {
           "automargin": true,
           "gridcolor": "white",
           "linecolor": "white",
           "ticks": "",
           "title": {
            "standoff": 15
           },
           "zerolinecolor": "white",
           "zerolinewidth": 2
          }
         }
        },
        "title": {
         "text": "distance covered"
        },
        "xaxis": {
         "anchor": "y",
         "domain": [
          0,
          1
         ],
         "title": {
          "text": "date"
         }
        },
        "yaxis": {
         "anchor": "x",
         "domain": [
          0,
          1
         ],
         "title": {
          "text": "distance"
         }
        }
       }
      },
      "text/html": [
       "<div>                            <div id=\"c66985a1-7b7d-4aef-a00f-852a80c35d28\" class=\"plotly-graph-div\" style=\"height:525px; width:100%;\"></div>            <script type=\"text/javascript\">                require([\"plotly\"], function(Plotly) {                    window.PLOTLYENV=window.PLOTLYENV || {};                                    if (document.getElementById(\"c66985a1-7b7d-4aef-a00f-852a80c35d28\")) {                    Plotly.newPlot(                        \"c66985a1-7b7d-4aef-a00f-852a80c35d28\",                        [{\"hovertemplate\":\"date=%{x}<br>distance=%{y}<extra></extra>\",\"legendgroup\":\"\",\"line\":{\"color\":\"#636efa\",\"dash\":\"solid\"},\"marker\":{\"symbol\":\"circle\"},\"mode\":\"lines\",\"name\":\"\",\"orientation\":\"v\",\"showlegend\":false,\"x\":[\"2022-10-20\",\"2022-10-21\",\"2022-10-22\",\"2022-10-23\",\"2022-10-24\",\"2022-10-25\",\"2022-10-26\",\"2022-10-27\",\"2022-10-28\",\"2022-10-29\",\"2022-10-30\",\"2022-10-31\",\"2022-11-01\",\"2022-11-02\",\"2022-11-03\",\"2022-11-04\",\"2022-11-05\",\"2022-11-06\",\"2022-11-07\",\"2022-11-08\",\"2022-11-09\",\"2022-11-10\",\"2022-11-11\",\"2022-11-12\",\"2022-11-13\",\"2022-11-14\",\"2022-11-15\",\"2022-11-16\",\"2022-11-17\",\"2022-11-18\",\"2022-11-19\",\"2022-11-20\",\"2022-11-21\",\"2022-11-22\",\"2022-11-23\",\"2022-11-24\",\"2022-11-25\",\"2022-11-26\",\"2022-11-27\",\"2022-11-28\",\"2022-11-29\",\"2022-11-30\",\"2022-12-01\",\"2022-12-02\",\"2022-12-03\",\"2022-12-04\",\"2022-12-05\",\"2022-12-06\",\"2022-12-07\",\"2022-12-08\",\"2022-12-09\",\"2022-12-10\",\"2022-12-11\",\"2022-12-12\",\"2022-12-13\",\"2022-12-14\",\"2022-12-15\",\"2022-12-16\",\"2022-12-17\",\"2022-12-18\",\"2022-12-19\",\"2022-12-20\",\"2022-12-21\",\"2022-12-22\",\"2022-12-23\",\"2022-12-24\",\"2022-12-25\",\"2022-12-26\",\"2022-12-27\",\"2022-12-28\",\"2022-12-29\",\"2022-12-30\",\"2022-12-31\",\"2023-01-01\",\"2023-01-02\",\"2023-01-03\",\"2023-01-04\",\"2023-01-05\",\"2023-01-06\",\"2023-01-07\",\"2023-01-08\",\"2023-01-09\",\"2023-01-10\",\"2023-01-11\",\"2023-01-12\",\"2023-01-13\",\"2023-01-14\",\"2023-01-15\",\"2023-01-16\",\"2023-01-17\",\"2023-01-18\",\"2023-01-19\"],\"xaxis\":\"x\",\"y\":[5002,5136,6847,1265,5994,3586,3669,5740,5142,9501,5513,6153,6344,5266,4837,10272,1254,9297,10087,7044,4532,3342,3569,8399,4835,5700,6815,6930,5461,6038,6575,3526,5160,8231,6126,3126,5989,10134,7396,9118,8534,8378,7479,6391,5164,1756,9169,6083,5638,5719,9020,1757,1509,1034,7871,5050,4971,572,11853,6832,5589,6241,8438,3542,610,5566,860,1064,4640,1574,5518,10745,8244,6400,5639,8575,7938,18285,7643,13253,11988,7108,6778,5738,5526,6162,8365,4931,1321,8681,5979,3950],\"yaxis\":\"y\",\"type\":\"scatter\"}],                        {\"template\":{\"data\":{\"histogram2dcontour\":[{\"type\":\"histogram2dcontour\",\"colorbar\":{\"outlinewidth\":0,\"ticks\":\"\"},\"colorscale\":[[0.0,\"#0d0887\"],[0.1111111111111111,\"#46039f\"],[0.2222222222222222,\"#7201a8\"],[0.3333333333333333,\"#9c179e\"],[0.4444444444444444,\"#bd3786\"],[0.5555555555555556,\"#d8576b\"],[0.6666666666666666,\"#ed7953\"],[0.7777777777777778,\"#fb9f3a\"],[0.8888888888888888,\"#fdca26\"],[1.0,\"#f0f921\"]]}],\"choropleth\":[{\"type\":\"choropleth\",\"colorbar\":{\"outlinewidth\":0,\"ticks\":\"\"}}],\"histogram2d\":[{\"type\":\"histogram2d\",\"colorbar\":{\"outlinewidth\":0,\"ticks\":\"\"},\"colorscale\":[[0.0,\"#0d0887\"],[0.1111111111111111,\"#46039f\"],[0.2222222222222222,\"#7201a8\"],[0.3333333333333333,\"#9c179e\"],[0.4444444444444444,\"#bd3786\"],[0.5555555555555556,\"#d8576b\"],[0.6666666666666666,\"#ed7953\"],[0.7777777777777778,\"#fb9f3a\"],[0.8888888888888888,\"#fdca26\"],[1.0,\"#f0f921\"]]}],\"heatmap\":[{\"type\":\"heatmap\",\"colorbar\":{\"outlinewidth\":0,\"ticks\":\"\"},\"colorscale\":[[0.0,\"#0d0887\"],[0.1111111111111111,\"#46039f\"],[0.2222222222222222,\"#7201a8\"],[0.3333333333333333,\"#9c179e\"],[0.4444444444444444,\"#bd3786\"],[0.5555555555555556,\"#d8576b\"],[0.6666666666666666,\"#ed7953\"],[0.7777777777777778,\"#fb9f3a\"],[0.8888888888888888,\"#fdca26\"],[1.0,\"#f0f921\"]]}],\"heatmapgl\":[{\"type\":\"heatmapgl\",\"colorbar\":{\"outlinewidth\":0,\"ticks\":\"\"},\"colorscale\":[[0.0,\"#0d0887\"],[0.1111111111111111,\"#46039f\"],[0.2222222222222222,\"#7201a8\"],[0.3333333333333333,\"#9c179e\"],[0.4444444444444444,\"#bd3786\"],[0.5555555555555556,\"#d8576b\"],[0.6666666666666666,\"#ed7953\"],[0.7777777777777778,\"#fb9f3a\"],[0.8888888888888888,\"#fdca26\"],[1.0,\"#f0f921\"]]}],\"contourcarpet\":[{\"type\":\"contourcarpet\",\"colorbar\":{\"outlinewidth\":0,\"ticks\":\"\"}}],\"contour\":[{\"type\":\"contour\",\"colorbar\":{\"outlinewidth\":0,\"ticks\":\"\"},\"colorscale\":[[0.0,\"#0d0887\"],[0.1111111111111111,\"#46039f\"],[0.2222222222222222,\"#7201a8\"],[0.3333333333333333,\"#9c179e\"],[0.4444444444444444,\"#bd3786\"],[0.5555555555555556,\"#d8576b\"],[0.6666666666666666,\"#ed7953\"],[0.7777777777777778,\"#fb9f3a\"],[0.8888888888888888,\"#fdca26\"],[1.0,\"#f0f921\"]]}],\"surface\":[{\"type\":\"surface\",\"colorbar\":{\"outlinewidth\":0,\"ticks\":\"\"},\"colorscale\":[[0.0,\"#0d0887\"],[0.1111111111111111,\"#46039f\"],[0.2222222222222222,\"#7201a8\"],[0.3333333333333333,\"#9c179e\"],[0.4444444444444444,\"#bd3786\"],[0.5555555555555556,\"#d8576b\"],[0.6666666666666666,\"#ed7953\"],[0.7777777777777778,\"#fb9f3a\"],[0.8888888888888888,\"#fdca26\"],[1.0,\"#f0f921\"]]}],\"mesh3d\":[{\"type\":\"mesh3d\",\"colorbar\":{\"outlinewidth\":0,\"ticks\":\"\"}}],\"scatter\":[{\"fillpattern\":{\"fillmode\":\"overlay\",\"size\":10,\"solidity\":0.2},\"type\":\"scatter\"}],\"parcoords\":[{\"type\":\"parcoords\",\"line\":{\"colorbar\":{\"outlinewidth\":0,\"ticks\":\"\"}}}],\"scatterpolargl\":[{\"type\":\"scatterpolargl\",\"marker\":{\"colorbar\":{\"outlinewidth\":0,\"ticks\":\"\"}}}],\"bar\":[{\"error_x\":{\"color\":\"#2a3f5f\"},\"error_y\":{\"color\":\"#2a3f5f\"},\"marker\":{\"line\":{\"color\":\"#E5ECF6\",\"width\":0.5},\"pattern\":{\"fillmode\":\"overlay\",\"size\":10,\"solidity\":0.2}},\"type\":\"bar\"}],\"scattergeo\":[{\"type\":\"scattergeo\",\"marker\":{\"colorbar\":{\"outlinewidth\":0,\"ticks\":\"\"}}}],\"scatterpolar\":[{\"type\":\"scatterpolar\",\"marker\":{\"colorbar\":{\"outlinewidth\":0,\"ticks\":\"\"}}}],\"histogram\":[{\"marker\":{\"pattern\":{\"fillmode\":\"overlay\",\"size\":10,\"solidity\":0.2}},\"type\":\"histogram\"}],\"scattergl\":[{\"type\":\"scattergl\",\"marker\":{\"colorbar\":{\"outlinewidth\":0,\"ticks\":\"\"}}}],\"scatter3d\":[{\"type\":\"scatter3d\",\"line\":{\"colorbar\":{\"outlinewidth\":0,\"ticks\":\"\"}},\"marker\":{\"colorbar\":{\"outlinewidth\":0,\"ticks\":\"\"}}}],\"scattermapbox\":[{\"type\":\"scattermapbox\",\"marker\":{\"colorbar\":{\"outlinewidth\":0,\"ticks\":\"\"}}}],\"scatterternary\":[{\"type\":\"scatterternary\",\"marker\":{\"colorbar\":{\"outlinewidth\":0,\"ticks\":\"\"}}}],\"scattercarpet\":[{\"type\":\"scattercarpet\",\"marker\":{\"colorbar\":{\"outlinewidth\":0,\"ticks\":\"\"}}}],\"carpet\":[{\"aaxis\":{\"endlinecolor\":\"#2a3f5f\",\"gridcolor\":\"white\",\"linecolor\":\"white\",\"minorgridcolor\":\"white\",\"startlinecolor\":\"#2a3f5f\"},\"baxis\":{\"endlinecolor\":\"#2a3f5f\",\"gridcolor\":\"white\",\"linecolor\":\"white\",\"minorgridcolor\":\"white\",\"startlinecolor\":\"#2a3f5f\"},\"type\":\"carpet\"}],\"table\":[{\"cells\":{\"fill\":{\"color\":\"#EBF0F8\"},\"line\":{\"color\":\"white\"}},\"header\":{\"fill\":{\"color\":\"#C8D4E3\"},\"line\":{\"color\":\"white\"}},\"type\":\"table\"}],\"barpolar\":[{\"marker\":{\"line\":{\"color\":\"#E5ECF6\",\"width\":0.5},\"pattern\":{\"fillmode\":\"overlay\",\"size\":10,\"solidity\":0.2}},\"type\":\"barpolar\"}],\"pie\":[{\"automargin\":true,\"type\":\"pie\"}]},\"layout\":{\"autotypenumbers\":\"strict\",\"colorway\":[\"#636efa\",\"#EF553B\",\"#00cc96\",\"#ab63fa\",\"#FFA15A\",\"#19d3f3\",\"#FF6692\",\"#B6E880\",\"#FF97FF\",\"#FECB52\"],\"font\":{\"color\":\"#2a3f5f\"},\"hovermode\":\"closest\",\"hoverlabel\":{\"align\":\"left\"},\"paper_bgcolor\":\"white\",\"plot_bgcolor\":\"#E5ECF6\",\"polar\":{\"bgcolor\":\"#E5ECF6\",\"angularaxis\":{\"gridcolor\":\"white\",\"linecolor\":\"white\",\"ticks\":\"\"},\"radialaxis\":{\"gridcolor\":\"white\",\"linecolor\":\"white\",\"ticks\":\"\"}},\"ternary\":{\"bgcolor\":\"#E5ECF6\",\"aaxis\":{\"gridcolor\":\"white\",\"linecolor\":\"white\",\"ticks\":\"\"},\"baxis\":{\"gridcolor\":\"white\",\"linecolor\":\"white\",\"ticks\":\"\"},\"caxis\":{\"gridcolor\":\"white\",\"linecolor\":\"white\",\"ticks\":\"\"}},\"coloraxis\":{\"colorbar\":{\"outlinewidth\":0,\"ticks\":\"\"}},\"colorscale\":{\"sequential\":[[0.0,\"#0d0887\"],[0.1111111111111111,\"#46039f\"],[0.2222222222222222,\"#7201a8\"],[0.3333333333333333,\"#9c179e\"],[0.4444444444444444,\"#bd3786\"],[0.5555555555555556,\"#d8576b\"],[0.6666666666666666,\"#ed7953\"],[0.7777777777777778,\"#fb9f3a\"],[0.8888888888888888,\"#fdca26\"],[1.0,\"#f0f921\"]],\"sequentialminus\":[[0.0,\"#0d0887\"],[0.1111111111111111,\"#46039f\"],[0.2222222222222222,\"#7201a8\"],[0.3333333333333333,\"#9c179e\"],[0.4444444444444444,\"#bd3786\"],[0.5555555555555556,\"#d8576b\"],[0.6666666666666666,\"#ed7953\"],[0.7777777777777778,\"#fb9f3a\"],[0.8888888888888888,\"#fdca26\"],[1.0,\"#f0f921\"]],\"diverging\":[[0,\"#8e0152\"],[0.1,\"#c51b7d\"],[0.2,\"#de77ae\"],[0.3,\"#f1b6da\"],[0.4,\"#fde0ef\"],[0.5,\"#f7f7f7\"],[0.6,\"#e6f5d0\"],[0.7,\"#b8e186\"],[0.8,\"#7fbc41\"],[0.9,\"#4d9221\"],[1,\"#276419\"]]},\"xaxis\":{\"gridcolor\":\"white\",\"linecolor\":\"white\",\"ticks\":\"\",\"title\":{\"standoff\":15},\"zerolinecolor\":\"white\",\"automargin\":true,\"zerolinewidth\":2},\"yaxis\":{\"gridcolor\":\"white\",\"linecolor\":\"white\",\"ticks\":\"\",\"title\":{\"standoff\":15},\"zerolinecolor\":\"white\",\"automargin\":true,\"zerolinewidth\":2},\"scene\":{\"xaxis\":{\"backgroundcolor\":\"#E5ECF6\",\"gridcolor\":\"white\",\"linecolor\":\"white\",\"showbackground\":true,\"ticks\":\"\",\"zerolinecolor\":\"white\",\"gridwidth\":2},\"yaxis\":{\"backgroundcolor\":\"#E5ECF6\",\"gridcolor\":\"white\",\"linecolor\":\"white\",\"showbackground\":true,\"ticks\":\"\",\"zerolinecolor\":\"white\",\"gridwidth\":2},\"zaxis\":{\"backgroundcolor\":\"#E5ECF6\",\"gridcolor\":\"white\",\"linecolor\":\"white\",\"showbackground\":true,\"ticks\":\"\",\"zerolinecolor\":\"white\",\"gridwidth\":2}},\"shapedefaults\":{\"line\":{\"color\":\"#2a3f5f\"}},\"annotationdefaults\":{\"arrowcolor\":\"#2a3f5f\",\"arrowhead\":0,\"arrowwidth\":1},\"geo\":{\"bgcolor\":\"white\",\"landcolor\":\"#E5ECF6\",\"subunitcolor\":\"white\",\"showland\":true,\"showlakes\":true,\"lakecolor\":\"white\"},\"title\":{\"x\":0.05},\"mapbox\":{\"style\":\"light\"}}},\"xaxis\":{\"anchor\":\"y\",\"domain\":[0.0,1.0],\"title\":{\"text\":\"date\"}},\"yaxis\":{\"anchor\":\"x\",\"domain\":[0.0,1.0],\"title\":{\"text\":\"distance\"}},\"legend\":{\"tracegroupgap\":0},\"title\":{\"text\":\"distance covered\"}},                        {\"responsive\": true}                    ).then(function(){\n",
       "                            \n",
       "var gd = document.getElementById('c66985a1-7b7d-4aef-a00f-852a80c35d28');\n",
       "var x = new MutationObserver(function (mutations, observer) {{\n",
       "        var display = window.getComputedStyle(gd).display;\n",
       "        if (!display || display === 'none') {{\n",
       "            console.log([gd, 'removed!']);\n",
       "            Plotly.purge(gd);\n",
       "            observer.disconnect();\n",
       "        }}\n",
       "}});\n",
       "\n",
       "// Listen for the removal of the full notebook cells\n",
       "var notebookContainer = gd.closest('#notebook-container');\n",
       "if (notebookContainer) {{\n",
       "    x.observe(notebookContainer, {childList: true});\n",
       "}}\n",
       "\n",
       "// Listen for the clearing of the current output cell\n",
       "var outputEl = gd.closest('.output');\n",
       "if (outputEl) {{\n",
       "    x.observe(outputEl, {childList: true});\n",
       "}}\n",
       "\n",
       "                        })                };                });            </script>        </div>"
      ]
     },
     "metadata": {},
     "output_type": "display_data"
    }
   ],
   "source": [
    "fig= px.line(data_frame=activity, x=\"date\", y=\"distance\", title=\"distance covered\")\n",
    "\n",
    "fig.show()"
   ]
  },
  {
   "cell_type": "code",
   "execution_count": 46,
   "id": "93891cc3",
   "metadata": {},
   "outputs": [
    {
     "data": {
      "text/html": [
       "<div>\n",
       "<style scoped>\n",
       "    .dataframe tbody tr th:only-of-type {\n",
       "        vertical-align: middle;\n",
       "    }\n",
       "\n",
       "    .dataframe tbody tr th {\n",
       "        vertical-align: top;\n",
       "    }\n",
       "\n",
       "    .dataframe thead th {\n",
       "        text-align: right;\n",
       "    }\n",
       "</style>\n",
       "<table border=\"1\" class=\"dataframe\">\n",
       "  <thead>\n",
       "    <tr style=\"text-align: right;\">\n",
       "      <th></th>\n",
       "      <th>date</th>\n",
       "      <th>time</th>\n",
       "      <th>heartRate</th>\n",
       "    </tr>\n",
       "  </thead>\n",
       "  <tbody>\n",
       "    <tr>\n",
       "      <th>0</th>\n",
       "      <td>2022-10-20</td>\n",
       "      <td>01:01</td>\n",
       "      <td>94</td>\n",
       "    </tr>\n",
       "    <tr>\n",
       "      <th>1</th>\n",
       "      <td>2022-10-20</td>\n",
       "      <td>01:02</td>\n",
       "      <td>94</td>\n",
       "    </tr>\n",
       "    <tr>\n",
       "      <th>2</th>\n",
       "      <td>2022-10-20</td>\n",
       "      <td>01:03</td>\n",
       "      <td>94</td>\n",
       "    </tr>\n",
       "    <tr>\n",
       "      <th>3</th>\n",
       "      <td>2022-10-20</td>\n",
       "      <td>01:04</td>\n",
       "      <td>79</td>\n",
       "    </tr>\n",
       "    <tr>\n",
       "      <th>4</th>\n",
       "      <td>2022-10-20</td>\n",
       "      <td>01:05</td>\n",
       "      <td>78</td>\n",
       "    </tr>\n",
       "    <tr>\n",
       "      <th>...</th>\n",
       "      <td>...</td>\n",
       "      <td>...</td>\n",
       "      <td>...</td>\n",
       "    </tr>\n",
       "    <tr>\n",
       "      <th>737</th>\n",
       "      <td>2023-01-08</td>\n",
       "      <td>14:31</td>\n",
       "      <td>92</td>\n",
       "    </tr>\n",
       "    <tr>\n",
       "      <th>738</th>\n",
       "      <td>2023-01-08</td>\n",
       "      <td>14:32</td>\n",
       "      <td>94</td>\n",
       "    </tr>\n",
       "    <tr>\n",
       "      <th>739</th>\n",
       "      <td>2023-01-08</td>\n",
       "      <td>14:33</td>\n",
       "      <td>99</td>\n",
       "    </tr>\n",
       "    <tr>\n",
       "      <th>740</th>\n",
       "      <td>2023-01-08</td>\n",
       "      <td>14:34</td>\n",
       "      <td>102</td>\n",
       "    </tr>\n",
       "    <tr>\n",
       "      <th>741</th>\n",
       "      <td>2023-01-18</td>\n",
       "      <td>09:36</td>\n",
       "      <td>75</td>\n",
       "    </tr>\n",
       "  </tbody>\n",
       "</table>\n",
       "<p>742 rows × 3 columns</p>\n",
       "</div>"
      ],
      "text/plain": [
       "           date   time  heartRate\n",
       "0    2022-10-20  01:01         94\n",
       "1    2022-10-20  01:02         94\n",
       "2    2022-10-20  01:03         94\n",
       "3    2022-10-20  01:04         79\n",
       "4    2022-10-20  01:05         78\n",
       "..          ...    ...        ...\n",
       "737  2023-01-08  14:31         92\n",
       "738  2023-01-08  14:32         94\n",
       "739  2023-01-08  14:33         99\n",
       "740  2023-01-08  14:34        102\n",
       "741  2023-01-18  09:36         75\n",
       "\n",
       "[742 rows x 3 columns]"
      ]
     },
     "execution_count": 46,
     "metadata": {},
     "output_type": "execute_result"
    }
   ],
   "source": [
    "heart=pd.read_csv(\"Heartrate_auto/heartrate_details.csv\")\n",
    "heart"
   ]
  },
  {
   "cell_type": "code",
   "execution_count": 84,
   "id": "a28e02da",
   "metadata": {},
   "outputs": [
    {
     "data": {
      "application/vnd.plotly.v1+json": {
       "config": {
        "plotlyServerURL": "https://plot.ly"
       },
       "data": [
        {
         "alignmentgroup": "True",
         "hovertemplate": "date=%{x}<br>heartRate=%{y}<extra></extra>",
         "legendgroup": "",
         "marker": {
          "color": "#636efa",
          "pattern": {
           "shape": ""
          }
         },
         "name": "",
         "offsetgroup": "",
         "orientation": "v",
         "showlegend": false,
         "textposition": "auto",
         "type": "bar",
         "x": [
          "2022-10-20",
          "2022-10-20",
          "2022-10-20",
          "2022-10-20",
          "2022-10-20",
          "2022-10-20",
          "2022-10-20",
          "2022-10-20",
          "2022-10-20",
          "2022-10-20",
          "2022-10-20",
          "2022-10-20",
          "2022-10-20",
          "2022-10-20",
          "2022-10-20",
          "2022-10-20",
          "2022-10-20",
          "2022-10-20",
          "2022-10-20",
          "2022-10-20",
          "2022-10-20",
          "2022-10-20",
          "2022-10-20",
          "2022-10-20",
          "2022-10-20",
          "2022-10-20",
          "2022-10-20",
          "2022-10-20",
          "2022-10-20",
          "2022-10-20",
          "2022-10-20",
          "2022-10-20",
          "2022-10-20",
          "2022-10-20",
          "2022-10-20",
          "2022-10-20",
          "2022-10-20",
          "2022-10-20",
          "2022-10-20",
          "2022-10-20",
          "2022-10-20",
          "2022-10-20",
          "2022-10-20",
          "2022-10-20",
          "2022-10-20",
          "2022-10-20",
          "2022-10-20",
          "2022-10-20",
          "2022-10-20",
          "2022-10-20",
          "2022-10-20",
          "2022-10-20",
          "2022-10-20",
          "2022-10-20",
          "2022-10-20",
          "2022-10-20",
          "2022-10-20",
          "2022-10-20",
          "2022-10-20",
          "2022-10-20",
          "2022-10-20",
          "2022-10-20",
          "2022-10-20",
          "2022-10-20",
          "2022-10-20",
          "2022-10-20",
          "2022-10-20",
          "2022-10-20",
          "2022-10-20",
          "2022-10-20",
          "2022-10-20",
          "2022-10-20",
          "2022-10-20",
          "2022-10-20",
          "2022-10-20",
          "2022-10-20",
          "2022-10-20",
          "2022-10-20",
          "2022-10-20",
          "2022-10-20",
          "2022-10-20",
          "2022-10-20",
          "2022-10-20",
          "2022-10-20",
          "2022-10-20",
          "2022-10-20",
          "2022-10-20",
          "2022-10-20",
          "2022-10-20",
          "2022-10-20",
          "2022-10-20",
          "2022-10-20",
          "2022-10-20",
          "2022-10-20",
          "2022-10-20",
          "2022-10-20",
          "2022-10-20",
          "2022-10-20",
          "2022-10-20",
          "2022-10-20",
          "2022-10-20",
          "2022-10-20",
          "2022-10-20",
          "2022-10-20",
          "2022-10-20",
          "2022-10-20",
          "2022-10-20",
          "2022-10-20",
          "2022-10-20",
          "2022-10-20",
          "2022-10-20",
          "2022-10-20",
          "2022-10-20",
          "2022-10-20",
          "2022-10-20",
          "2022-10-20",
          "2022-10-20",
          "2022-10-20",
          "2022-10-20",
          "2022-10-20",
          "2022-10-20",
          "2022-10-20",
          "2022-10-20",
          "2022-10-20",
          "2022-10-20",
          "2022-10-20",
          "2022-10-20",
          "2022-10-20",
          "2022-10-20",
          "2022-10-20",
          "2022-10-20",
          "2022-10-20",
          "2022-10-20",
          "2022-10-20",
          "2022-10-20",
          "2022-10-20",
          "2022-10-20",
          "2022-10-20",
          "2022-10-20",
          "2022-10-20",
          "2022-10-20",
          "2022-10-20",
          "2022-10-20",
          "2022-10-20",
          "2022-10-20",
          "2022-10-20",
          "2022-10-20",
          "2022-10-20",
          "2022-10-20",
          "2022-10-20",
          "2022-10-20",
          "2022-10-20",
          "2022-10-20",
          "2022-10-20",
          "2022-10-20",
          "2022-10-20",
          "2022-10-20",
          "2022-10-20",
          "2022-10-20",
          "2022-10-20",
          "2022-10-20",
          "2022-10-20",
          "2022-10-20",
          "2022-10-20",
          "2022-10-20",
          "2022-10-20",
          "2022-10-20",
          "2022-10-20",
          "2022-10-20",
          "2022-10-20",
          "2022-10-20",
          "2022-10-20",
          "2022-10-20",
          "2022-10-20",
          "2022-10-20",
          "2022-10-20",
          "2022-10-20",
          "2022-10-20",
          "2022-10-20",
          "2022-10-20",
          "2022-10-20",
          "2022-10-20",
          "2022-10-20",
          "2022-10-20",
          "2022-10-20",
          "2022-10-20",
          "2022-10-20",
          "2022-10-20",
          "2022-10-20",
          "2022-10-20",
          "2022-10-20",
          "2022-10-20",
          "2022-10-20",
          "2022-10-20",
          "2022-10-20",
          "2022-10-20",
          "2022-10-20",
          "2022-10-20",
          "2022-10-20",
          "2022-10-20",
          "2022-10-20",
          "2022-10-20",
          "2022-10-20",
          "2022-10-20",
          "2022-10-20",
          "2022-10-20",
          "2022-10-20",
          "2022-10-20",
          "2022-10-20",
          "2022-10-20",
          "2022-10-20",
          "2022-10-20",
          "2022-10-20",
          "2022-10-20",
          "2022-10-20",
          "2022-10-20",
          "2022-10-20",
          "2022-10-20",
          "2022-10-20",
          "2022-10-20",
          "2022-10-20",
          "2022-10-20",
          "2022-10-20",
          "2022-10-20",
          "2022-10-20",
          "2022-10-20",
          "2022-10-20",
          "2022-10-20",
          "2022-10-20",
          "2022-10-20",
          "2022-10-20",
          "2022-10-20",
          "2022-10-20",
          "2022-10-20",
          "2022-10-20",
          "2022-10-20",
          "2022-10-20",
          "2022-10-20",
          "2022-10-20",
          "2022-10-20",
          "2022-10-20",
          "2022-10-20",
          "2022-10-20",
          "2022-10-20",
          "2022-10-20",
          "2022-10-20",
          "2022-10-20",
          "2022-10-20",
          "2022-10-20",
          "2022-10-20",
          "2022-10-20",
          "2022-10-20",
          "2022-10-20",
          "2022-10-20",
          "2022-10-20",
          "2022-10-20",
          "2022-10-20",
          "2022-10-20",
          "2022-10-20",
          "2022-10-20",
          "2022-10-20",
          "2022-10-20",
          "2022-10-20",
          "2022-10-20",
          "2022-10-20",
          "2022-10-20",
          "2022-10-20",
          "2022-10-20",
          "2022-10-20",
          "2022-10-20",
          "2022-10-20",
          "2022-10-20",
          "2022-10-20",
          "2022-10-20",
          "2022-10-20",
          "2022-10-20",
          "2022-10-20",
          "2022-10-20",
          "2022-10-20",
          "2022-10-20",
          "2022-10-20",
          "2022-10-20",
          "2022-10-20",
          "2022-10-20",
          "2022-10-20",
          "2022-10-20",
          "2022-10-20",
          "2022-10-20",
          "2022-10-20",
          "2022-10-20",
          "2022-10-20",
          "2022-10-20",
          "2022-10-20",
          "2022-10-20",
          "2022-10-20",
          "2022-10-20",
          "2022-10-20",
          "2022-10-20",
          "2022-10-20",
          "2022-10-20",
          "2022-10-20",
          "2022-10-20",
          "2022-10-20",
          "2022-10-20",
          "2022-10-20",
          "2022-10-20",
          "2022-10-20",
          "2022-10-20",
          "2022-10-20",
          "2022-10-20",
          "2022-10-20",
          "2022-10-20",
          "2022-10-20",
          "2022-10-20",
          "2022-10-20",
          "2022-10-20",
          "2022-10-20",
          "2022-10-20",
          "2022-10-20",
          "2022-10-20",
          "2022-10-20",
          "2022-10-20",
          "2022-10-20",
          "2022-10-20",
          "2022-10-20",
          "2022-10-20",
          "2022-10-20",
          "2022-10-20",
          "2022-10-20",
          "2022-10-20",
          "2022-10-20",
          "2022-10-20",
          "2022-10-20",
          "2022-10-20",
          "2022-10-20",
          "2022-10-20",
          "2022-10-20",
          "2022-10-20",
          "2022-10-20",
          "2022-10-20",
          "2022-10-20",
          "2022-10-20",
          "2022-10-20",
          "2022-10-20",
          "2022-10-20",
          "2022-10-20",
          "2022-10-20",
          "2022-10-20",
          "2022-10-20",
          "2022-10-20",
          "2022-10-20",
          "2022-10-20",
          "2022-10-20",
          "2022-10-20",
          "2022-10-20",
          "2022-10-20",
          "2022-10-20",
          "2022-10-20",
          "2022-10-20",
          "2022-10-20",
          "2022-10-20",
          "2022-10-20",
          "2022-10-20",
          "2022-10-20",
          "2022-10-20",
          "2022-10-20",
          "2022-10-20",
          "2022-10-20",
          "2022-10-20",
          "2022-10-20",
          "2022-10-20",
          "2022-10-20",
          "2022-10-20",
          "2022-10-20",
          "2022-10-20",
          "2022-10-20",
          "2022-10-20",
          "2022-10-20",
          "2022-10-20",
          "2022-10-20",
          "2022-10-20",
          "2022-10-20",
          "2022-10-20",
          "2022-10-20",
          "2022-10-20",
          "2022-10-20",
          "2022-10-20",
          "2022-10-20",
          "2022-10-20",
          "2022-10-20",
          "2022-10-20",
          "2022-10-20",
          "2022-10-20",
          "2022-10-20",
          "2022-10-20",
          "2022-10-20",
          "2022-10-20",
          "2022-10-20",
          "2022-10-20",
          "2022-10-20",
          "2022-10-20",
          "2022-10-20",
          "2022-10-20",
          "2022-10-20",
          "2022-10-20",
          "2022-10-20",
          "2022-10-20",
          "2022-10-20",
          "2022-10-20",
          "2022-10-20",
          "2022-10-20",
          "2022-10-20",
          "2022-10-20",
          "2022-10-20",
          "2022-10-20",
          "2022-10-20",
          "2022-10-20",
          "2022-10-20",
          "2022-10-20",
          "2022-10-20",
          "2022-10-20",
          "2022-10-20",
          "2022-10-20",
          "2022-10-20",
          "2022-10-20",
          "2022-10-20",
          "2022-10-20",
          "2022-10-20",
          "2022-10-20",
          "2022-10-20",
          "2022-10-20",
          "2022-10-20",
          "2022-10-20",
          "2022-10-20",
          "2022-10-20",
          "2022-10-20",
          "2022-10-20",
          "2022-10-20",
          "2022-10-20",
          "2022-10-20",
          "2022-10-20",
          "2022-10-20",
          "2022-10-20",
          "2022-10-20",
          "2022-10-20",
          "2022-10-20",
          "2022-10-20",
          "2022-10-20",
          "2022-10-20",
          "2022-10-20",
          "2022-10-20",
          "2022-10-20",
          "2022-10-20",
          "2022-10-20",
          "2022-10-20",
          "2022-10-20",
          "2022-10-20",
          "2022-10-20",
          "2022-10-20",
          "2022-10-20",
          "2022-10-20",
          "2022-10-20",
          "2022-10-20",
          "2022-10-20",
          "2022-10-20",
          "2022-10-20",
          "2022-10-20",
          "2022-10-20",
          "2022-10-20",
          "2022-10-20",
          "2022-10-20",
          "2022-10-20",
          "2022-10-20",
          "2022-10-20",
          "2022-10-20",
          "2022-10-20",
          "2022-10-20",
          "2022-10-20",
          "2022-10-20",
          "2022-10-20",
          "2022-10-20",
          "2022-10-20",
          "2022-10-20",
          "2022-10-20",
          "2022-10-20",
          "2022-10-20",
          "2022-10-20",
          "2022-10-20",
          "2022-10-20",
          "2022-10-20",
          "2022-10-20",
          "2022-10-20",
          "2022-10-20",
          "2022-10-20",
          "2022-10-20",
          "2022-10-20",
          "2022-10-20",
          "2022-10-20",
          "2022-10-20",
          "2022-10-20",
          "2022-10-20",
          "2022-10-20",
          "2022-10-20",
          "2022-10-20",
          "2022-10-20",
          "2022-10-20",
          "2022-10-20",
          "2022-10-20",
          "2022-10-20",
          "2022-10-20",
          "2022-10-20",
          "2022-10-20",
          "2022-10-20",
          "2022-10-20",
          "2022-10-20",
          "2022-10-20",
          "2022-10-20",
          "2022-10-20",
          "2022-10-20",
          "2022-10-20",
          "2022-10-20",
          "2022-10-20",
          "2022-10-20",
          "2022-10-20",
          "2022-10-20",
          "2022-10-20",
          "2022-10-20",
          "2022-10-20",
          "2022-10-20",
          "2022-10-20",
          "2022-10-20",
          "2022-10-20",
          "2022-10-20",
          "2022-10-20",
          "2022-10-20",
          "2022-10-20",
          "2022-10-20",
          "2022-10-20",
          "2022-10-20",
          "2022-10-20",
          "2022-10-20",
          "2022-10-20",
          "2022-10-20",
          "2022-10-20",
          "2022-10-20",
          "2022-10-20",
          "2022-10-20",
          "2022-10-20",
          "2022-10-20",
          "2022-10-20",
          "2022-10-20",
          "2022-10-20",
          "2022-10-20",
          "2022-10-20",
          "2022-10-20",
          "2022-10-20",
          "2022-10-20",
          "2022-10-20",
          "2022-10-20",
          "2022-10-20",
          "2022-10-20",
          "2022-10-20",
          "2022-10-20",
          "2022-10-20",
          "2022-10-20",
          "2022-10-20",
          "2022-10-20",
          "2022-10-20",
          "2022-10-20",
          "2022-10-20",
          "2022-10-20",
          "2022-10-20",
          "2022-10-20",
          "2022-10-20",
          "2022-10-20",
          "2022-10-20",
          "2022-10-20",
          "2022-10-20",
          "2022-10-20",
          "2022-10-20",
          "2022-10-20",
          "2022-10-20",
          "2022-10-20",
          "2022-10-20",
          "2022-10-20",
          "2022-10-20",
          "2022-10-20",
          "2022-10-20",
          "2022-10-20",
          "2022-10-20",
          "2022-10-20",
          "2022-10-20",
          "2022-10-20",
          "2022-10-20",
          "2022-10-20",
          "2022-10-20",
          "2022-10-20",
          "2022-10-20",
          "2022-10-20",
          "2022-10-20",
          "2022-10-20",
          "2022-10-20",
          "2022-10-20",
          "2022-10-20",
          "2022-10-20",
          "2022-10-20",
          "2022-10-20",
          "2022-10-20",
          "2022-10-20",
          "2022-10-20",
          "2022-10-20",
          "2022-10-20",
          "2022-10-20",
          "2022-10-20",
          "2022-10-20",
          "2022-10-20",
          "2022-10-20",
          "2022-10-20",
          "2022-10-20",
          "2022-10-20",
          "2022-10-20",
          "2022-10-20",
          "2022-10-20",
          "2022-10-20",
          "2022-10-20",
          "2022-10-20",
          "2022-10-20",
          "2022-10-20",
          "2022-10-20",
          "2022-10-20",
          "2022-10-20",
          "2022-10-20",
          "2022-10-20",
          "2022-10-20",
          "2022-10-20",
          "2022-11-13",
          "2022-11-13",
          "2022-11-13",
          "2022-11-13",
          "2022-11-13",
          "2022-11-13",
          "2022-11-13",
          "2022-11-13",
          "2022-11-13",
          "2022-11-13",
          "2022-11-13",
          "2022-11-13",
          "2022-11-13",
          "2022-11-13",
          "2022-12-21",
          "2022-12-22",
          "2022-12-22",
          "2022-12-22",
          "2022-12-22",
          "2022-12-22",
          "2023-01-08",
          "2023-01-08",
          "2023-01-08",
          "2023-01-08",
          "2023-01-08",
          "2023-01-08",
          "2023-01-08",
          "2023-01-08",
          "2023-01-08",
          "2023-01-08",
          "2023-01-08",
          "2023-01-08",
          "2023-01-08",
          "2023-01-08",
          "2023-01-08",
          "2023-01-08",
          "2023-01-08",
          "2023-01-08",
          "2023-01-08",
          "2023-01-08",
          "2023-01-08",
          "2023-01-08",
          "2023-01-08",
          "2023-01-08",
          "2023-01-08",
          "2023-01-08",
          "2023-01-08",
          "2023-01-08",
          "2023-01-08",
          "2023-01-08",
          "2023-01-08",
          "2023-01-08",
          "2023-01-08",
          "2023-01-08",
          "2023-01-08",
          "2023-01-08",
          "2023-01-08",
          "2023-01-08",
          "2023-01-08",
          "2023-01-08",
          "2023-01-08",
          "2023-01-08",
          "2023-01-08",
          "2023-01-08",
          "2023-01-08",
          "2023-01-08",
          "2023-01-08",
          "2023-01-08",
          "2023-01-08",
          "2023-01-08",
          "2023-01-08",
          "2023-01-08",
          "2023-01-08",
          "2023-01-08",
          "2023-01-08",
          "2023-01-08",
          "2023-01-08",
          "2023-01-08",
          "2023-01-08",
          "2023-01-08",
          "2023-01-08",
          "2023-01-08",
          "2023-01-08",
          "2023-01-08",
          "2023-01-08",
          "2023-01-08",
          "2023-01-08",
          "2023-01-08",
          "2023-01-08",
          "2023-01-08",
          "2023-01-08",
          "2023-01-08",
          "2023-01-08",
          "2023-01-08",
          "2023-01-08",
          "2023-01-08",
          "2023-01-08",
          "2023-01-08",
          "2023-01-08",
          "2023-01-08",
          "2023-01-08",
          "2023-01-08",
          "2023-01-08",
          "2023-01-08",
          "2023-01-08",
          "2023-01-08",
          "2023-01-18"
         ],
         "xaxis": "x",
         "y": [
          94,
          94,
          94,
          79,
          78,
          78,
          75,
          73,
          59,
          52,
          53,
          55,
          50,
          51,
          57,
          55,
          53,
          50,
          54,
          49,
          51,
          49,
          50,
          50,
          50,
          49,
          50,
          48,
          49,
          49,
          50,
          49,
          51,
          49,
          48,
          50,
          49,
          49,
          49,
          50,
          49,
          50,
          48,
          50,
          50,
          51,
          49,
          50,
          51,
          49,
          49,
          49,
          50,
          50,
          49,
          48,
          50,
          49,
          49,
          48,
          50,
          48,
          52,
          50,
          51,
          49,
          50,
          50,
          49,
          52,
          56,
          51,
          49,
          51,
          49,
          48,
          48,
          48,
          49,
          48,
          50,
          54,
          50,
          83,
          60,
          53,
          49,
          50,
          46,
          55,
          48,
          51,
          50,
          52,
          69,
          55,
          51,
          50,
          48,
          47,
          48,
          49,
          68,
          53,
          49,
          46,
          61,
          51,
          47,
          48,
          48,
          47,
          48,
          49,
          48,
          48,
          49,
          50,
          48,
          50,
          49,
          48,
          48,
          47,
          49,
          48,
          49,
          48,
          48,
          49,
          48,
          48,
          50,
          49,
          47,
          48,
          48,
          46,
          47,
          49,
          47,
          46,
          48,
          48,
          48,
          50,
          49,
          48,
          48,
          48,
          50,
          49,
          48,
          44,
          47,
          48,
          49,
          48,
          48,
          49,
          48,
          65,
          55,
          52,
          49,
          47,
          48,
          48,
          49,
          48,
          48,
          49,
          53,
          49,
          48,
          49,
          50,
          49,
          49,
          48,
          48,
          49,
          48,
          50,
          49,
          50,
          57,
          50,
          69,
          53,
          59,
          52,
          53,
          49,
          52,
          50,
          51,
          54,
          50,
          50,
          51,
          56,
          52,
          50,
          68,
          55,
          47,
          44,
          47,
          48,
          46,
          46,
          47,
          53,
          70,
          52,
          56,
          51,
          49,
          50,
          48,
          46,
          53,
          56,
          51,
          47,
          68,
          49,
          47,
          47,
          46,
          45,
          47,
          46,
          48,
          49,
          57,
          54,
          47,
          47,
          48,
          48,
          68,
          54,
          49,
          48,
          48,
          47,
          45,
          47,
          43,
          47,
          46,
          68,
          86,
          55,
          50,
          47,
          48,
          47,
          47,
          43,
          44,
          45,
          47,
          49,
          42,
          46,
          50,
          47,
          46,
          47,
          43,
          45,
          47,
          46,
          48,
          47,
          45,
          45,
          47,
          45,
          46,
          45,
          44,
          45,
          46,
          47,
          43,
          47,
          46,
          47,
          48,
          46,
          45,
          47,
          62,
          47,
          45,
          74,
          55,
          50,
          46,
          68,
          53,
          44,
          43,
          47,
          49,
          76,
          55,
          50,
          46,
          45,
          48,
          46,
          69,
          48,
          48,
          48,
          48,
          52,
          49,
          49,
          48,
          44,
          44,
          46,
          67,
          54,
          76,
          53,
          45,
          58,
          51,
          46,
          42,
          44,
          46,
          45,
          66,
          71,
          53,
          44,
          46,
          47,
          49,
          44,
          45,
          45,
          45,
          47,
          47,
          47,
          48,
          49,
          45,
          45,
          46,
          46,
          45,
          45,
          45,
          48,
          48,
          53,
          46,
          48,
          49,
          47,
          50,
          68,
          64,
          52,
          52,
          49,
          48,
          49,
          49,
          46,
          47,
          45,
          47,
          49,
          49,
          53,
          46,
          43,
          47,
          65,
          80,
          77,
          76,
          55,
          51,
          49,
          48,
          48,
          48,
          48,
          70,
          74,
          79,
          90,
          76,
          72,
          74,
          88,
          92,
          79,
          61,
          71,
          73,
          55,
          50,
          69,
          76,
          78,
          76,
          90,
          77,
          75,
          75,
          89,
          83,
          82,
          91,
          80,
          90,
          81,
          78,
          80,
          81,
          113,
          86,
          79,
          76,
          76,
          75,
          77,
          76,
          72,
          71,
          74,
          75,
          76,
          75,
          75,
          89,
          79,
          76,
          75,
          74,
          75,
          74,
          89,
          79,
          76,
          72,
          73,
          72,
          76,
          79,
          89,
          79,
          76,
          89,
          78,
          75,
          75,
          75,
          75,
          61,
          68,
          70,
          74,
          75,
          75,
          95,
          82,
          85,
          78,
          76,
          76,
          72,
          74,
          76,
          88,
          76,
          74,
          61,
          85,
          74,
          75,
          80,
          73,
          89,
          79,
          76,
          76,
          75,
          57,
          55,
          51,
          69,
          87,
          92,
          84,
          74,
          77,
          78,
          76,
          75,
          89,
          79,
          73,
          74,
          89,
          85,
          78,
          90,
          94,
          76,
          89,
          80,
          76,
          75,
          57,
          50,
          49,
          56,
          78,
          74,
          79,
          77,
          75,
          77,
          90,
          79,
          76,
          61,
          56,
          55,
          62,
          58,
          70,
          73,
          74,
          75,
          75,
          74,
          75,
          72,
          56,
          55,
          70,
          74,
          83,
          79,
          90,
          75,
          75,
          75,
          56,
          50,
          68,
          73,
          75,
          89,
          79,
          76,
          61,
          68,
          58,
          70,
          59,
          71,
          59,
          56,
          70,
          72,
          65,
          72,
          74,
          75,
          60,
          68,
          73,
          72,
          73,
          69,
          73,
          82,
          79,
          75,
          75,
          89,
          79,
          83,
          91,
          87,
          78,
          90,
          83,
          92,
          79,
          80,
          73,
          77,
          75,
          75,
          89,
          83,
          77,
          76,
          90,
          83,
          90,
          93,
          87,
          86,
          82,
          102,
          83,
          84,
          85,
          78,
          80,
          81,
          77,
          75,
          89,
          75,
          79,
          90,
          83,
          77,
          76,
          98,
          85,
          80,
          73,
          97,
          81,
          99,
          104,
          89,
          79,
          72,
          75,
          106,
          115,
          157,
          157,
          134,
          108,
          102,
          109,
          108,
          103,
          86,
          70,
          70,
          80,
          89,
          90,
          97,
          91,
          96,
          104,
          109,
          109,
          114,
          107,
          98,
          99,
          104,
          94,
          65,
          56,
          62,
          59,
          59,
          67,
          71,
          64,
          67,
          68,
          74,
          74,
          80,
          91,
          76,
          72,
          72,
          74,
          84,
          95,
          109,
          103,
          107,
          105,
          109,
          108,
          102,
          99,
          107,
          113,
          106,
          110,
          113,
          112,
          103,
          97,
          99,
          99,
          97,
          98,
          92,
          90,
          93,
          89,
          66,
          66,
          67,
          83,
          99,
          98,
          111,
          111,
          108,
          102,
          100,
          88,
          88,
          84,
          83,
          92,
          94,
          99,
          102,
          75
         ],
         "yaxis": "y"
        }
       ],
       "layout": {
        "barmode": "relative",
        "legend": {
         "tracegroupgap": 0
        },
        "template": {
         "data": {
          "bar": [
           {
            "error_x": {
             "color": "#2a3f5f"
            },
            "error_y": {
             "color": "#2a3f5f"
            },
            "marker": {
             "line": {
              "color": "#E5ECF6",
              "width": 0.5
             },
             "pattern": {
              "fillmode": "overlay",
              "size": 10,
              "solidity": 0.2
             }
            },
            "type": "bar"
           }
          ],
          "barpolar": [
           {
            "marker": {
             "line": {
              "color": "#E5ECF6",
              "width": 0.5
             },
             "pattern": {
              "fillmode": "overlay",
              "size": 10,
              "solidity": 0.2
             }
            },
            "type": "barpolar"
           }
          ],
          "carpet": [
           {
            "aaxis": {
             "endlinecolor": "#2a3f5f",
             "gridcolor": "white",
             "linecolor": "white",
             "minorgridcolor": "white",
             "startlinecolor": "#2a3f5f"
            },
            "baxis": {
             "endlinecolor": "#2a3f5f",
             "gridcolor": "white",
             "linecolor": "white",
             "minorgridcolor": "white",
             "startlinecolor": "#2a3f5f"
            },
            "type": "carpet"
           }
          ],
          "choropleth": [
           {
            "colorbar": {
             "outlinewidth": 0,
             "ticks": ""
            },
            "type": "choropleth"
           }
          ],
          "contour": [
           {
            "colorbar": {
             "outlinewidth": 0,
             "ticks": ""
            },
            "colorscale": [
             [
              0,
              "#0d0887"
             ],
             [
              0.1111111111111111,
              "#46039f"
             ],
             [
              0.2222222222222222,
              "#7201a8"
             ],
             [
              0.3333333333333333,
              "#9c179e"
             ],
             [
              0.4444444444444444,
              "#bd3786"
             ],
             [
              0.5555555555555556,
              "#d8576b"
             ],
             [
              0.6666666666666666,
              "#ed7953"
             ],
             [
              0.7777777777777778,
              "#fb9f3a"
             ],
             [
              0.8888888888888888,
              "#fdca26"
             ],
             [
              1,
              "#f0f921"
             ]
            ],
            "type": "contour"
           }
          ],
          "contourcarpet": [
           {
            "colorbar": {
             "outlinewidth": 0,
             "ticks": ""
            },
            "type": "contourcarpet"
           }
          ],
          "heatmap": [
           {
            "colorbar": {
             "outlinewidth": 0,
             "ticks": ""
            },
            "colorscale": [
             [
              0,
              "#0d0887"
             ],
             [
              0.1111111111111111,
              "#46039f"
             ],
             [
              0.2222222222222222,
              "#7201a8"
             ],
             [
              0.3333333333333333,
              "#9c179e"
             ],
             [
              0.4444444444444444,
              "#bd3786"
             ],
             [
              0.5555555555555556,
              "#d8576b"
             ],
             [
              0.6666666666666666,
              "#ed7953"
             ],
             [
              0.7777777777777778,
              "#fb9f3a"
             ],
             [
              0.8888888888888888,
              "#fdca26"
             ],
             [
              1,
              "#f0f921"
             ]
            ],
            "type": "heatmap"
           }
          ],
          "heatmapgl": [
           {
            "colorbar": {
             "outlinewidth": 0,
             "ticks": ""
            },
            "colorscale": [
             [
              0,
              "#0d0887"
             ],
             [
              0.1111111111111111,
              "#46039f"
             ],
             [
              0.2222222222222222,
              "#7201a8"
             ],
             [
              0.3333333333333333,
              "#9c179e"
             ],
             [
              0.4444444444444444,
              "#bd3786"
             ],
             [
              0.5555555555555556,
              "#d8576b"
             ],
             [
              0.6666666666666666,
              "#ed7953"
             ],
             [
              0.7777777777777778,
              "#fb9f3a"
             ],
             [
              0.8888888888888888,
              "#fdca26"
             ],
             [
              1,
              "#f0f921"
             ]
            ],
            "type": "heatmapgl"
           }
          ],
          "histogram": [
           {
            "marker": {
             "pattern": {
              "fillmode": "overlay",
              "size": 10,
              "solidity": 0.2
             }
            },
            "type": "histogram"
           }
          ],
          "histogram2d": [
           {
            "colorbar": {
             "outlinewidth": 0,
             "ticks": ""
            },
            "colorscale": [
             [
              0,
              "#0d0887"
             ],
             [
              0.1111111111111111,
              "#46039f"
             ],
             [
              0.2222222222222222,
              "#7201a8"
             ],
             [
              0.3333333333333333,
              "#9c179e"
             ],
             [
              0.4444444444444444,
              "#bd3786"
             ],
             [
              0.5555555555555556,
              "#d8576b"
             ],
             [
              0.6666666666666666,
              "#ed7953"
             ],
             [
              0.7777777777777778,
              "#fb9f3a"
             ],
             [
              0.8888888888888888,
              "#fdca26"
             ],
             [
              1,
              "#f0f921"
             ]
            ],
            "type": "histogram2d"
           }
          ],
          "histogram2dcontour": [
           {
            "colorbar": {
             "outlinewidth": 0,
             "ticks": ""
            },
            "colorscale": [
             [
              0,
              "#0d0887"
             ],
             [
              0.1111111111111111,
              "#46039f"
             ],
             [
              0.2222222222222222,
              "#7201a8"
             ],
             [
              0.3333333333333333,
              "#9c179e"
             ],
             [
              0.4444444444444444,
              "#bd3786"
             ],
             [
              0.5555555555555556,
              "#d8576b"
             ],
             [
              0.6666666666666666,
              "#ed7953"
             ],
             [
              0.7777777777777778,
              "#fb9f3a"
             ],
             [
              0.8888888888888888,
              "#fdca26"
             ],
             [
              1,
              "#f0f921"
             ]
            ],
            "type": "histogram2dcontour"
           }
          ],
          "mesh3d": [
           {
            "colorbar": {
             "outlinewidth": 0,
             "ticks": ""
            },
            "type": "mesh3d"
           }
          ],
          "parcoords": [
           {
            "line": {
             "colorbar": {
              "outlinewidth": 0,
              "ticks": ""
             }
            },
            "type": "parcoords"
           }
          ],
          "pie": [
           {
            "automargin": true,
            "type": "pie"
           }
          ],
          "scatter": [
           {
            "fillpattern": {
             "fillmode": "overlay",
             "size": 10,
             "solidity": 0.2
            },
            "type": "scatter"
           }
          ],
          "scatter3d": [
           {
            "line": {
             "colorbar": {
              "outlinewidth": 0,
              "ticks": ""
             }
            },
            "marker": {
             "colorbar": {
              "outlinewidth": 0,
              "ticks": ""
             }
            },
            "type": "scatter3d"
           }
          ],
          "scattercarpet": [
           {
            "marker": {
             "colorbar": {
              "outlinewidth": 0,
              "ticks": ""
             }
            },
            "type": "scattercarpet"
           }
          ],
          "scattergeo": [
           {
            "marker": {
             "colorbar": {
              "outlinewidth": 0,
              "ticks": ""
             }
            },
            "type": "scattergeo"
           }
          ],
          "scattergl": [
           {
            "marker": {
             "colorbar": {
              "outlinewidth": 0,
              "ticks": ""
             }
            },
            "type": "scattergl"
           }
          ],
          "scattermapbox": [
           {
            "marker": {
             "colorbar": {
              "outlinewidth": 0,
              "ticks": ""
             }
            },
            "type": "scattermapbox"
           }
          ],
          "scatterpolar": [
           {
            "marker": {
             "colorbar": {
              "outlinewidth": 0,
              "ticks": ""
             }
            },
            "type": "scatterpolar"
           }
          ],
          "scatterpolargl": [
           {
            "marker": {
             "colorbar": {
              "outlinewidth": 0,
              "ticks": ""
             }
            },
            "type": "scatterpolargl"
           }
          ],
          "scatterternary": [
           {
            "marker": {
             "colorbar": {
              "outlinewidth": 0,
              "ticks": ""
             }
            },
            "type": "scatterternary"
           }
          ],
          "surface": [
           {
            "colorbar": {
             "outlinewidth": 0,
             "ticks": ""
            },
            "colorscale": [
             [
              0,
              "#0d0887"
             ],
             [
              0.1111111111111111,
              "#46039f"
             ],
             [
              0.2222222222222222,
              "#7201a8"
             ],
             [
              0.3333333333333333,
              "#9c179e"
             ],
             [
              0.4444444444444444,
              "#bd3786"
             ],
             [
              0.5555555555555556,
              "#d8576b"
             ],
             [
              0.6666666666666666,
              "#ed7953"
             ],
             [
              0.7777777777777778,
              "#fb9f3a"
             ],
             [
              0.8888888888888888,
              "#fdca26"
             ],
             [
              1,
              "#f0f921"
             ]
            ],
            "type": "surface"
           }
          ],
          "table": [
           {
            "cells": {
             "fill": {
              "color": "#EBF0F8"
             },
             "line": {
              "color": "white"
             }
            },
            "header": {
             "fill": {
              "color": "#C8D4E3"
             },
             "line": {
              "color": "white"
             }
            },
            "type": "table"
           }
          ]
         },
         "layout": {
          "annotationdefaults": {
           "arrowcolor": "#2a3f5f",
           "arrowhead": 0,
           "arrowwidth": 1
          },
          "autotypenumbers": "strict",
          "coloraxis": {
           "colorbar": {
            "outlinewidth": 0,
            "ticks": ""
           }
          },
          "colorscale": {
           "diverging": [
            [
             0,
             "#8e0152"
            ],
            [
             0.1,
             "#c51b7d"
            ],
            [
             0.2,
             "#de77ae"
            ],
            [
             0.3,
             "#f1b6da"
            ],
            [
             0.4,
             "#fde0ef"
            ],
            [
             0.5,
             "#f7f7f7"
            ],
            [
             0.6,
             "#e6f5d0"
            ],
            [
             0.7,
             "#b8e186"
            ],
            [
             0.8,
             "#7fbc41"
            ],
            [
             0.9,
             "#4d9221"
            ],
            [
             1,
             "#276419"
            ]
           ],
           "sequential": [
            [
             0,
             "#0d0887"
            ],
            [
             0.1111111111111111,
             "#46039f"
            ],
            [
             0.2222222222222222,
             "#7201a8"
            ],
            [
             0.3333333333333333,
             "#9c179e"
            ],
            [
             0.4444444444444444,
             "#bd3786"
            ],
            [
             0.5555555555555556,
             "#d8576b"
            ],
            [
             0.6666666666666666,
             "#ed7953"
            ],
            [
             0.7777777777777778,
             "#fb9f3a"
            ],
            [
             0.8888888888888888,
             "#fdca26"
            ],
            [
             1,
             "#f0f921"
            ]
           ],
           "sequentialminus": [
            [
             0,
             "#0d0887"
            ],
            [
             0.1111111111111111,
             "#46039f"
            ],
            [
             0.2222222222222222,
             "#7201a8"
            ],
            [
             0.3333333333333333,
             "#9c179e"
            ],
            [
             0.4444444444444444,
             "#bd3786"
            ],
            [
             0.5555555555555556,
             "#d8576b"
            ],
            [
             0.6666666666666666,
             "#ed7953"
            ],
            [
             0.7777777777777778,
             "#fb9f3a"
            ],
            [
             0.8888888888888888,
             "#fdca26"
            ],
            [
             1,
             "#f0f921"
            ]
           ]
          },
          "colorway": [
           "#636efa",
           "#EF553B",
           "#00cc96",
           "#ab63fa",
           "#FFA15A",
           "#19d3f3",
           "#FF6692",
           "#B6E880",
           "#FF97FF",
           "#FECB52"
          ],
          "font": {
           "color": "#2a3f5f"
          },
          "geo": {
           "bgcolor": "white",
           "lakecolor": "white",
           "landcolor": "#E5ECF6",
           "showlakes": true,
           "showland": true,
           "subunitcolor": "white"
          },
          "hoverlabel": {
           "align": "left"
          },
          "hovermode": "closest",
          "mapbox": {
           "style": "light"
          },
          "paper_bgcolor": "white",
          "plot_bgcolor": "#E5ECF6",
          "polar": {
           "angularaxis": {
            "gridcolor": "white",
            "linecolor": "white",
            "ticks": ""
           },
           "bgcolor": "#E5ECF6",
           "radialaxis": {
            "gridcolor": "white",
            "linecolor": "white",
            "ticks": ""
           }
          },
          "scene": {
           "xaxis": {
            "backgroundcolor": "#E5ECF6",
            "gridcolor": "white",
            "gridwidth": 2,
            "linecolor": "white",
            "showbackground": true,
            "ticks": "",
            "zerolinecolor": "white"
           },
           "yaxis": {
            "backgroundcolor": "#E5ECF6",
            "gridcolor": "white",
            "gridwidth": 2,
            "linecolor": "white",
            "showbackground": true,
            "ticks": "",
            "zerolinecolor": "white"
           },
           "zaxis": {
            "backgroundcolor": "#E5ECF6",
            "gridcolor": "white",
            "gridwidth": 2,
            "linecolor": "white",
            "showbackground": true,
            "ticks": "",
            "zerolinecolor": "white"
           }
          },
          "shapedefaults": {
           "line": {
            "color": "#2a3f5f"
           }
          },
          "ternary": {
           "aaxis": {
            "gridcolor": "white",
            "linecolor": "white",
            "ticks": ""
           },
           "baxis": {
            "gridcolor": "white",
            "linecolor": "white",
            "ticks": ""
           },
           "bgcolor": "#E5ECF6",
           "caxis": {
            "gridcolor": "white",
            "linecolor": "white",
            "ticks": ""
           }
          },
          "title": {
           "x": 0.05
          },
          "xaxis": {
           "automargin": true,
           "gridcolor": "white",
           "linecolor": "white",
           "ticks": "",
           "title": {
            "standoff": 15
           },
           "zerolinecolor": "white",
           "zerolinewidth": 2
          },
          "yaxis": {
           "automargin": true,
           "gridcolor": "white",
           "linecolor": "white",
           "ticks": "",
           "title": {
            "standoff": 15
           },
           "zerolinecolor": "white",
           "zerolinewidth": 2
          }
         }
        },
        "title": {
         "text": "heartrate"
        },
        "xaxis": {
         "anchor": "y",
         "domain": [
          0,
          1
         ],
         "title": {
          "text": "date"
         }
        },
        "yaxis": {
         "anchor": "x",
         "domain": [
          0,
          1
         ],
         "title": {
          "text": "heartRate"
         }
        }
       }
      },
      "text/html": [
       "<div>                            <div id=\"e9ae26be-8c1d-446f-94de-107532b18ad0\" class=\"plotly-graph-div\" style=\"height:525px; width:100%;\"></div>            <script type=\"text/javascript\">                require([\"plotly\"], function(Plotly) {                    window.PLOTLYENV=window.PLOTLYENV || {};                                    if (document.getElementById(\"e9ae26be-8c1d-446f-94de-107532b18ad0\")) {                    Plotly.newPlot(                        \"e9ae26be-8c1d-446f-94de-107532b18ad0\",                        [{\"alignmentgroup\":\"True\",\"hovertemplate\":\"date=%{x}<br>heartRate=%{y}<extra></extra>\",\"legendgroup\":\"\",\"marker\":{\"color\":\"#636efa\",\"pattern\":{\"shape\":\"\"}},\"name\":\"\",\"offsetgroup\":\"\",\"orientation\":\"v\",\"showlegend\":false,\"textposition\":\"auto\",\"x\":[\"2022-10-20\",\"2022-10-20\",\"2022-10-20\",\"2022-10-20\",\"2022-10-20\",\"2022-10-20\",\"2022-10-20\",\"2022-10-20\",\"2022-10-20\",\"2022-10-20\",\"2022-10-20\",\"2022-10-20\",\"2022-10-20\",\"2022-10-20\",\"2022-10-20\",\"2022-10-20\",\"2022-10-20\",\"2022-10-20\",\"2022-10-20\",\"2022-10-20\",\"2022-10-20\",\"2022-10-20\",\"2022-10-20\",\"2022-10-20\",\"2022-10-20\",\"2022-10-20\",\"2022-10-20\",\"2022-10-20\",\"2022-10-20\",\"2022-10-20\",\"2022-10-20\",\"2022-10-20\",\"2022-10-20\",\"2022-10-20\",\"2022-10-20\",\"2022-10-20\",\"2022-10-20\",\"2022-10-20\",\"2022-10-20\",\"2022-10-20\",\"2022-10-20\",\"2022-10-20\",\"2022-10-20\",\"2022-10-20\",\"2022-10-20\",\"2022-10-20\",\"2022-10-20\",\"2022-10-20\",\"2022-10-20\",\"2022-10-20\",\"2022-10-20\",\"2022-10-20\",\"2022-10-20\",\"2022-10-20\",\"2022-10-20\",\"2022-10-20\",\"2022-10-20\",\"2022-10-20\",\"2022-10-20\",\"2022-10-20\",\"2022-10-20\",\"2022-10-20\",\"2022-10-20\",\"2022-10-20\",\"2022-10-20\",\"2022-10-20\",\"2022-10-20\",\"2022-10-20\",\"2022-10-20\",\"2022-10-20\",\"2022-10-20\",\"2022-10-20\",\"2022-10-20\",\"2022-10-20\",\"2022-10-20\",\"2022-10-20\",\"2022-10-20\",\"2022-10-20\",\"2022-10-20\",\"2022-10-20\",\"2022-10-20\",\"2022-10-20\",\"2022-10-20\",\"2022-10-20\",\"2022-10-20\",\"2022-10-20\",\"2022-10-20\",\"2022-10-20\",\"2022-10-20\",\"2022-10-20\",\"2022-10-20\",\"2022-10-20\",\"2022-10-20\",\"2022-10-20\",\"2022-10-20\",\"2022-10-20\",\"2022-10-20\",\"2022-10-20\",\"2022-10-20\",\"2022-10-20\",\"2022-10-20\",\"2022-10-20\",\"2022-10-20\",\"2022-10-20\",\"2022-10-20\",\"2022-10-20\",\"2022-10-20\",\"2022-10-20\",\"2022-10-20\",\"2022-10-20\",\"2022-10-20\",\"2022-10-20\",\"2022-10-20\",\"2022-10-20\",\"2022-10-20\",\"2022-10-20\",\"2022-10-20\",\"2022-10-20\",\"2022-10-20\",\"2022-10-20\",\"2022-10-20\",\"2022-10-20\",\"2022-10-20\",\"2022-10-20\",\"2022-10-20\",\"2022-10-20\",\"2022-10-20\",\"2022-10-20\",\"2022-10-20\",\"2022-10-20\",\"2022-10-20\",\"2022-10-20\",\"2022-10-20\",\"2022-10-20\",\"2022-10-20\",\"2022-10-20\",\"2022-10-20\",\"2022-10-20\",\"2022-10-20\",\"2022-10-20\",\"2022-10-20\",\"2022-10-20\",\"2022-10-20\",\"2022-10-20\",\"2022-10-20\",\"2022-10-20\",\"2022-10-20\",\"2022-10-20\",\"2022-10-20\",\"2022-10-20\",\"2022-10-20\",\"2022-10-20\",\"2022-10-20\",\"2022-10-20\",\"2022-10-20\",\"2022-10-20\",\"2022-10-20\",\"2022-10-20\",\"2022-10-20\",\"2022-10-20\",\"2022-10-20\",\"2022-10-20\",\"2022-10-20\",\"2022-10-20\",\"2022-10-20\",\"2022-10-20\",\"2022-10-20\",\"2022-10-20\",\"2022-10-20\",\"2022-10-20\",\"2022-10-20\",\"2022-10-20\",\"2022-10-20\",\"2022-10-20\",\"2022-10-20\",\"2022-10-20\",\"2022-10-20\",\"2022-10-20\",\"2022-10-20\",\"2022-10-20\",\"2022-10-20\",\"2022-10-20\",\"2022-10-20\",\"2022-10-20\",\"2022-10-20\",\"2022-10-20\",\"2022-10-20\",\"2022-10-20\",\"2022-10-20\",\"2022-10-20\",\"2022-10-20\",\"2022-10-20\",\"2022-10-20\",\"2022-10-20\",\"2022-10-20\",\"2022-10-20\",\"2022-10-20\",\"2022-10-20\",\"2022-10-20\",\"2022-10-20\",\"2022-10-20\",\"2022-10-20\",\"2022-10-20\",\"2022-10-20\",\"2022-10-20\",\"2022-10-20\",\"2022-10-20\",\"2022-10-20\",\"2022-10-20\",\"2022-10-20\",\"2022-10-20\",\"2022-10-20\",\"2022-10-20\",\"2022-10-20\",\"2022-10-20\",\"2022-10-20\",\"2022-10-20\",\"2022-10-20\",\"2022-10-20\",\"2022-10-20\",\"2022-10-20\",\"2022-10-20\",\"2022-10-20\",\"2022-10-20\",\"2022-10-20\",\"2022-10-20\",\"2022-10-20\",\"2022-10-20\",\"2022-10-20\",\"2022-10-20\",\"2022-10-20\",\"2022-10-20\",\"2022-10-20\",\"2022-10-20\",\"2022-10-20\",\"2022-10-20\",\"2022-10-20\",\"2022-10-20\",\"2022-10-20\",\"2022-10-20\",\"2022-10-20\",\"2022-10-20\",\"2022-10-20\",\"2022-10-20\",\"2022-10-20\",\"2022-10-20\",\"2022-10-20\",\"2022-10-20\",\"2022-10-20\",\"2022-10-20\",\"2022-10-20\",\"2022-10-20\",\"2022-10-20\",\"2022-10-20\",\"2022-10-20\",\"2022-10-20\",\"2022-10-20\",\"2022-10-20\",\"2022-10-20\",\"2022-10-20\",\"2022-10-20\",\"2022-10-20\",\"2022-10-20\",\"2022-10-20\",\"2022-10-20\",\"2022-10-20\",\"2022-10-20\",\"2022-10-20\",\"2022-10-20\",\"2022-10-20\",\"2022-10-20\",\"2022-10-20\",\"2022-10-20\",\"2022-10-20\",\"2022-10-20\",\"2022-10-20\",\"2022-10-20\",\"2022-10-20\",\"2022-10-20\",\"2022-10-20\",\"2022-10-20\",\"2022-10-20\",\"2022-10-20\",\"2022-10-20\",\"2022-10-20\",\"2022-10-20\",\"2022-10-20\",\"2022-10-20\",\"2022-10-20\",\"2022-10-20\",\"2022-10-20\",\"2022-10-20\",\"2022-10-20\",\"2022-10-20\",\"2022-10-20\",\"2022-10-20\",\"2022-10-20\",\"2022-10-20\",\"2022-10-20\",\"2022-10-20\",\"2022-10-20\",\"2022-10-20\",\"2022-10-20\",\"2022-10-20\",\"2022-10-20\",\"2022-10-20\",\"2022-10-20\",\"2022-10-20\",\"2022-10-20\",\"2022-10-20\",\"2022-10-20\",\"2022-10-20\",\"2022-10-20\",\"2022-10-20\",\"2022-10-20\",\"2022-10-20\",\"2022-10-20\",\"2022-10-20\",\"2022-10-20\",\"2022-10-20\",\"2022-10-20\",\"2022-10-20\",\"2022-10-20\",\"2022-10-20\",\"2022-10-20\",\"2022-10-20\",\"2022-10-20\",\"2022-10-20\",\"2022-10-20\",\"2022-10-20\",\"2022-10-20\",\"2022-10-20\",\"2022-10-20\",\"2022-10-20\",\"2022-10-20\",\"2022-10-20\",\"2022-10-20\",\"2022-10-20\",\"2022-10-20\",\"2022-10-20\",\"2022-10-20\",\"2022-10-20\",\"2022-10-20\",\"2022-10-20\",\"2022-10-20\",\"2022-10-20\",\"2022-10-20\",\"2022-10-20\",\"2022-10-20\",\"2022-10-20\",\"2022-10-20\",\"2022-10-20\",\"2022-10-20\",\"2022-10-20\",\"2022-10-20\",\"2022-10-20\",\"2022-10-20\",\"2022-10-20\",\"2022-10-20\",\"2022-10-20\",\"2022-10-20\",\"2022-10-20\",\"2022-10-20\",\"2022-10-20\",\"2022-10-20\",\"2022-10-20\",\"2022-10-20\",\"2022-10-20\",\"2022-10-20\",\"2022-10-20\",\"2022-10-20\",\"2022-10-20\",\"2022-10-20\",\"2022-10-20\",\"2022-10-20\",\"2022-10-20\",\"2022-10-20\",\"2022-10-20\",\"2022-10-20\",\"2022-10-20\",\"2022-10-20\",\"2022-10-20\",\"2022-10-20\",\"2022-10-20\",\"2022-10-20\",\"2022-10-20\",\"2022-10-20\",\"2022-10-20\",\"2022-10-20\",\"2022-10-20\",\"2022-10-20\",\"2022-10-20\",\"2022-10-20\",\"2022-10-20\",\"2022-10-20\",\"2022-10-20\",\"2022-10-20\",\"2022-10-20\",\"2022-10-20\",\"2022-10-20\",\"2022-10-20\",\"2022-10-20\",\"2022-10-20\",\"2022-10-20\",\"2022-10-20\",\"2022-10-20\",\"2022-10-20\",\"2022-10-20\",\"2022-10-20\",\"2022-10-20\",\"2022-10-20\",\"2022-10-20\",\"2022-10-20\",\"2022-10-20\",\"2022-10-20\",\"2022-10-20\",\"2022-10-20\",\"2022-10-20\",\"2022-10-20\",\"2022-10-20\",\"2022-10-20\",\"2022-10-20\",\"2022-10-20\",\"2022-10-20\",\"2022-10-20\",\"2022-10-20\",\"2022-10-20\",\"2022-10-20\",\"2022-10-20\",\"2022-10-20\",\"2022-10-20\",\"2022-10-20\",\"2022-10-20\",\"2022-10-20\",\"2022-10-20\",\"2022-10-20\",\"2022-10-20\",\"2022-10-20\",\"2022-10-20\",\"2022-10-20\",\"2022-10-20\",\"2022-10-20\",\"2022-10-20\",\"2022-10-20\",\"2022-10-20\",\"2022-10-20\",\"2022-10-20\",\"2022-10-20\",\"2022-10-20\",\"2022-10-20\",\"2022-10-20\",\"2022-10-20\",\"2022-10-20\",\"2022-10-20\",\"2022-10-20\",\"2022-10-20\",\"2022-10-20\",\"2022-10-20\",\"2022-10-20\",\"2022-10-20\",\"2022-10-20\",\"2022-10-20\",\"2022-10-20\",\"2022-10-20\",\"2022-10-20\",\"2022-10-20\",\"2022-10-20\",\"2022-10-20\",\"2022-10-20\",\"2022-10-20\",\"2022-10-20\",\"2022-10-20\",\"2022-10-20\",\"2022-10-20\",\"2022-10-20\",\"2022-10-20\",\"2022-10-20\",\"2022-10-20\",\"2022-10-20\",\"2022-10-20\",\"2022-10-20\",\"2022-10-20\",\"2022-10-20\",\"2022-10-20\",\"2022-10-20\",\"2022-10-20\",\"2022-10-20\",\"2022-10-20\",\"2022-10-20\",\"2022-10-20\",\"2022-10-20\",\"2022-10-20\",\"2022-10-20\",\"2022-10-20\",\"2022-10-20\",\"2022-10-20\",\"2022-10-20\",\"2022-10-20\",\"2022-10-20\",\"2022-10-20\",\"2022-10-20\",\"2022-10-20\",\"2022-10-20\",\"2022-10-20\",\"2022-10-20\",\"2022-10-20\",\"2022-10-20\",\"2022-10-20\",\"2022-10-20\",\"2022-10-20\",\"2022-10-20\",\"2022-10-20\",\"2022-10-20\",\"2022-10-20\",\"2022-10-20\",\"2022-10-20\",\"2022-10-20\",\"2022-10-20\",\"2022-10-20\",\"2022-10-20\",\"2022-10-20\",\"2022-10-20\",\"2022-10-20\",\"2022-10-20\",\"2022-10-20\",\"2022-10-20\",\"2022-10-20\",\"2022-10-20\",\"2022-10-20\",\"2022-10-20\",\"2022-10-20\",\"2022-10-20\",\"2022-10-20\",\"2022-10-20\",\"2022-10-20\",\"2022-10-20\",\"2022-10-20\",\"2022-10-20\",\"2022-10-20\",\"2022-10-20\",\"2022-10-20\",\"2022-10-20\",\"2022-10-20\",\"2022-10-20\",\"2022-10-20\",\"2022-10-20\",\"2022-10-20\",\"2022-10-20\",\"2022-10-20\",\"2022-10-20\",\"2022-10-20\",\"2022-10-20\",\"2022-10-20\",\"2022-10-20\",\"2022-10-20\",\"2022-10-20\",\"2022-10-20\",\"2022-10-20\",\"2022-10-20\",\"2022-10-20\",\"2022-10-20\",\"2022-10-20\",\"2022-10-20\",\"2022-10-20\",\"2022-10-20\",\"2022-10-20\",\"2022-10-20\",\"2022-10-20\",\"2022-10-20\",\"2022-10-20\",\"2022-10-20\",\"2022-10-20\",\"2022-10-20\",\"2022-10-20\",\"2022-10-20\",\"2022-10-20\",\"2022-10-20\",\"2022-10-20\",\"2022-10-20\",\"2022-10-20\",\"2022-10-20\",\"2022-10-20\",\"2022-10-20\",\"2022-10-20\",\"2022-10-20\",\"2022-10-20\",\"2022-10-20\",\"2022-10-20\",\"2022-10-20\",\"2022-10-20\",\"2022-10-20\",\"2022-10-20\",\"2022-10-20\",\"2022-10-20\",\"2022-10-20\",\"2022-10-20\",\"2022-10-20\",\"2022-10-20\",\"2022-10-20\",\"2022-10-20\",\"2022-10-20\",\"2022-10-20\",\"2022-10-20\",\"2022-10-20\",\"2022-10-20\",\"2022-10-20\",\"2022-10-20\",\"2022-10-20\",\"2022-10-20\",\"2022-10-20\",\"2022-10-20\",\"2022-10-20\",\"2022-10-20\",\"2022-10-20\",\"2022-10-20\",\"2022-10-20\",\"2022-10-20\",\"2022-10-20\",\"2022-10-20\",\"2022-10-20\",\"2022-10-20\",\"2022-10-20\",\"2022-10-20\",\"2022-10-20\",\"2022-10-20\",\"2022-10-20\",\"2022-10-20\",\"2022-10-20\",\"2022-10-20\",\"2022-10-20\",\"2022-10-20\",\"2022-10-20\",\"2022-10-20\",\"2022-10-20\",\"2022-10-20\",\"2022-11-13\",\"2022-11-13\",\"2022-11-13\",\"2022-11-13\",\"2022-11-13\",\"2022-11-13\",\"2022-11-13\",\"2022-11-13\",\"2022-11-13\",\"2022-11-13\",\"2022-11-13\",\"2022-11-13\",\"2022-11-13\",\"2022-11-13\",\"2022-12-21\",\"2022-12-22\",\"2022-12-22\",\"2022-12-22\",\"2022-12-22\",\"2022-12-22\",\"2023-01-08\",\"2023-01-08\",\"2023-01-08\",\"2023-01-08\",\"2023-01-08\",\"2023-01-08\",\"2023-01-08\",\"2023-01-08\",\"2023-01-08\",\"2023-01-08\",\"2023-01-08\",\"2023-01-08\",\"2023-01-08\",\"2023-01-08\",\"2023-01-08\",\"2023-01-08\",\"2023-01-08\",\"2023-01-08\",\"2023-01-08\",\"2023-01-08\",\"2023-01-08\",\"2023-01-08\",\"2023-01-08\",\"2023-01-08\",\"2023-01-08\",\"2023-01-08\",\"2023-01-08\",\"2023-01-08\",\"2023-01-08\",\"2023-01-08\",\"2023-01-08\",\"2023-01-08\",\"2023-01-08\",\"2023-01-08\",\"2023-01-08\",\"2023-01-08\",\"2023-01-08\",\"2023-01-08\",\"2023-01-08\",\"2023-01-08\",\"2023-01-08\",\"2023-01-08\",\"2023-01-08\",\"2023-01-08\",\"2023-01-08\",\"2023-01-08\",\"2023-01-08\",\"2023-01-08\",\"2023-01-08\",\"2023-01-08\",\"2023-01-08\",\"2023-01-08\",\"2023-01-08\",\"2023-01-08\",\"2023-01-08\",\"2023-01-08\",\"2023-01-08\",\"2023-01-08\",\"2023-01-08\",\"2023-01-08\",\"2023-01-08\",\"2023-01-08\",\"2023-01-08\",\"2023-01-08\",\"2023-01-08\",\"2023-01-08\",\"2023-01-08\",\"2023-01-08\",\"2023-01-08\",\"2023-01-08\",\"2023-01-08\",\"2023-01-08\",\"2023-01-08\",\"2023-01-08\",\"2023-01-08\",\"2023-01-08\",\"2023-01-08\",\"2023-01-08\",\"2023-01-08\",\"2023-01-08\",\"2023-01-08\",\"2023-01-08\",\"2023-01-08\",\"2023-01-08\",\"2023-01-08\",\"2023-01-08\",\"2023-01-18\"],\"xaxis\":\"x\",\"y\":[94,94,94,79,78,78,75,73,59,52,53,55,50,51,57,55,53,50,54,49,51,49,50,50,50,49,50,48,49,49,50,49,51,49,48,50,49,49,49,50,49,50,48,50,50,51,49,50,51,49,49,49,50,50,49,48,50,49,49,48,50,48,52,50,51,49,50,50,49,52,56,51,49,51,49,48,48,48,49,48,50,54,50,83,60,53,49,50,46,55,48,51,50,52,69,55,51,50,48,47,48,49,68,53,49,46,61,51,47,48,48,47,48,49,48,48,49,50,48,50,49,48,48,47,49,48,49,48,48,49,48,48,50,49,47,48,48,46,47,49,47,46,48,48,48,50,49,48,48,48,50,49,48,44,47,48,49,48,48,49,48,65,55,52,49,47,48,48,49,48,48,49,53,49,48,49,50,49,49,48,48,49,48,50,49,50,57,50,69,53,59,52,53,49,52,50,51,54,50,50,51,56,52,50,68,55,47,44,47,48,46,46,47,53,70,52,56,51,49,50,48,46,53,56,51,47,68,49,47,47,46,45,47,46,48,49,57,54,47,47,48,48,68,54,49,48,48,47,45,47,43,47,46,68,86,55,50,47,48,47,47,43,44,45,47,49,42,46,50,47,46,47,43,45,47,46,48,47,45,45,47,45,46,45,44,45,46,47,43,47,46,47,48,46,45,47,62,47,45,74,55,50,46,68,53,44,43,47,49,76,55,50,46,45,48,46,69,48,48,48,48,52,49,49,48,44,44,46,67,54,76,53,45,58,51,46,42,44,46,45,66,71,53,44,46,47,49,44,45,45,45,47,47,47,48,49,45,45,46,46,45,45,45,48,48,53,46,48,49,47,50,68,64,52,52,49,48,49,49,46,47,45,47,49,49,53,46,43,47,65,80,77,76,55,51,49,48,48,48,48,70,74,79,90,76,72,74,88,92,79,61,71,73,55,50,69,76,78,76,90,77,75,75,89,83,82,91,80,90,81,78,80,81,113,86,79,76,76,75,77,76,72,71,74,75,76,75,75,89,79,76,75,74,75,74,89,79,76,72,73,72,76,79,89,79,76,89,78,75,75,75,75,61,68,70,74,75,75,95,82,85,78,76,76,72,74,76,88,76,74,61,85,74,75,80,73,89,79,76,76,75,57,55,51,69,87,92,84,74,77,78,76,75,89,79,73,74,89,85,78,90,94,76,89,80,76,75,57,50,49,56,78,74,79,77,75,77,90,79,76,61,56,55,62,58,70,73,74,75,75,74,75,72,56,55,70,74,83,79,90,75,75,75,56,50,68,73,75,89,79,76,61,68,58,70,59,71,59,56,70,72,65,72,74,75,60,68,73,72,73,69,73,82,79,75,75,89,79,83,91,87,78,90,83,92,79,80,73,77,75,75,89,83,77,76,90,83,90,93,87,86,82,102,83,84,85,78,80,81,77,75,89,75,79,90,83,77,76,98,85,80,73,97,81,99,104,89,79,72,75,106,115,157,157,134,108,102,109,108,103,86,70,70,80,89,90,97,91,96,104,109,109,114,107,98,99,104,94,65,56,62,59,59,67,71,64,67,68,74,74,80,91,76,72,72,74,84,95,109,103,107,105,109,108,102,99,107,113,106,110,113,112,103,97,99,99,97,98,92,90,93,89,66,66,67,83,99,98,111,111,108,102,100,88,88,84,83,92,94,99,102,75],\"yaxis\":\"y\",\"type\":\"bar\"}],                        {\"template\":{\"data\":{\"histogram2dcontour\":[{\"type\":\"histogram2dcontour\",\"colorbar\":{\"outlinewidth\":0,\"ticks\":\"\"},\"colorscale\":[[0.0,\"#0d0887\"],[0.1111111111111111,\"#46039f\"],[0.2222222222222222,\"#7201a8\"],[0.3333333333333333,\"#9c179e\"],[0.4444444444444444,\"#bd3786\"],[0.5555555555555556,\"#d8576b\"],[0.6666666666666666,\"#ed7953\"],[0.7777777777777778,\"#fb9f3a\"],[0.8888888888888888,\"#fdca26\"],[1.0,\"#f0f921\"]]}],\"choropleth\":[{\"type\":\"choropleth\",\"colorbar\":{\"outlinewidth\":0,\"ticks\":\"\"}}],\"histogram2d\":[{\"type\":\"histogram2d\",\"colorbar\":{\"outlinewidth\":0,\"ticks\":\"\"},\"colorscale\":[[0.0,\"#0d0887\"],[0.1111111111111111,\"#46039f\"],[0.2222222222222222,\"#7201a8\"],[0.3333333333333333,\"#9c179e\"],[0.4444444444444444,\"#bd3786\"],[0.5555555555555556,\"#d8576b\"],[0.6666666666666666,\"#ed7953\"],[0.7777777777777778,\"#fb9f3a\"],[0.8888888888888888,\"#fdca26\"],[1.0,\"#f0f921\"]]}],\"heatmap\":[{\"type\":\"heatmap\",\"colorbar\":{\"outlinewidth\":0,\"ticks\":\"\"},\"colorscale\":[[0.0,\"#0d0887\"],[0.1111111111111111,\"#46039f\"],[0.2222222222222222,\"#7201a8\"],[0.3333333333333333,\"#9c179e\"],[0.4444444444444444,\"#bd3786\"],[0.5555555555555556,\"#d8576b\"],[0.6666666666666666,\"#ed7953\"],[0.7777777777777778,\"#fb9f3a\"],[0.8888888888888888,\"#fdca26\"],[1.0,\"#f0f921\"]]}],\"heatmapgl\":[{\"type\":\"heatmapgl\",\"colorbar\":{\"outlinewidth\":0,\"ticks\":\"\"},\"colorscale\":[[0.0,\"#0d0887\"],[0.1111111111111111,\"#46039f\"],[0.2222222222222222,\"#7201a8\"],[0.3333333333333333,\"#9c179e\"],[0.4444444444444444,\"#bd3786\"],[0.5555555555555556,\"#d8576b\"],[0.6666666666666666,\"#ed7953\"],[0.7777777777777778,\"#fb9f3a\"],[0.8888888888888888,\"#fdca26\"],[1.0,\"#f0f921\"]]}],\"contourcarpet\":[{\"type\":\"contourcarpet\",\"colorbar\":{\"outlinewidth\":0,\"ticks\":\"\"}}],\"contour\":[{\"type\":\"contour\",\"colorbar\":{\"outlinewidth\":0,\"ticks\":\"\"},\"colorscale\":[[0.0,\"#0d0887\"],[0.1111111111111111,\"#46039f\"],[0.2222222222222222,\"#7201a8\"],[0.3333333333333333,\"#9c179e\"],[0.4444444444444444,\"#bd3786\"],[0.5555555555555556,\"#d8576b\"],[0.6666666666666666,\"#ed7953\"],[0.7777777777777778,\"#fb9f3a\"],[0.8888888888888888,\"#fdca26\"],[1.0,\"#f0f921\"]]}],\"surface\":[{\"type\":\"surface\",\"colorbar\":{\"outlinewidth\":0,\"ticks\":\"\"},\"colorscale\":[[0.0,\"#0d0887\"],[0.1111111111111111,\"#46039f\"],[0.2222222222222222,\"#7201a8\"],[0.3333333333333333,\"#9c179e\"],[0.4444444444444444,\"#bd3786\"],[0.5555555555555556,\"#d8576b\"],[0.6666666666666666,\"#ed7953\"],[0.7777777777777778,\"#fb9f3a\"],[0.8888888888888888,\"#fdca26\"],[1.0,\"#f0f921\"]]}],\"mesh3d\":[{\"type\":\"mesh3d\",\"colorbar\":{\"outlinewidth\":0,\"ticks\":\"\"}}],\"scatter\":[{\"fillpattern\":{\"fillmode\":\"overlay\",\"size\":10,\"solidity\":0.2},\"type\":\"scatter\"}],\"parcoords\":[{\"type\":\"parcoords\",\"line\":{\"colorbar\":{\"outlinewidth\":0,\"ticks\":\"\"}}}],\"scatterpolargl\":[{\"type\":\"scatterpolargl\",\"marker\":{\"colorbar\":{\"outlinewidth\":0,\"ticks\":\"\"}}}],\"bar\":[{\"error_x\":{\"color\":\"#2a3f5f\"},\"error_y\":{\"color\":\"#2a3f5f\"},\"marker\":{\"line\":{\"color\":\"#E5ECF6\",\"width\":0.5},\"pattern\":{\"fillmode\":\"overlay\",\"size\":10,\"solidity\":0.2}},\"type\":\"bar\"}],\"scattergeo\":[{\"type\":\"scattergeo\",\"marker\":{\"colorbar\":{\"outlinewidth\":0,\"ticks\":\"\"}}}],\"scatterpolar\":[{\"type\":\"scatterpolar\",\"marker\":{\"colorbar\":{\"outlinewidth\":0,\"ticks\":\"\"}}}],\"histogram\":[{\"marker\":{\"pattern\":{\"fillmode\":\"overlay\",\"size\":10,\"solidity\":0.2}},\"type\":\"histogram\"}],\"scattergl\":[{\"type\":\"scattergl\",\"marker\":{\"colorbar\":{\"outlinewidth\":0,\"ticks\":\"\"}}}],\"scatter3d\":[{\"type\":\"scatter3d\",\"line\":{\"colorbar\":{\"outlinewidth\":0,\"ticks\":\"\"}},\"marker\":{\"colorbar\":{\"outlinewidth\":0,\"ticks\":\"\"}}}],\"scattermapbox\":[{\"type\":\"scattermapbox\",\"marker\":{\"colorbar\":{\"outlinewidth\":0,\"ticks\":\"\"}}}],\"scatterternary\":[{\"type\":\"scatterternary\",\"marker\":{\"colorbar\":{\"outlinewidth\":0,\"ticks\":\"\"}}}],\"scattercarpet\":[{\"type\":\"scattercarpet\",\"marker\":{\"colorbar\":{\"outlinewidth\":0,\"ticks\":\"\"}}}],\"carpet\":[{\"aaxis\":{\"endlinecolor\":\"#2a3f5f\",\"gridcolor\":\"white\",\"linecolor\":\"white\",\"minorgridcolor\":\"white\",\"startlinecolor\":\"#2a3f5f\"},\"baxis\":{\"endlinecolor\":\"#2a3f5f\",\"gridcolor\":\"white\",\"linecolor\":\"white\",\"minorgridcolor\":\"white\",\"startlinecolor\":\"#2a3f5f\"},\"type\":\"carpet\"}],\"table\":[{\"cells\":{\"fill\":{\"color\":\"#EBF0F8\"},\"line\":{\"color\":\"white\"}},\"header\":{\"fill\":{\"color\":\"#C8D4E3\"},\"line\":{\"color\":\"white\"}},\"type\":\"table\"}],\"barpolar\":[{\"marker\":{\"line\":{\"color\":\"#E5ECF6\",\"width\":0.5},\"pattern\":{\"fillmode\":\"overlay\",\"size\":10,\"solidity\":0.2}},\"type\":\"barpolar\"}],\"pie\":[{\"automargin\":true,\"type\":\"pie\"}]},\"layout\":{\"autotypenumbers\":\"strict\",\"colorway\":[\"#636efa\",\"#EF553B\",\"#00cc96\",\"#ab63fa\",\"#FFA15A\",\"#19d3f3\",\"#FF6692\",\"#B6E880\",\"#FF97FF\",\"#FECB52\"],\"font\":{\"color\":\"#2a3f5f\"},\"hovermode\":\"closest\",\"hoverlabel\":{\"align\":\"left\"},\"paper_bgcolor\":\"white\",\"plot_bgcolor\":\"#E5ECF6\",\"polar\":{\"bgcolor\":\"#E5ECF6\",\"angularaxis\":{\"gridcolor\":\"white\",\"linecolor\":\"white\",\"ticks\":\"\"},\"radialaxis\":{\"gridcolor\":\"white\",\"linecolor\":\"white\",\"ticks\":\"\"}},\"ternary\":{\"bgcolor\":\"#E5ECF6\",\"aaxis\":{\"gridcolor\":\"white\",\"linecolor\":\"white\",\"ticks\":\"\"},\"baxis\":{\"gridcolor\":\"white\",\"linecolor\":\"white\",\"ticks\":\"\"},\"caxis\":{\"gridcolor\":\"white\",\"linecolor\":\"white\",\"ticks\":\"\"}},\"coloraxis\":{\"colorbar\":{\"outlinewidth\":0,\"ticks\":\"\"}},\"colorscale\":{\"sequential\":[[0.0,\"#0d0887\"],[0.1111111111111111,\"#46039f\"],[0.2222222222222222,\"#7201a8\"],[0.3333333333333333,\"#9c179e\"],[0.4444444444444444,\"#bd3786\"],[0.5555555555555556,\"#d8576b\"],[0.6666666666666666,\"#ed7953\"],[0.7777777777777778,\"#fb9f3a\"],[0.8888888888888888,\"#fdca26\"],[1.0,\"#f0f921\"]],\"sequentialminus\":[[0.0,\"#0d0887\"],[0.1111111111111111,\"#46039f\"],[0.2222222222222222,\"#7201a8\"],[0.3333333333333333,\"#9c179e\"],[0.4444444444444444,\"#bd3786\"],[0.5555555555555556,\"#d8576b\"],[0.6666666666666666,\"#ed7953\"],[0.7777777777777778,\"#fb9f3a\"],[0.8888888888888888,\"#fdca26\"],[1.0,\"#f0f921\"]],\"diverging\":[[0,\"#8e0152\"],[0.1,\"#c51b7d\"],[0.2,\"#de77ae\"],[0.3,\"#f1b6da\"],[0.4,\"#fde0ef\"],[0.5,\"#f7f7f7\"],[0.6,\"#e6f5d0\"],[0.7,\"#b8e186\"],[0.8,\"#7fbc41\"],[0.9,\"#4d9221\"],[1,\"#276419\"]]},\"xaxis\":{\"gridcolor\":\"white\",\"linecolor\":\"white\",\"ticks\":\"\",\"title\":{\"standoff\":15},\"zerolinecolor\":\"white\",\"automargin\":true,\"zerolinewidth\":2},\"yaxis\":{\"gridcolor\":\"white\",\"linecolor\":\"white\",\"ticks\":\"\",\"title\":{\"standoff\":15},\"zerolinecolor\":\"white\",\"automargin\":true,\"zerolinewidth\":2},\"scene\":{\"xaxis\":{\"backgroundcolor\":\"#E5ECF6\",\"gridcolor\":\"white\",\"linecolor\":\"white\",\"showbackground\":true,\"ticks\":\"\",\"zerolinecolor\":\"white\",\"gridwidth\":2},\"yaxis\":{\"backgroundcolor\":\"#E5ECF6\",\"gridcolor\":\"white\",\"linecolor\":\"white\",\"showbackground\":true,\"ticks\":\"\",\"zerolinecolor\":\"white\",\"gridwidth\":2},\"zaxis\":{\"backgroundcolor\":\"#E5ECF6\",\"gridcolor\":\"white\",\"linecolor\":\"white\",\"showbackground\":true,\"ticks\":\"\",\"zerolinecolor\":\"white\",\"gridwidth\":2}},\"shapedefaults\":{\"line\":{\"color\":\"#2a3f5f\"}},\"annotationdefaults\":{\"arrowcolor\":\"#2a3f5f\",\"arrowhead\":0,\"arrowwidth\":1},\"geo\":{\"bgcolor\":\"white\",\"landcolor\":\"#E5ECF6\",\"subunitcolor\":\"white\",\"showland\":true,\"showlakes\":true,\"lakecolor\":\"white\"},\"title\":{\"x\":0.05},\"mapbox\":{\"style\":\"light\"}}},\"xaxis\":{\"anchor\":\"y\",\"domain\":[0.0,1.0],\"title\":{\"text\":\"date\"}},\"yaxis\":{\"anchor\":\"x\",\"domain\":[0.0,1.0],\"title\":{\"text\":\"heartRate\"}},\"legend\":{\"tracegroupgap\":0},\"title\":{\"text\":\"heartrate\"},\"barmode\":\"relative\"},                        {\"responsive\": true}                    ).then(function(){\n",
       "                            \n",
       "var gd = document.getElementById('e9ae26be-8c1d-446f-94de-107532b18ad0');\n",
       "var x = new MutationObserver(function (mutations, observer) {{\n",
       "        var display = window.getComputedStyle(gd).display;\n",
       "        if (!display || display === 'none') {{\n",
       "            console.log([gd, 'removed!']);\n",
       "            Plotly.purge(gd);\n",
       "            observer.disconnect();\n",
       "        }}\n",
       "}});\n",
       "\n",
       "// Listen for the removal of the full notebook cells\n",
       "var notebookContainer = gd.closest('#notebook-container');\n",
       "if (notebookContainer) {{\n",
       "    x.observe(notebookContainer, {childList: true});\n",
       "}}\n",
       "\n",
       "// Listen for the clearing of the current output cell\n",
       "var outputEl = gd.closest('.output');\n",
       "if (outputEl) {{\n",
       "    x.observe(outputEl, {childList: true});\n",
       "}}\n",
       "\n",
       "                        })                };                });            </script>        </div>"
      ]
     },
     "metadata": {},
     "output_type": "display_data"
    }
   ],
   "source": [
    "\n",
    "##Analysing heartrate over period\n",
    "\n",
    "fig= px.bar(data_frame=heart, x=\"date\", y=\"heartRate\", title=\"heartrate\")\n",
    "\n",
    "fig.show() "
   ]
  },
  {
   "cell_type": "code",
   "execution_count": 55,
   "id": "4f3ce167",
   "metadata": {},
   "outputs": [
    {
     "data": {
      "text/html": [
       "<div>\n",
       "<style scoped>\n",
       "    .dataframe tbody tr th:only-of-type {\n",
       "        vertical-align: middle;\n",
       "    }\n",
       "\n",
       "    .dataframe tbody tr th {\n",
       "        vertical-align: top;\n",
       "    }\n",
       "\n",
       "    .dataframe thead th {\n",
       "        text-align: right;\n",
       "    }\n",
       "</style>\n",
       "<table border=\"1\" class=\"dataframe\">\n",
       "  <thead>\n",
       "    <tr style=\"text-align: right;\">\n",
       "      <th></th>\n",
       "      <th>date</th>\n",
       "      <th>deepSleepTime</th>\n",
       "      <th>shallowSleepTime</th>\n",
       "      <th>wakeTime</th>\n",
       "      <th>start</th>\n",
       "      <th>stop</th>\n",
       "      <th>REMTime</th>\n",
       "      <th>naps</th>\n",
       "      <th>totalSleeptime</th>\n",
       "    </tr>\n",
       "  </thead>\n",
       "  <tbody>\n",
       "    <tr>\n",
       "      <th>0</th>\n",
       "      <td>2022-10-20</td>\n",
       "      <td>96</td>\n",
       "      <td>289</td>\n",
       "      <td>0</td>\n",
       "      <td>2022-10-20 05:13:00+0000</td>\n",
       "      <td>2022-10-20 11:38:00+0000</td>\n",
       "      <td>0</td>\n",
       "      <td>NaN</td>\n",
       "      <td>385</td>\n",
       "    </tr>\n",
       "    <tr>\n",
       "      <th>1</th>\n",
       "      <td>2022-10-21</td>\n",
       "      <td>125</td>\n",
       "      <td>251</td>\n",
       "      <td>0</td>\n",
       "      <td>2022-10-21 05:10:00+0000</td>\n",
       "      <td>2022-10-21 11:26:00+0000</td>\n",
       "      <td>0</td>\n",
       "      <td>NaN</td>\n",
       "      <td>376</td>\n",
       "    </tr>\n",
       "    <tr>\n",
       "      <th>2</th>\n",
       "      <td>2022-10-22</td>\n",
       "      <td>118</td>\n",
       "      <td>368</td>\n",
       "      <td>0</td>\n",
       "      <td>2022-10-22 04:47:00+0000</td>\n",
       "      <td>2022-10-22 12:53:00+0000</td>\n",
       "      <td>0</td>\n",
       "      <td>NaN</td>\n",
       "      <td>486</td>\n",
       "    </tr>\n",
       "    <tr>\n",
       "      <th>3</th>\n",
       "      <td>2022-10-23</td>\n",
       "      <td>0</td>\n",
       "      <td>0</td>\n",
       "      <td>0</td>\n",
       "      <td>2022-10-22 04:00:00+0000</td>\n",
       "      <td>2022-10-22 04:00:00+0000</td>\n",
       "      <td>0</td>\n",
       "      <td>NaN</td>\n",
       "      <td>0</td>\n",
       "    </tr>\n",
       "    <tr>\n",
       "      <th>4</th>\n",
       "      <td>2022-10-24</td>\n",
       "      <td>177</td>\n",
       "      <td>296</td>\n",
       "      <td>0</td>\n",
       "      <td>2022-10-24 04:06:00+0000</td>\n",
       "      <td>2022-10-24 11:59:00+0000</td>\n",
       "      <td>0</td>\n",
       "      <td>NaN</td>\n",
       "      <td>473</td>\n",
       "    </tr>\n",
       "    <tr>\n",
       "      <th>...</th>\n",
       "      <td>...</td>\n",
       "      <td>...</td>\n",
       "      <td>...</td>\n",
       "      <td>...</td>\n",
       "      <td>...</td>\n",
       "      <td>...</td>\n",
       "      <td>...</td>\n",
       "      <td>...</td>\n",
       "      <td>...</td>\n",
       "    </tr>\n",
       "    <tr>\n",
       "      <th>87</th>\n",
       "      <td>2023-01-15</td>\n",
       "      <td>26</td>\n",
       "      <td>217</td>\n",
       "      <td>0</td>\n",
       "      <td>2023-01-15 04:52:00+0000</td>\n",
       "      <td>2023-01-15 08:55:00+0000</td>\n",
       "      <td>0</td>\n",
       "      <td>NaN</td>\n",
       "      <td>243</td>\n",
       "    </tr>\n",
       "    <tr>\n",
       "      <th>88</th>\n",
       "      <td>2023-01-16</td>\n",
       "      <td>154</td>\n",
       "      <td>271</td>\n",
       "      <td>0</td>\n",
       "      <td>2023-01-16 06:43:00+0000</td>\n",
       "      <td>2023-01-16 13:48:00+0000</td>\n",
       "      <td>0</td>\n",
       "      <td>NaN</td>\n",
       "      <td>425</td>\n",
       "    </tr>\n",
       "    <tr>\n",
       "      <th>89</th>\n",
       "      <td>2023-01-17</td>\n",
       "      <td>146</td>\n",
       "      <td>268</td>\n",
       "      <td>0</td>\n",
       "      <td>2023-01-17 05:30:00+0000</td>\n",
       "      <td>2023-01-17 12:24:00+0000</td>\n",
       "      <td>0</td>\n",
       "      <td>NaN</td>\n",
       "      <td>414</td>\n",
       "    </tr>\n",
       "    <tr>\n",
       "      <th>90</th>\n",
       "      <td>2023-01-18</td>\n",
       "      <td>99</td>\n",
       "      <td>305</td>\n",
       "      <td>0</td>\n",
       "      <td>2023-01-18 05:48:00+0000</td>\n",
       "      <td>2023-01-18 12:32:00+0000</td>\n",
       "      <td>0</td>\n",
       "      <td>NaN</td>\n",
       "      <td>404</td>\n",
       "    </tr>\n",
       "    <tr>\n",
       "      <th>91</th>\n",
       "      <td>2023-01-19</td>\n",
       "      <td>168</td>\n",
       "      <td>296</td>\n",
       "      <td>0</td>\n",
       "      <td>2023-01-19 05:58:00+0000</td>\n",
       "      <td>2023-01-19 13:42:00+0000</td>\n",
       "      <td>0</td>\n",
       "      <td>NaN</td>\n",
       "      <td>464</td>\n",
       "    </tr>\n",
       "  </tbody>\n",
       "</table>\n",
       "<p>92 rows × 9 columns</p>\n",
       "</div>"
      ],
      "text/plain": [
       "          date  deepSleepTime  shallowSleepTime  wakeTime  \\\n",
       "0   2022-10-20             96               289         0   \n",
       "1   2022-10-21            125               251         0   \n",
       "2   2022-10-22            118               368         0   \n",
       "3   2022-10-23              0                 0         0   \n",
       "4   2022-10-24            177               296         0   \n",
       "..         ...            ...               ...       ...   \n",
       "87  2023-01-15             26               217         0   \n",
       "88  2023-01-16            154               271         0   \n",
       "89  2023-01-17            146               268         0   \n",
       "90  2023-01-18             99               305         0   \n",
       "91  2023-01-19            168               296         0   \n",
       "\n",
       "                       start                      stop  REMTime  naps  \\\n",
       "0   2022-10-20 05:13:00+0000  2022-10-20 11:38:00+0000        0   NaN   \n",
       "1   2022-10-21 05:10:00+0000  2022-10-21 11:26:00+0000        0   NaN   \n",
       "2   2022-10-22 04:47:00+0000  2022-10-22 12:53:00+0000        0   NaN   \n",
       "3   2022-10-22 04:00:00+0000  2022-10-22 04:00:00+0000        0   NaN   \n",
       "4   2022-10-24 04:06:00+0000  2022-10-24 11:59:00+0000        0   NaN   \n",
       "..                       ...                       ...      ...   ...   \n",
       "87  2023-01-15 04:52:00+0000  2023-01-15 08:55:00+0000        0   NaN   \n",
       "88  2023-01-16 06:43:00+0000  2023-01-16 13:48:00+0000        0   NaN   \n",
       "89  2023-01-17 05:30:00+0000  2023-01-17 12:24:00+0000        0   NaN   \n",
       "90  2023-01-18 05:48:00+0000  2023-01-18 12:32:00+0000        0   NaN   \n",
       "91  2023-01-19 05:58:00+0000  2023-01-19 13:42:00+0000        0   NaN   \n",
       "\n",
       "    totalSleeptime  \n",
       "0              385  \n",
       "1              376  \n",
       "2              486  \n",
       "3                0  \n",
       "4              473  \n",
       "..             ...  \n",
       "87             243  \n",
       "88             425  \n",
       "89             414  \n",
       "90             404  \n",
       "91             464  \n",
       "\n",
       "[92 rows x 9 columns]"
      ]
     },
     "execution_count": 55,
     "metadata": {},
     "output_type": "execute_result"
    }
   ],
   "source": [
    "##Analysing Sleep data\n",
    "sleep=pd.read_csv(\"sleep/sleep.csv\")\n",
    "sleep['totalSleeptime']=sleep['deepSleepTime']+sleep['shallowSleepTime']\n",
    "sleep"
   ]
  },
  {
   "cell_type": "code",
   "execution_count": 83,
   "id": "a128e824",
   "metadata": {},
   "outputs": [
    {
     "data": {
      "application/vnd.plotly.v1+json": {
       "config": {
        "plotlyServerURL": "https://plot.ly"
       },
       "data": [
        {
         "hovertemplate": "x=%{x}<br>y=%{y}<extra></extra>",
         "legendgroup": "",
         "line": {
          "color": "#636efa",
          "dash": "solid"
         },
         "marker": {
          "symbol": "circle"
         },
         "mode": "lines",
         "name": "",
         "orientation": "v",
         "showlegend": false,
         "type": "scatter",
         "x": [
          "2022-10-20",
          "2022-10-21",
          "2022-10-22",
          "2022-10-23",
          "2022-10-24",
          "2022-10-25",
          "2022-10-26",
          "2022-10-27",
          "2022-10-28",
          "2022-10-29",
          "2022-10-30",
          "2022-10-31",
          "2022-11-01",
          "2022-11-02",
          "2022-11-03",
          "2022-11-04",
          "2022-11-05",
          "2022-11-06",
          "2022-11-07",
          "2022-11-08",
          "2022-11-09",
          "2022-11-10",
          "2022-11-11",
          "2022-11-12",
          "2022-11-13",
          "2022-11-14",
          "2022-11-15",
          "2022-11-16",
          "2022-11-17",
          "2022-11-18",
          "2022-11-19",
          "2022-11-20",
          "2022-11-21",
          "2022-11-22",
          "2022-11-23",
          "2022-11-24",
          "2022-11-25",
          "2022-11-26",
          "2022-11-27",
          "2022-11-28",
          "2022-11-29",
          "2022-11-30",
          "2022-12-01",
          "2022-12-02",
          "2022-12-03",
          "2022-12-04",
          "2022-12-05",
          "2022-12-06",
          "2022-12-07",
          "2022-12-08",
          "2022-12-09",
          "2022-12-10",
          "2022-12-11",
          "2022-12-12",
          "2022-12-13",
          "2022-12-14",
          "2022-12-15",
          "2022-12-16",
          "2022-12-17",
          "2022-12-18",
          "2022-12-19",
          "2022-12-20",
          "2022-12-21",
          "2022-12-22",
          "2022-12-23",
          "2022-12-24",
          "2022-12-25",
          "2022-12-26",
          "2022-12-27",
          "2022-12-28",
          "2022-12-29",
          "2022-12-30",
          "2022-12-31",
          "2023-01-01",
          "2023-01-02",
          "2023-01-03",
          "2023-01-04",
          "2023-01-05",
          "2023-01-06",
          "2023-01-07",
          "2023-01-08",
          "2023-01-09",
          "2023-01-10",
          "2023-01-11",
          "2023-01-12",
          "2023-01-13",
          "2023-01-14",
          "2023-01-15",
          "2023-01-16",
          "2023-01-17",
          "2023-01-18",
          "2023-01-19"
         ],
         "xaxis": "x",
         "y": [
          96,
          125,
          118,
          0,
          177,
          94,
          83,
          149,
          121,
          111,
          55,
          125,
          160,
          118,
          185,
          112,
          109,
          66,
          96,
          169,
          117,
          79,
          150,
          128,
          143,
          156,
          215,
          122,
          126,
          203,
          92,
          101,
          139,
          161,
          139,
          129,
          211,
          134,
          102,
          139,
          103,
          120,
          144,
          128,
          110,
          157,
          144,
          124,
          130,
          169,
          128,
          132,
          168,
          92,
          152,
          123,
          148,
          155,
          172,
          79,
          126,
          149,
          142,
          120,
          194,
          113,
          165,
          130,
          91,
          157,
          146,
          100,
          162,
          127,
          119,
          0,
          265,
          162,
          110,
          90,
          112,
          162,
          151,
          176,
          190,
          189,
          148,
          26,
          154,
          146,
          99,
          168
         ],
         "yaxis": "y"
        },
        {
         "name": "Total sleep time",
         "type": "bar",
         "x": [
          "2022-10-20",
          "2022-10-21",
          "2022-10-22",
          "2022-10-23",
          "2022-10-24",
          "2022-10-25",
          "2022-10-26",
          "2022-10-27",
          "2022-10-28",
          "2022-10-29",
          "2022-10-30",
          "2022-10-31",
          "2022-11-01",
          "2022-11-02",
          "2022-11-03",
          "2022-11-04",
          "2022-11-05",
          "2022-11-06",
          "2022-11-07",
          "2022-11-08",
          "2022-11-09",
          "2022-11-10",
          "2022-11-11",
          "2022-11-12",
          "2022-11-13",
          "2022-11-14",
          "2022-11-15",
          "2022-11-16",
          "2022-11-17",
          "2022-11-18",
          "2022-11-19",
          "2022-11-20",
          "2022-11-21",
          "2022-11-22",
          "2022-11-23",
          "2022-11-24",
          "2022-11-25",
          "2022-11-26",
          "2022-11-27",
          "2022-11-28",
          "2022-11-29",
          "2022-11-30",
          "2022-12-01",
          "2022-12-02",
          "2022-12-03",
          "2022-12-04",
          "2022-12-05",
          "2022-12-06",
          "2022-12-07",
          "2022-12-08",
          "2022-12-09",
          "2022-12-10",
          "2022-12-11",
          "2022-12-12",
          "2022-12-13",
          "2022-12-14",
          "2022-12-15",
          "2022-12-16",
          "2022-12-17",
          "2022-12-18",
          "2022-12-19",
          "2022-12-20",
          "2022-12-21",
          "2022-12-22",
          "2022-12-23",
          "2022-12-24",
          "2022-12-25",
          "2022-12-26",
          "2022-12-27",
          "2022-12-28",
          "2022-12-29",
          "2022-12-30",
          "2022-12-31",
          "2023-01-01",
          "2023-01-02",
          "2023-01-03",
          "2023-01-04",
          "2023-01-05",
          "2023-01-06",
          "2023-01-07",
          "2023-01-08",
          "2023-01-09",
          "2023-01-10",
          "2023-01-11",
          "2023-01-12",
          "2023-01-13",
          "2023-01-14",
          "2023-01-15",
          "2023-01-16",
          "2023-01-17",
          "2023-01-18",
          "2023-01-19"
         ],
         "y": [
          385,
          376,
          486,
          0,
          473,
          426,
          453,
          434,
          452,
          532,
          355,
          450,
          449,
          440,
          420,
          463,
          449,
          261,
          365,
          445,
          409,
          152,
          435,
          415,
          454,
          387,
          497,
          454,
          479,
          458,
          453,
          366,
          477,
          430,
          464,
          486,
          502,
          456,
          441,
          463,
          432,
          402,
          467,
          470,
          403,
          442,
          394,
          446,
          437,
          453,
          439,
          472,
          420,
          463,
          451,
          444,
          478,
          446,
          506,
          388,
          488,
          486,
          461,
          479,
          511,
          424,
          492,
          544,
          483,
          398,
          419,
          457,
          393,
          393,
          426,
          0,
          561,
          421,
          519,
          501,
          481,
          420,
          495,
          472,
          482,
          513,
          436,
          243,
          425,
          414,
          404,
          464
         ]
        }
       ],
       "layout": {
        "legend": {
         "tracegroupgap": 0
        },
        "template": {
         "data": {
          "bar": [
           {
            "error_x": {
             "color": "#2a3f5f"
            },
            "error_y": {
             "color": "#2a3f5f"
            },
            "marker": {
             "line": {
              "color": "#E5ECF6",
              "width": 0.5
             },
             "pattern": {
              "fillmode": "overlay",
              "size": 10,
              "solidity": 0.2
             }
            },
            "type": "bar"
           }
          ],
          "barpolar": [
           {
            "marker": {
             "line": {
              "color": "#E5ECF6",
              "width": 0.5
             },
             "pattern": {
              "fillmode": "overlay",
              "size": 10,
              "solidity": 0.2
             }
            },
            "type": "barpolar"
           }
          ],
          "carpet": [
           {
            "aaxis": {
             "endlinecolor": "#2a3f5f",
             "gridcolor": "white",
             "linecolor": "white",
             "minorgridcolor": "white",
             "startlinecolor": "#2a3f5f"
            },
            "baxis": {
             "endlinecolor": "#2a3f5f",
             "gridcolor": "white",
             "linecolor": "white",
             "minorgridcolor": "white",
             "startlinecolor": "#2a3f5f"
            },
            "type": "carpet"
           }
          ],
          "choropleth": [
           {
            "colorbar": {
             "outlinewidth": 0,
             "ticks": ""
            },
            "type": "choropleth"
           }
          ],
          "contour": [
           {
            "colorbar": {
             "outlinewidth": 0,
             "ticks": ""
            },
            "colorscale": [
             [
              0,
              "#0d0887"
             ],
             [
              0.1111111111111111,
              "#46039f"
             ],
             [
              0.2222222222222222,
              "#7201a8"
             ],
             [
              0.3333333333333333,
              "#9c179e"
             ],
             [
              0.4444444444444444,
              "#bd3786"
             ],
             [
              0.5555555555555556,
              "#d8576b"
             ],
             [
              0.6666666666666666,
              "#ed7953"
             ],
             [
              0.7777777777777778,
              "#fb9f3a"
             ],
             [
              0.8888888888888888,
              "#fdca26"
             ],
             [
              1,
              "#f0f921"
             ]
            ],
            "type": "contour"
           }
          ],
          "contourcarpet": [
           {
            "colorbar": {
             "outlinewidth": 0,
             "ticks": ""
            },
            "type": "contourcarpet"
           }
          ],
          "heatmap": [
           {
            "colorbar": {
             "outlinewidth": 0,
             "ticks": ""
            },
            "colorscale": [
             [
              0,
              "#0d0887"
             ],
             [
              0.1111111111111111,
              "#46039f"
             ],
             [
              0.2222222222222222,
              "#7201a8"
             ],
             [
              0.3333333333333333,
              "#9c179e"
             ],
             [
              0.4444444444444444,
              "#bd3786"
             ],
             [
              0.5555555555555556,
              "#d8576b"
             ],
             [
              0.6666666666666666,
              "#ed7953"
             ],
             [
              0.7777777777777778,
              "#fb9f3a"
             ],
             [
              0.8888888888888888,
              "#fdca26"
             ],
             [
              1,
              "#f0f921"
             ]
            ],
            "type": "heatmap"
           }
          ],
          "heatmapgl": [
           {
            "colorbar": {
             "outlinewidth": 0,
             "ticks": ""
            },
            "colorscale": [
             [
              0,
              "#0d0887"
             ],
             [
              0.1111111111111111,
              "#46039f"
             ],
             [
              0.2222222222222222,
              "#7201a8"
             ],
             [
              0.3333333333333333,
              "#9c179e"
             ],
             [
              0.4444444444444444,
              "#bd3786"
             ],
             [
              0.5555555555555556,
              "#d8576b"
             ],
             [
              0.6666666666666666,
              "#ed7953"
             ],
             [
              0.7777777777777778,
              "#fb9f3a"
             ],
             [
              0.8888888888888888,
              "#fdca26"
             ],
             [
              1,
              "#f0f921"
             ]
            ],
            "type": "heatmapgl"
           }
          ],
          "histogram": [
           {
            "marker": {
             "pattern": {
              "fillmode": "overlay",
              "size": 10,
              "solidity": 0.2
             }
            },
            "type": "histogram"
           }
          ],
          "histogram2d": [
           {
            "colorbar": {
             "outlinewidth": 0,
             "ticks": ""
            },
            "colorscale": [
             [
              0,
              "#0d0887"
             ],
             [
              0.1111111111111111,
              "#46039f"
             ],
             [
              0.2222222222222222,
              "#7201a8"
             ],
             [
              0.3333333333333333,
              "#9c179e"
             ],
             [
              0.4444444444444444,
              "#bd3786"
             ],
             [
              0.5555555555555556,
              "#d8576b"
             ],
             [
              0.6666666666666666,
              "#ed7953"
             ],
             [
              0.7777777777777778,
              "#fb9f3a"
             ],
             [
              0.8888888888888888,
              "#fdca26"
             ],
             [
              1,
              "#f0f921"
             ]
            ],
            "type": "histogram2d"
           }
          ],
          "histogram2dcontour": [
           {
            "colorbar": {
             "outlinewidth": 0,
             "ticks": ""
            },
            "colorscale": [
             [
              0,
              "#0d0887"
             ],
             [
              0.1111111111111111,
              "#46039f"
             ],
             [
              0.2222222222222222,
              "#7201a8"
             ],
             [
              0.3333333333333333,
              "#9c179e"
             ],
             [
              0.4444444444444444,
              "#bd3786"
             ],
             [
              0.5555555555555556,
              "#d8576b"
             ],
             [
              0.6666666666666666,
              "#ed7953"
             ],
             [
              0.7777777777777778,
              "#fb9f3a"
             ],
             [
              0.8888888888888888,
              "#fdca26"
             ],
             [
              1,
              "#f0f921"
             ]
            ],
            "type": "histogram2dcontour"
           }
          ],
          "mesh3d": [
           {
            "colorbar": {
             "outlinewidth": 0,
             "ticks": ""
            },
            "type": "mesh3d"
           }
          ],
          "parcoords": [
           {
            "line": {
             "colorbar": {
              "outlinewidth": 0,
              "ticks": ""
             }
            },
            "type": "parcoords"
           }
          ],
          "pie": [
           {
            "automargin": true,
            "type": "pie"
           }
          ],
          "scatter": [
           {
            "fillpattern": {
             "fillmode": "overlay",
             "size": 10,
             "solidity": 0.2
            },
            "type": "scatter"
           }
          ],
          "scatter3d": [
           {
            "line": {
             "colorbar": {
              "outlinewidth": 0,
              "ticks": ""
             }
            },
            "marker": {
             "colorbar": {
              "outlinewidth": 0,
              "ticks": ""
             }
            },
            "type": "scatter3d"
           }
          ],
          "scattercarpet": [
           {
            "marker": {
             "colorbar": {
              "outlinewidth": 0,
              "ticks": ""
             }
            },
            "type": "scattercarpet"
           }
          ],
          "scattergeo": [
           {
            "marker": {
             "colorbar": {
              "outlinewidth": 0,
              "ticks": ""
             }
            },
            "type": "scattergeo"
           }
          ],
          "scattergl": [
           {
            "marker": {
             "colorbar": {
              "outlinewidth": 0,
              "ticks": ""
             }
            },
            "type": "scattergl"
           }
          ],
          "scattermapbox": [
           {
            "marker": {
             "colorbar": {
              "outlinewidth": 0,
              "ticks": ""
             }
            },
            "type": "scattermapbox"
           }
          ],
          "scatterpolar": [
           {
            "marker": {
             "colorbar": {
              "outlinewidth": 0,
              "ticks": ""
             }
            },
            "type": "scatterpolar"
           }
          ],
          "scatterpolargl": [
           {
            "marker": {
             "colorbar": {
              "outlinewidth": 0,
              "ticks": ""
             }
            },
            "type": "scatterpolargl"
           }
          ],
          "scatterternary": [
           {
            "marker": {
             "colorbar": {
              "outlinewidth": 0,
              "ticks": ""
             }
            },
            "type": "scatterternary"
           }
          ],
          "surface": [
           {
            "colorbar": {
             "outlinewidth": 0,
             "ticks": ""
            },
            "colorscale": [
             [
              0,
              "#0d0887"
             ],
             [
              0.1111111111111111,
              "#46039f"
             ],
             [
              0.2222222222222222,
              "#7201a8"
             ],
             [
              0.3333333333333333,
              "#9c179e"
             ],
             [
              0.4444444444444444,
              "#bd3786"
             ],
             [
              0.5555555555555556,
              "#d8576b"
             ],
             [
              0.6666666666666666,
              "#ed7953"
             ],
             [
              0.7777777777777778,
              "#fb9f3a"
             ],
             [
              0.8888888888888888,
              "#fdca26"
             ],
             [
              1,
              "#f0f921"
             ]
            ],
            "type": "surface"
           }
          ],
          "table": [
           {
            "cells": {
             "fill": {
              "color": "#EBF0F8"
             },
             "line": {
              "color": "white"
             }
            },
            "header": {
             "fill": {
              "color": "#C8D4E3"
             },
             "line": {
              "color": "white"
             }
            },
            "type": "table"
           }
          ]
         },
         "layout": {
          "annotationdefaults": {
           "arrowcolor": "#2a3f5f",
           "arrowhead": 0,
           "arrowwidth": 1
          },
          "autotypenumbers": "strict",
          "coloraxis": {
           "colorbar": {
            "outlinewidth": 0,
            "ticks": ""
           }
          },
          "colorscale": {
           "diverging": [
            [
             0,
             "#8e0152"
            ],
            [
             0.1,
             "#c51b7d"
            ],
            [
             0.2,
             "#de77ae"
            ],
            [
             0.3,
             "#f1b6da"
            ],
            [
             0.4,
             "#fde0ef"
            ],
            [
             0.5,
             "#f7f7f7"
            ],
            [
             0.6,
             "#e6f5d0"
            ],
            [
             0.7,
             "#b8e186"
            ],
            [
             0.8,
             "#7fbc41"
            ],
            [
             0.9,
             "#4d9221"
            ],
            [
             1,
             "#276419"
            ]
           ],
           "sequential": [
            [
             0,
             "#0d0887"
            ],
            [
             0.1111111111111111,
             "#46039f"
            ],
            [
             0.2222222222222222,
             "#7201a8"
            ],
            [
             0.3333333333333333,
             "#9c179e"
            ],
            [
             0.4444444444444444,
             "#bd3786"
            ],
            [
             0.5555555555555556,
             "#d8576b"
            ],
            [
             0.6666666666666666,
             "#ed7953"
            ],
            [
             0.7777777777777778,
             "#fb9f3a"
            ],
            [
             0.8888888888888888,
             "#fdca26"
            ],
            [
             1,
             "#f0f921"
            ]
           ],
           "sequentialminus": [
            [
             0,
             "#0d0887"
            ],
            [
             0.1111111111111111,
             "#46039f"
            ],
            [
             0.2222222222222222,
             "#7201a8"
            ],
            [
             0.3333333333333333,
             "#9c179e"
            ],
            [
             0.4444444444444444,
             "#bd3786"
            ],
            [
             0.5555555555555556,
             "#d8576b"
            ],
            [
             0.6666666666666666,
             "#ed7953"
            ],
            [
             0.7777777777777778,
             "#fb9f3a"
            ],
            [
             0.8888888888888888,
             "#fdca26"
            ],
            [
             1,
             "#f0f921"
            ]
           ]
          },
          "colorway": [
           "#636efa",
           "#EF553B",
           "#00cc96",
           "#ab63fa",
           "#FFA15A",
           "#19d3f3",
           "#FF6692",
           "#B6E880",
           "#FF97FF",
           "#FECB52"
          ],
          "font": {
           "color": "#2a3f5f"
          },
          "geo": {
           "bgcolor": "white",
           "lakecolor": "white",
           "landcolor": "#E5ECF6",
           "showlakes": true,
           "showland": true,
           "subunitcolor": "white"
          },
          "hoverlabel": {
           "align": "left"
          },
          "hovermode": "closest",
          "mapbox": {
           "style": "light"
          },
          "paper_bgcolor": "white",
          "plot_bgcolor": "#E5ECF6",
          "polar": {
           "angularaxis": {
            "gridcolor": "white",
            "linecolor": "white",
            "ticks": ""
           },
           "bgcolor": "#E5ECF6",
           "radialaxis": {
            "gridcolor": "white",
            "linecolor": "white",
            "ticks": ""
           }
          },
          "scene": {
           "xaxis": {
            "backgroundcolor": "#E5ECF6",
            "gridcolor": "white",
            "gridwidth": 2,
            "linecolor": "white",
            "showbackground": true,
            "ticks": "",
            "zerolinecolor": "white"
           },
           "yaxis": {
            "backgroundcolor": "#E5ECF6",
            "gridcolor": "white",
            "gridwidth": 2,
            "linecolor": "white",
            "showbackground": true,
            "ticks": "",
            "zerolinecolor": "white"
           },
           "zaxis": {
            "backgroundcolor": "#E5ECF6",
            "gridcolor": "white",
            "gridwidth": 2,
            "linecolor": "white",
            "showbackground": true,
            "ticks": "",
            "zerolinecolor": "white"
           }
          },
          "shapedefaults": {
           "line": {
            "color": "#2a3f5f"
           }
          },
          "ternary": {
           "aaxis": {
            "gridcolor": "white",
            "linecolor": "white",
            "ticks": ""
           },
           "baxis": {
            "gridcolor": "white",
            "linecolor": "white",
            "ticks": ""
           },
           "bgcolor": "#E5ECF6",
           "caxis": {
            "gridcolor": "white",
            "linecolor": "white",
            "ticks": ""
           }
          },
          "title": {
           "x": 0.05
          },
          "xaxis": {
           "automargin": true,
           "gridcolor": "white",
           "linecolor": "white",
           "ticks": "",
           "title": {
            "standoff": 15
           },
           "zerolinecolor": "white",
           "zerolinewidth": 2
          },
          "yaxis": {
           "automargin": true,
           "gridcolor": "white",
           "linecolor": "white",
           "ticks": "",
           "title": {
            "standoff": 15
           },
           "zerolinecolor": "white",
           "zerolinewidth": 2
          }
         }
        },
        "title": {
         "text": "Total sleep time vs Deep sleep time"
        },
        "xaxis": {
         "anchor": "y",
         "domain": [
          0,
          1
         ],
         "title": {
          "text": "x"
         }
        },
        "yaxis": {
         "anchor": "x",
         "domain": [
          0,
          1
         ],
         "title": {
          "text": "y"
         }
        }
       }
      },
      "text/html": [
       "<div>                            <div id=\"888f6348-247a-428d-95cb-21fb90e4354d\" class=\"plotly-graph-div\" style=\"height:525px; width:100%;\"></div>            <script type=\"text/javascript\">                require([\"plotly\"], function(Plotly) {                    window.PLOTLYENV=window.PLOTLYENV || {};                                    if (document.getElementById(\"888f6348-247a-428d-95cb-21fb90e4354d\")) {                    Plotly.newPlot(                        \"888f6348-247a-428d-95cb-21fb90e4354d\",                        [{\"hovertemplate\":\"x=%{x}<br>y=%{y}<extra></extra>\",\"legendgroup\":\"\",\"line\":{\"color\":\"#636efa\",\"dash\":\"solid\"},\"marker\":{\"symbol\":\"circle\"},\"mode\":\"lines\",\"name\":\"\",\"orientation\":\"v\",\"showlegend\":false,\"x\":[\"2022-10-20\",\"2022-10-21\",\"2022-10-22\",\"2022-10-23\",\"2022-10-24\",\"2022-10-25\",\"2022-10-26\",\"2022-10-27\",\"2022-10-28\",\"2022-10-29\",\"2022-10-30\",\"2022-10-31\",\"2022-11-01\",\"2022-11-02\",\"2022-11-03\",\"2022-11-04\",\"2022-11-05\",\"2022-11-06\",\"2022-11-07\",\"2022-11-08\",\"2022-11-09\",\"2022-11-10\",\"2022-11-11\",\"2022-11-12\",\"2022-11-13\",\"2022-11-14\",\"2022-11-15\",\"2022-11-16\",\"2022-11-17\",\"2022-11-18\",\"2022-11-19\",\"2022-11-20\",\"2022-11-21\",\"2022-11-22\",\"2022-11-23\",\"2022-11-24\",\"2022-11-25\",\"2022-11-26\",\"2022-11-27\",\"2022-11-28\",\"2022-11-29\",\"2022-11-30\",\"2022-12-01\",\"2022-12-02\",\"2022-12-03\",\"2022-12-04\",\"2022-12-05\",\"2022-12-06\",\"2022-12-07\",\"2022-12-08\",\"2022-12-09\",\"2022-12-10\",\"2022-12-11\",\"2022-12-12\",\"2022-12-13\",\"2022-12-14\",\"2022-12-15\",\"2022-12-16\",\"2022-12-17\",\"2022-12-18\",\"2022-12-19\",\"2022-12-20\",\"2022-12-21\",\"2022-12-22\",\"2022-12-23\",\"2022-12-24\",\"2022-12-25\",\"2022-12-26\",\"2022-12-27\",\"2022-12-28\",\"2022-12-29\",\"2022-12-30\",\"2022-12-31\",\"2023-01-01\",\"2023-01-02\",\"2023-01-03\",\"2023-01-04\",\"2023-01-05\",\"2023-01-06\",\"2023-01-07\",\"2023-01-08\",\"2023-01-09\",\"2023-01-10\",\"2023-01-11\",\"2023-01-12\",\"2023-01-13\",\"2023-01-14\",\"2023-01-15\",\"2023-01-16\",\"2023-01-17\",\"2023-01-18\",\"2023-01-19\"],\"xaxis\":\"x\",\"y\":[96,125,118,0,177,94,83,149,121,111,55,125,160,118,185,112,109,66,96,169,117,79,150,128,143,156,215,122,126,203,92,101,139,161,139,129,211,134,102,139,103,120,144,128,110,157,144,124,130,169,128,132,168,92,152,123,148,155,172,79,126,149,142,120,194,113,165,130,91,157,146,100,162,127,119,0,265,162,110,90,112,162,151,176,190,189,148,26,154,146,99,168],\"yaxis\":\"y\",\"type\":\"scatter\"},{\"name\":\"Total sleep time\",\"x\":[\"2022-10-20\",\"2022-10-21\",\"2022-10-22\",\"2022-10-23\",\"2022-10-24\",\"2022-10-25\",\"2022-10-26\",\"2022-10-27\",\"2022-10-28\",\"2022-10-29\",\"2022-10-30\",\"2022-10-31\",\"2022-11-01\",\"2022-11-02\",\"2022-11-03\",\"2022-11-04\",\"2022-11-05\",\"2022-11-06\",\"2022-11-07\",\"2022-11-08\",\"2022-11-09\",\"2022-11-10\",\"2022-11-11\",\"2022-11-12\",\"2022-11-13\",\"2022-11-14\",\"2022-11-15\",\"2022-11-16\",\"2022-11-17\",\"2022-11-18\",\"2022-11-19\",\"2022-11-20\",\"2022-11-21\",\"2022-11-22\",\"2022-11-23\",\"2022-11-24\",\"2022-11-25\",\"2022-11-26\",\"2022-11-27\",\"2022-11-28\",\"2022-11-29\",\"2022-11-30\",\"2022-12-01\",\"2022-12-02\",\"2022-12-03\",\"2022-12-04\",\"2022-12-05\",\"2022-12-06\",\"2022-12-07\",\"2022-12-08\",\"2022-12-09\",\"2022-12-10\",\"2022-12-11\",\"2022-12-12\",\"2022-12-13\",\"2022-12-14\",\"2022-12-15\",\"2022-12-16\",\"2022-12-17\",\"2022-12-18\",\"2022-12-19\",\"2022-12-20\",\"2022-12-21\",\"2022-12-22\",\"2022-12-23\",\"2022-12-24\",\"2022-12-25\",\"2022-12-26\",\"2022-12-27\",\"2022-12-28\",\"2022-12-29\",\"2022-12-30\",\"2022-12-31\",\"2023-01-01\",\"2023-01-02\",\"2023-01-03\",\"2023-01-04\",\"2023-01-05\",\"2023-01-06\",\"2023-01-07\",\"2023-01-08\",\"2023-01-09\",\"2023-01-10\",\"2023-01-11\",\"2023-01-12\",\"2023-01-13\",\"2023-01-14\",\"2023-01-15\",\"2023-01-16\",\"2023-01-17\",\"2023-01-18\",\"2023-01-19\"],\"y\":[385,376,486,0,473,426,453,434,452,532,355,450,449,440,420,463,449,261,365,445,409,152,435,415,454,387,497,454,479,458,453,366,477,430,464,486,502,456,441,463,432,402,467,470,403,442,394,446,437,453,439,472,420,463,451,444,478,446,506,388,488,486,461,479,511,424,492,544,483,398,419,457,393,393,426,0,561,421,519,501,481,420,495,472,482,513,436,243,425,414,404,464],\"type\":\"bar\"}],                        {\"template\":{\"data\":{\"histogram2dcontour\":[{\"type\":\"histogram2dcontour\",\"colorbar\":{\"outlinewidth\":0,\"ticks\":\"\"},\"colorscale\":[[0.0,\"#0d0887\"],[0.1111111111111111,\"#46039f\"],[0.2222222222222222,\"#7201a8\"],[0.3333333333333333,\"#9c179e\"],[0.4444444444444444,\"#bd3786\"],[0.5555555555555556,\"#d8576b\"],[0.6666666666666666,\"#ed7953\"],[0.7777777777777778,\"#fb9f3a\"],[0.8888888888888888,\"#fdca26\"],[1.0,\"#f0f921\"]]}],\"choropleth\":[{\"type\":\"choropleth\",\"colorbar\":{\"outlinewidth\":0,\"ticks\":\"\"}}],\"histogram2d\":[{\"type\":\"histogram2d\",\"colorbar\":{\"outlinewidth\":0,\"ticks\":\"\"},\"colorscale\":[[0.0,\"#0d0887\"],[0.1111111111111111,\"#46039f\"],[0.2222222222222222,\"#7201a8\"],[0.3333333333333333,\"#9c179e\"],[0.4444444444444444,\"#bd3786\"],[0.5555555555555556,\"#d8576b\"],[0.6666666666666666,\"#ed7953\"],[0.7777777777777778,\"#fb9f3a\"],[0.8888888888888888,\"#fdca26\"],[1.0,\"#f0f921\"]]}],\"heatmap\":[{\"type\":\"heatmap\",\"colorbar\":{\"outlinewidth\":0,\"ticks\":\"\"},\"colorscale\":[[0.0,\"#0d0887\"],[0.1111111111111111,\"#46039f\"],[0.2222222222222222,\"#7201a8\"],[0.3333333333333333,\"#9c179e\"],[0.4444444444444444,\"#bd3786\"],[0.5555555555555556,\"#d8576b\"],[0.6666666666666666,\"#ed7953\"],[0.7777777777777778,\"#fb9f3a\"],[0.8888888888888888,\"#fdca26\"],[1.0,\"#f0f921\"]]}],\"heatmapgl\":[{\"type\":\"heatmapgl\",\"colorbar\":{\"outlinewidth\":0,\"ticks\":\"\"},\"colorscale\":[[0.0,\"#0d0887\"],[0.1111111111111111,\"#46039f\"],[0.2222222222222222,\"#7201a8\"],[0.3333333333333333,\"#9c179e\"],[0.4444444444444444,\"#bd3786\"],[0.5555555555555556,\"#d8576b\"],[0.6666666666666666,\"#ed7953\"],[0.7777777777777778,\"#fb9f3a\"],[0.8888888888888888,\"#fdca26\"],[1.0,\"#f0f921\"]]}],\"contourcarpet\":[{\"type\":\"contourcarpet\",\"colorbar\":{\"outlinewidth\":0,\"ticks\":\"\"}}],\"contour\":[{\"type\":\"contour\",\"colorbar\":{\"outlinewidth\":0,\"ticks\":\"\"},\"colorscale\":[[0.0,\"#0d0887\"],[0.1111111111111111,\"#46039f\"],[0.2222222222222222,\"#7201a8\"],[0.3333333333333333,\"#9c179e\"],[0.4444444444444444,\"#bd3786\"],[0.5555555555555556,\"#d8576b\"],[0.6666666666666666,\"#ed7953\"],[0.7777777777777778,\"#fb9f3a\"],[0.8888888888888888,\"#fdca26\"],[1.0,\"#f0f921\"]]}],\"surface\":[{\"type\":\"surface\",\"colorbar\":{\"outlinewidth\":0,\"ticks\":\"\"},\"colorscale\":[[0.0,\"#0d0887\"],[0.1111111111111111,\"#46039f\"],[0.2222222222222222,\"#7201a8\"],[0.3333333333333333,\"#9c179e\"],[0.4444444444444444,\"#bd3786\"],[0.5555555555555556,\"#d8576b\"],[0.6666666666666666,\"#ed7953\"],[0.7777777777777778,\"#fb9f3a\"],[0.8888888888888888,\"#fdca26\"],[1.0,\"#f0f921\"]]}],\"mesh3d\":[{\"type\":\"mesh3d\",\"colorbar\":{\"outlinewidth\":0,\"ticks\":\"\"}}],\"scatter\":[{\"fillpattern\":{\"fillmode\":\"overlay\",\"size\":10,\"solidity\":0.2},\"type\":\"scatter\"}],\"parcoords\":[{\"type\":\"parcoords\",\"line\":{\"colorbar\":{\"outlinewidth\":0,\"ticks\":\"\"}}}],\"scatterpolargl\":[{\"type\":\"scatterpolargl\",\"marker\":{\"colorbar\":{\"outlinewidth\":0,\"ticks\":\"\"}}}],\"bar\":[{\"error_x\":{\"color\":\"#2a3f5f\"},\"error_y\":{\"color\":\"#2a3f5f\"},\"marker\":{\"line\":{\"color\":\"#E5ECF6\",\"width\":0.5},\"pattern\":{\"fillmode\":\"overlay\",\"size\":10,\"solidity\":0.2}},\"type\":\"bar\"}],\"scattergeo\":[{\"type\":\"scattergeo\",\"marker\":{\"colorbar\":{\"outlinewidth\":0,\"ticks\":\"\"}}}],\"scatterpolar\":[{\"type\":\"scatterpolar\",\"marker\":{\"colorbar\":{\"outlinewidth\":0,\"ticks\":\"\"}}}],\"histogram\":[{\"marker\":{\"pattern\":{\"fillmode\":\"overlay\",\"size\":10,\"solidity\":0.2}},\"type\":\"histogram\"}],\"scattergl\":[{\"type\":\"scattergl\",\"marker\":{\"colorbar\":{\"outlinewidth\":0,\"ticks\":\"\"}}}],\"scatter3d\":[{\"type\":\"scatter3d\",\"line\":{\"colorbar\":{\"outlinewidth\":0,\"ticks\":\"\"}},\"marker\":{\"colorbar\":{\"outlinewidth\":0,\"ticks\":\"\"}}}],\"scattermapbox\":[{\"type\":\"scattermapbox\",\"marker\":{\"colorbar\":{\"outlinewidth\":0,\"ticks\":\"\"}}}],\"scatterternary\":[{\"type\":\"scatterternary\",\"marker\":{\"colorbar\":{\"outlinewidth\":0,\"ticks\":\"\"}}}],\"scattercarpet\":[{\"type\":\"scattercarpet\",\"marker\":{\"colorbar\":{\"outlinewidth\":0,\"ticks\":\"\"}}}],\"carpet\":[{\"aaxis\":{\"endlinecolor\":\"#2a3f5f\",\"gridcolor\":\"white\",\"linecolor\":\"white\",\"minorgridcolor\":\"white\",\"startlinecolor\":\"#2a3f5f\"},\"baxis\":{\"endlinecolor\":\"#2a3f5f\",\"gridcolor\":\"white\",\"linecolor\":\"white\",\"minorgridcolor\":\"white\",\"startlinecolor\":\"#2a3f5f\"},\"type\":\"carpet\"}],\"table\":[{\"cells\":{\"fill\":{\"color\":\"#EBF0F8\"},\"line\":{\"color\":\"white\"}},\"header\":{\"fill\":{\"color\":\"#C8D4E3\"},\"line\":{\"color\":\"white\"}},\"type\":\"table\"}],\"barpolar\":[{\"marker\":{\"line\":{\"color\":\"#E5ECF6\",\"width\":0.5},\"pattern\":{\"fillmode\":\"overlay\",\"size\":10,\"solidity\":0.2}},\"type\":\"barpolar\"}],\"pie\":[{\"automargin\":true,\"type\":\"pie\"}]},\"layout\":{\"autotypenumbers\":\"strict\",\"colorway\":[\"#636efa\",\"#EF553B\",\"#00cc96\",\"#ab63fa\",\"#FFA15A\",\"#19d3f3\",\"#FF6692\",\"#B6E880\",\"#FF97FF\",\"#FECB52\"],\"font\":{\"color\":\"#2a3f5f\"},\"hovermode\":\"closest\",\"hoverlabel\":{\"align\":\"left\"},\"paper_bgcolor\":\"white\",\"plot_bgcolor\":\"#E5ECF6\",\"polar\":{\"bgcolor\":\"#E5ECF6\",\"angularaxis\":{\"gridcolor\":\"white\",\"linecolor\":\"white\",\"ticks\":\"\"},\"radialaxis\":{\"gridcolor\":\"white\",\"linecolor\":\"white\",\"ticks\":\"\"}},\"ternary\":{\"bgcolor\":\"#E5ECF6\",\"aaxis\":{\"gridcolor\":\"white\",\"linecolor\":\"white\",\"ticks\":\"\"},\"baxis\":{\"gridcolor\":\"white\",\"linecolor\":\"white\",\"ticks\":\"\"},\"caxis\":{\"gridcolor\":\"white\",\"linecolor\":\"white\",\"ticks\":\"\"}},\"coloraxis\":{\"colorbar\":{\"outlinewidth\":0,\"ticks\":\"\"}},\"colorscale\":{\"sequential\":[[0.0,\"#0d0887\"],[0.1111111111111111,\"#46039f\"],[0.2222222222222222,\"#7201a8\"],[0.3333333333333333,\"#9c179e\"],[0.4444444444444444,\"#bd3786\"],[0.5555555555555556,\"#d8576b\"],[0.6666666666666666,\"#ed7953\"],[0.7777777777777778,\"#fb9f3a\"],[0.8888888888888888,\"#fdca26\"],[1.0,\"#f0f921\"]],\"sequentialminus\":[[0.0,\"#0d0887\"],[0.1111111111111111,\"#46039f\"],[0.2222222222222222,\"#7201a8\"],[0.3333333333333333,\"#9c179e\"],[0.4444444444444444,\"#bd3786\"],[0.5555555555555556,\"#d8576b\"],[0.6666666666666666,\"#ed7953\"],[0.7777777777777778,\"#fb9f3a\"],[0.8888888888888888,\"#fdca26\"],[1.0,\"#f0f921\"]],\"diverging\":[[0,\"#8e0152\"],[0.1,\"#c51b7d\"],[0.2,\"#de77ae\"],[0.3,\"#f1b6da\"],[0.4,\"#fde0ef\"],[0.5,\"#f7f7f7\"],[0.6,\"#e6f5d0\"],[0.7,\"#b8e186\"],[0.8,\"#7fbc41\"],[0.9,\"#4d9221\"],[1,\"#276419\"]]},\"xaxis\":{\"gridcolor\":\"white\",\"linecolor\":\"white\",\"ticks\":\"\",\"title\":{\"standoff\":15},\"zerolinecolor\":\"white\",\"automargin\":true,\"zerolinewidth\":2},\"yaxis\":{\"gridcolor\":\"white\",\"linecolor\":\"white\",\"ticks\":\"\",\"title\":{\"standoff\":15},\"zerolinecolor\":\"white\",\"automargin\":true,\"zerolinewidth\":2},\"scene\":{\"xaxis\":{\"backgroundcolor\":\"#E5ECF6\",\"gridcolor\":\"white\",\"linecolor\":\"white\",\"showbackground\":true,\"ticks\":\"\",\"zerolinecolor\":\"white\",\"gridwidth\":2},\"yaxis\":{\"backgroundcolor\":\"#E5ECF6\",\"gridcolor\":\"white\",\"linecolor\":\"white\",\"showbackground\":true,\"ticks\":\"\",\"zerolinecolor\":\"white\",\"gridwidth\":2},\"zaxis\":{\"backgroundcolor\":\"#E5ECF6\",\"gridcolor\":\"white\",\"linecolor\":\"white\",\"showbackground\":true,\"ticks\":\"\",\"zerolinecolor\":\"white\",\"gridwidth\":2}},\"shapedefaults\":{\"line\":{\"color\":\"#2a3f5f\"}},\"annotationdefaults\":{\"arrowcolor\":\"#2a3f5f\",\"arrowhead\":0,\"arrowwidth\":1},\"geo\":{\"bgcolor\":\"white\",\"landcolor\":\"#E5ECF6\",\"subunitcolor\":\"white\",\"showland\":true,\"showlakes\":true,\"lakecolor\":\"white\"},\"title\":{\"x\":0.05},\"mapbox\":{\"style\":\"light\"}}},\"xaxis\":{\"anchor\":\"y\",\"domain\":[0.0,1.0],\"title\":{\"text\":\"x\"}},\"yaxis\":{\"anchor\":\"x\",\"domain\":[0.0,1.0],\"title\":{\"text\":\"y\"}},\"legend\":{\"tracegroupgap\":0},\"title\":{\"text\":\"Total sleep time vs Deep sleep time\"}},                        {\"responsive\": true}                    ).then(function(){\n",
       "                            \n",
       "var gd = document.getElementById('888f6348-247a-428d-95cb-21fb90e4354d');\n",
       "var x = new MutationObserver(function (mutations, observer) {{\n",
       "        var display = window.getComputedStyle(gd).display;\n",
       "        if (!display || display === 'none') {{\n",
       "            console.log([gd, 'removed!']);\n",
       "            Plotly.purge(gd);\n",
       "            observer.disconnect();\n",
       "        }}\n",
       "}});\n",
       "\n",
       "// Listen for the removal of the full notebook cells\n",
       "var notebookContainer = gd.closest('#notebook-container');\n",
       "if (notebookContainer) {{\n",
       "    x.observe(notebookContainer, {childList: true});\n",
       "}}\n",
       "\n",
       "// Listen for the clearing of the current output cell\n",
       "var outputEl = gd.closest('.output');\n",
       "if (outputEl) {{\n",
       "    x.observe(outputEl, {childList: true});\n",
       "}}\n",
       "\n",
       "                        })                };                });            </script>        </div>"
      ]
     },
     "metadata": {},
     "output_type": "display_data"
    }
   ],
   "source": [
    "## comparing my Total vs Deep Sleep time \n",
    "fig = px.line(x=sleep['date'], y=sleep['deepSleepTime'], title=\"Total sleep time vs Deep sleep time\")\n",
    "fig.add_bar(x=sleep['date'], y=sleep['totalSleeptime'], name=\"Total sleep time\")\n",
    "fig.show()"
   ]
  }
 ],
 "metadata": {
  "kernelspec": {
   "display_name": "Python 3 (ipykernel)",
   "language": "python",
   "name": "python3"
  },
  "language_info": {
   "codemirror_mode": {
    "name": "ipython",
    "version": 3
   },
   "file_extension": ".py",
   "mimetype": "text/x-python",
   "name": "python",
   "nbconvert_exporter": "python",
   "pygments_lexer": "ipython3",
   "version": "3.9.13"
  }
 },
 "nbformat": 4,
 "nbformat_minor": 5
}
